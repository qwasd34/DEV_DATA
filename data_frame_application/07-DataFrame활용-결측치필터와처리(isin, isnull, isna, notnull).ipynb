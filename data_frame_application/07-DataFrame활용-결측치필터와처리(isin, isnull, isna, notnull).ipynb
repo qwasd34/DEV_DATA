{
 "cells": [
  {
   "cell_type": "markdown",
   "id": "73f93aa0",
   "metadata": {},
   "source": [
    "## 결측치를 제어해서 조건문을 단순화 시키기\n",
    "- 조건문이 복잡해지기 전에 미리 데이터를 정리하는 연습을 해보자.\n",
    "- isin, isnull, notnull 메소드는 Series, DataFrame 모두 있다.\n",
    "\n",
    "**isin**\n",
    "- https://pandas.pydata.org/docs/reference/api/pandas.Series.isin.html\n",
    "- https://pandas.pydata.org/docs/reference/api/pandas.DataFrame.isin.html\n",
    "\n",
    "**isnull**\n",
    "- https://pandas.pydata.org/docs/reference/api/pandas.Series.isnull.html\n",
    "- https://pandas.pydata.org/docs/reference/api/pandas.DataFrame.isnull.html\n",
    "\n",
    "**notnull**\n",
    "- https://pandas.pydata.org/docs/reference/api/pandas.Series.notnull.html\n",
    "- https://pandas.pydata.org/docs/reference/api/pandas.DataFrame.notnull.html"
   ]
  },
  {
   "cell_type": "code",
   "execution_count": 1,
   "id": "ef73f7a1",
   "metadata": {},
   "outputs": [],
   "source": [
    "# 참조\n",
    "import pandas as pd"
   ]
  },
  {
   "cell_type": "code",
   "execution_count": 3,
   "id": "0fd039a3",
   "metadata": {
    "scrolled": true
   },
   "outputs": [
    {
     "data": {
      "text/html": [
       "<div>\n",
       "<style scoped>\n",
       "    .dataframe tbody tr th:only-of-type {\n",
       "        vertical-align: middle;\n",
       "    }\n",
       "\n",
       "    .dataframe tbody tr th {\n",
       "        vertical-align: top;\n",
       "    }\n",
       "\n",
       "    .dataframe thead th {\n",
       "        text-align: right;\n",
       "    }\n",
       "</style>\n",
       "<table border=\"1\" class=\"dataframe\">\n",
       "  <thead>\n",
       "    <tr style=\"text-align: right;\">\n",
       "      <th></th>\n",
       "      <th>pclass</th>\n",
       "      <th>survived</th>\n",
       "      <th>sex</th>\n",
       "      <th>age</th>\n",
       "      <th>fare</th>\n",
       "    </tr>\n",
       "    <tr>\n",
       "      <th>name</th>\n",
       "      <th></th>\n",
       "      <th></th>\n",
       "      <th></th>\n",
       "      <th></th>\n",
       "      <th></th>\n",
       "    </tr>\n",
       "  </thead>\n",
       "  <tbody>\n",
       "    <tr>\n",
       "      <th>Allen, Miss. Elisabeth Walton</th>\n",
       "      <td>1</td>\n",
       "      <td>1</td>\n",
       "      <td>female</td>\n",
       "      <td>29.0000</td>\n",
       "      <td>211.3375</td>\n",
       "    </tr>\n",
       "    <tr>\n",
       "      <th>Allison, Master. Hudson Trevor</th>\n",
       "      <td>1</td>\n",
       "      <td>1</td>\n",
       "      <td>male</td>\n",
       "      <td>0.9167</td>\n",
       "      <td>151.5500</td>\n",
       "    </tr>\n",
       "    <tr>\n",
       "      <th>Allison, Miss. Helen Loraine</th>\n",
       "      <td>1</td>\n",
       "      <td>0</td>\n",
       "      <td>female</td>\n",
       "      <td>2.0000</td>\n",
       "      <td>151.5500</td>\n",
       "    </tr>\n",
       "    <tr>\n",
       "      <th>Allison, Mr. Hudson Joshua Creighton</th>\n",
       "      <td>1</td>\n",
       "      <td>0</td>\n",
       "      <td>male</td>\n",
       "      <td>30.0000</td>\n",
       "      <td>151.5500</td>\n",
       "    </tr>\n",
       "    <tr>\n",
       "      <th>Allison, Mrs. Hudson J C (Bessie Waldo Daniels)</th>\n",
       "      <td>1</td>\n",
       "      <td>0</td>\n",
       "      <td>female</td>\n",
       "      <td>25.0000</td>\n",
       "      <td>151.5500</td>\n",
       "    </tr>\n",
       "    <tr>\n",
       "      <th>...</th>\n",
       "      <td>...</td>\n",
       "      <td>...</td>\n",
       "      <td>...</td>\n",
       "      <td>...</td>\n",
       "      <td>...</td>\n",
       "    </tr>\n",
       "    <tr>\n",
       "      <th>Zabour, Miss. Hileni</th>\n",
       "      <td>3</td>\n",
       "      <td>0</td>\n",
       "      <td>female</td>\n",
       "      <td>14.5000</td>\n",
       "      <td>14.4542</td>\n",
       "    </tr>\n",
       "    <tr>\n",
       "      <th>Zabour, Miss. Thamine</th>\n",
       "      <td>3</td>\n",
       "      <td>0</td>\n",
       "      <td>female</td>\n",
       "      <td>NaN</td>\n",
       "      <td>14.4542</td>\n",
       "    </tr>\n",
       "    <tr>\n",
       "      <th>Zakarian, Mr. Mapriededer</th>\n",
       "      <td>3</td>\n",
       "      <td>0</td>\n",
       "      <td>male</td>\n",
       "      <td>26.5000</td>\n",
       "      <td>7.2250</td>\n",
       "    </tr>\n",
       "    <tr>\n",
       "      <th>Zakarian, Mr. Ortin</th>\n",
       "      <td>3</td>\n",
       "      <td>0</td>\n",
       "      <td>male</td>\n",
       "      <td>27.0000</td>\n",
       "      <td>7.2250</td>\n",
       "    </tr>\n",
       "    <tr>\n",
       "      <th>Zimmerman, Mr. Leo</th>\n",
       "      <td>3</td>\n",
       "      <td>0</td>\n",
       "      <td>male</td>\n",
       "      <td>29.0000</td>\n",
       "      <td>7.8750</td>\n",
       "    </tr>\n",
       "  </tbody>\n",
       "</table>\n",
       "<p>1309 rows × 5 columns</p>\n",
       "</div>"
      ],
      "text/plain": [
       "                                                 pclass  survived     sex  \\\n",
       "name                                                                        \n",
       "Allen, Miss. Elisabeth Walton                         1         1  female   \n",
       "Allison, Master. Hudson Trevor                        1         1    male   \n",
       "Allison, Miss. Helen Loraine                          1         0  female   \n",
       "Allison, Mr. Hudson Joshua Creighton                  1         0    male   \n",
       "Allison, Mrs. Hudson J C (Bessie Waldo Daniels)       1         0  female   \n",
       "...                                                 ...       ...     ...   \n",
       "Zabour, Miss. Hileni                                  3         0  female   \n",
       "Zabour, Miss. Thamine                                 3         0  female   \n",
       "Zakarian, Mr. Mapriededer                             3         0    male   \n",
       "Zakarian, Mr. Ortin                                   3         0    male   \n",
       "Zimmerman, Mr. Leo                                    3         0    male   \n",
       "\n",
       "                                                     age      fare  \n",
       "name                                                                \n",
       "Allen, Miss. Elisabeth Walton                    29.0000  211.3375  \n",
       "Allison, Master. Hudson Trevor                    0.9167  151.5500  \n",
       "Allison, Miss. Helen Loraine                      2.0000  151.5500  \n",
       "Allison, Mr. Hudson Joshua Creighton             30.0000  151.5500  \n",
       "Allison, Mrs. Hudson J C (Bessie Waldo Daniels)  25.0000  151.5500  \n",
       "...                                                  ...       ...  \n",
       "Zabour, Miss. Hileni                             14.5000   14.4542  \n",
       "Zabour, Miss. Thamine                                NaN   14.4542  \n",
       "Zakarian, Mr. Mapriededer                        26.5000    7.2250  \n",
       "Zakarian, Mr. Ortin                              27.0000    7.2250  \n",
       "Zimmerman, Mr. Leo                               29.0000    7.8750  \n",
       "\n",
       "[1309 rows x 5 columns]"
      ]
     },
     "execution_count": 3,
     "metadata": {},
     "output_type": "execute_result"
    }
   ],
   "source": [
    "# 데이터프레임 생성\n",
    "cols = ['name', 'survived', 'pclass', 'fare', 'sex', 'age']\n",
    "tt = pd.read_excel('titanic3.xls', usecols=cols, index_col='name')\n",
    "tt"
   ]
  },
  {
   "cell_type": "markdown",
   "id": "d1d7aa33",
   "metadata": {},
   "source": [
    "## 상류층 | 중산층 모두 찾을 조건문(마스크)를 만들 때\n",
    "- 기존에 배운 방식으로 한다면"
   ]
  },
  {
   "cell_type": "code",
   "execution_count": 15,
   "id": "a0d9c490",
   "metadata": {
    "scrolled": true
   },
   "outputs": [
    {
     "data": {
      "text/plain": [
       "name\n",
       "Allen, Miss. Elisabeth Walton                       True\n",
       "Allison, Master. Hudson Trevor                      True\n",
       "Allison, Miss. Helen Loraine                        True\n",
       "Allison, Mr. Hudson Joshua Creighton                True\n",
       "Allison, Mrs. Hudson J C (Bessie Waldo Daniels)     True\n",
       "                                                   ...  \n",
       "Zabour, Miss. Hileni                               False\n",
       "Zabour, Miss. Thamine                              False\n",
       "Zakarian, Mr. Mapriededer                          False\n",
       "Zakarian, Mr. Ortin                                False\n",
       "Zimmerman, Mr. Leo                                 False\n",
       "Name: pclass, Length: 1309, dtype: bool"
      ]
     },
     "execution_count": 15,
     "metadata": {},
     "output_type": "execute_result"
    }
   ],
   "source": [
    "pclass_1_mask=tt['pclass']==1 \n",
    "pclass_2_mask=tt['pclass']==2 \n",
    "pclass_1_mask | pclass_2_mask"
   ]
  },
  {
   "cell_type": "code",
   "execution_count": 17,
   "id": "1c4f9e29",
   "metadata": {
    "scrolled": true
   },
   "outputs": [
    {
     "data": {
      "text/plain": [
       "name\n",
       "Allen, Miss. Elisabeth Walton                       True\n",
       "Allison, Master. Hudson Trevor                      True\n",
       "Allison, Miss. Helen Loraine                        True\n",
       "Allison, Mr. Hudson Joshua Creighton                True\n",
       "Allison, Mrs. Hudson J C (Bessie Waldo Daniels)     True\n",
       "                                                   ...  \n",
       "Zabour, Miss. Hileni                               False\n",
       "Zabour, Miss. Thamine                              False\n",
       "Zakarian, Mr. Mapriededer                          False\n",
       "Zakarian, Mr. Ortin                                False\n",
       "Zimmerman, Mr. Leo                                 False\n",
       "Name: pclass, Length: 1309, dtype: bool"
      ]
     },
     "execution_count": 17,
     "metadata": {},
     "output_type": "execute_result"
    }
   ],
   "source": [
    "pclass_1_mask | pclass_2_mask"
   ]
  },
  {
   "cell_type": "code",
   "execution_count": 21,
   "id": "ac03e478",
   "metadata": {},
   "outputs": [
    {
     "data": {
      "text/plain": [
       "600"
      ]
     },
     "execution_count": 21,
     "metadata": {},
     "output_type": "execute_result"
    }
   ],
   "source": [
    "(pclass_1_mask | pclass_2_mask).sum()"
   ]
  },
  {
   "cell_type": "markdown",
   "id": "4d726294",
   "metadata": {},
   "source": [
    "## `.isin()`으로 동일코드를 구현해보면\n",
    "\n",
    "> ### `Series.isin(values)`\n",
    "**Parameters**\n",
    "values : set or list-like  \n",
    "**Returns**\n",
    "Series : Series of booleans indicating if each element is in values.  \n",
    "**Raises** TypeError : If values is a string\n",
    "\n",
    "---\n",
    "- 파이썬의 in 과 비슷하게 생각해보자.\n",
    "    - `1 in [1, 2]` `2 in [1, 2]` 모두 True가 나옴\n",
    "- `isin` 메소드를 사용하여 각 요소가 특정 값들에 속하는지 여부를 확인할 수 있다.\n",
    "- Series의 각 요소가 주어진 값(values)에 포함되는지 여부를 나타내는 불리언 Series를 반환\n",
    "- values는 집합(set)이나 리스트 형태의 값들로 이루어진 시퀀스\n",
    "- values에 단일 문자열을 전달할 경우 TypeError가 발생\n",
    "    - 단일 문자열을 하나의 요소로 갖는 리스트로 변환해야함."
   ]
  },
  {
   "cell_type": "code",
   "execution_count": 23,
   "id": "a0be3c7a",
   "metadata": {},
   "outputs": [
    {
     "data": {
      "text/plain": [
       "name\n",
       "Allen, Miss. Elisabeth Walton                       True\n",
       "Allison, Master. Hudson Trevor                      True\n",
       "Allison, Miss. Helen Loraine                        True\n",
       "Allison, Mr. Hudson Joshua Creighton                True\n",
       "Allison, Mrs. Hudson J C (Bessie Waldo Daniels)     True\n",
       "                                                   ...  \n",
       "Zabour, Miss. Hileni                               False\n",
       "Zabour, Miss. Thamine                              False\n",
       "Zakarian, Mr. Mapriededer                          False\n",
       "Zakarian, Mr. Ortin                                False\n",
       "Zimmerman, Mr. Leo                                 False\n",
       "Name: pclass, Length: 1309, dtype: bool"
      ]
     },
     "execution_count": 23,
     "metadata": {},
     "output_type": "execute_result"
    }
   ],
   "source": [
    "tt['pclass'].isin([1,2])\n",
    "#마스크로 만들수도있음"
   ]
  },
  {
   "cell_type": "code",
   "execution_count": 25,
   "id": "ced15d1c",
   "metadata": {},
   "outputs": [
    {
     "data": {
      "text/plain": [
       "600"
      ]
     },
     "execution_count": 25,
     "metadata": {},
     "output_type": "execute_result"
    }
   ],
   "source": [
    "tt['pclass'].isin([1,2]).sum()"
   ]
  },
  {
   "cell_type": "code",
   "execution_count": 27,
   "id": "4efddece",
   "metadata": {},
   "outputs": [
    {
     "data": {
      "text/plain": [
       "name\n",
       "Allen, Miss. Elisabeth Walton                      True\n",
       "Allison, Master. Hudson Trevor                     True\n",
       "Allison, Miss. Helen Loraine                       True\n",
       "Allison, Mr. Hudson Joshua Creighton               True\n",
       "Allison, Mrs. Hudson J C (Bessie Waldo Daniels)    True\n",
       "                                                   ... \n",
       "Zabour, Miss. Hileni                               True\n",
       "Zabour, Miss. Thamine                              True\n",
       "Zakarian, Mr. Mapriededer                          True\n",
       "Zakarian, Mr. Ortin                                True\n",
       "Zimmerman, Mr. Leo                                 True\n",
       "Name: pclass, Length: 1309, dtype: bool"
      ]
     },
     "execution_count": 27,
     "metadata": {},
     "output_type": "execute_result"
    }
   ],
   "source": [
    "# 1, 2, 3 모두 확인한다면\n",
    "tt['pclass'].isin([1,2,3])"
   ]
  },
  {
   "cell_type": "markdown",
   "id": "5f49eb63",
   "metadata": {},
   "source": [
    "## `.isnull()`\n",
    "- null 요소가 있는지 확인하는 메서드\n",
    "- NA를 발견하면 True로 반환한다."
   ]
  },
  {
   "cell_type": "code",
   "execution_count": 29,
   "id": "136b06ec",
   "metadata": {},
   "outputs": [
    {
     "name": "stdout",
     "output_type": "stream",
     "text": [
      "<class 'pandas.core.frame.DataFrame'>\n",
      "Index: 1309 entries, Allen, Miss. Elisabeth Walton to Zimmerman, Mr. Leo\n",
      "Data columns (total 5 columns):\n",
      " #   Column    Non-Null Count  Dtype  \n",
      "---  ------    --------------  -----  \n",
      " 0   pclass    1309 non-null   int64  \n",
      " 1   survived  1309 non-null   int64  \n",
      " 2   sex       1309 non-null   object \n",
      " 3   age       1046 non-null   float64\n",
      " 4   fare      1308 non-null   float64\n",
      "dtypes: float64(2), int64(2), object(1)\n",
      "memory usage: 93.6+ KB\n"
     ]
    }
   ],
   "source": [
    "# null이 있는 데이터 확인하기\n",
    "tt.info()"
   ]
  },
  {
   "cell_type": "code",
   "execution_count": 31,
   "id": "f4f2b417",
   "metadata": {
    "scrolled": true
   },
   "outputs": [
    {
     "data": {
      "text/plain": [
       "name\n",
       "Allen, Miss. Elisabeth Walton                      False\n",
       "Allison, Master. Hudson Trevor                     False\n",
       "Allison, Miss. Helen Loraine                       False\n",
       "Allison, Mr. Hudson Joshua Creighton               False\n",
       "Allison, Mrs. Hudson J C (Bessie Waldo Daniels)    False\n",
       "                                                   ...  \n",
       "Zabour, Miss. Hileni                               False\n",
       "Zabour, Miss. Thamine                               True\n",
       "Zakarian, Mr. Mapriededer                          False\n",
       "Zakarian, Mr. Ortin                                False\n",
       "Zimmerman, Mr. Leo                                 False\n",
       "Name: age, Length: 1309, dtype: bool"
      ]
     },
     "execution_count": 31,
     "metadata": {},
     "output_type": "execute_result"
    }
   ],
   "source": [
    "# age열 isnull()\n",
    "tt['age'].isnull()"
   ]
  },
  {
   "cell_type": "code",
   "execution_count": 33,
   "id": "26c26c21",
   "metadata": {},
   "outputs": [
    {
     "data": {
      "text/plain": [
       "263"
      ]
     },
     "execution_count": 33,
     "metadata": {},
     "output_type": "execute_result"
    }
   ],
   "source": [
    "# 개수 확인\n",
    "tt['age'].isnull().sum()"
   ]
  },
  {
   "cell_type": "markdown",
   "id": "93514879",
   "metadata": {},
   "source": [
    "## `.notnull()`\n",
    "- isnull과 반대로 NA가 아닌 걸 발견하면 True로 반환"
   ]
  },
  {
   "cell_type": "code",
   "execution_count": 35,
   "id": "06d82f90",
   "metadata": {},
   "outputs": [
    {
     "data": {
      "text/plain": [
       "name\n",
       "Allen, Miss. Elisabeth Walton                       True\n",
       "Allison, Master. Hudson Trevor                      True\n",
       "Allison, Miss. Helen Loraine                        True\n",
       "Allison, Mr. Hudson Joshua Creighton                True\n",
       "Allison, Mrs. Hudson J C (Bessie Waldo Daniels)     True\n",
       "                                                   ...  \n",
       "Zabour, Miss. Hileni                                True\n",
       "Zabour, Miss. Thamine                              False\n",
       "Zakarian, Mr. Mapriededer                           True\n",
       "Zakarian, Mr. Ortin                                 True\n",
       "Zimmerman, Mr. Leo                                  True\n",
       "Name: age, Length: 1309, dtype: bool"
      ]
     },
     "execution_count": 35,
     "metadata": {},
     "output_type": "execute_result"
    }
   ],
   "source": [
    "tt['age'].notnull()"
   ]
  },
  {
   "cell_type": "code",
   "execution_count": 37,
   "id": "b7b7d72a",
   "metadata": {},
   "outputs": [
    {
     "data": {
      "text/plain": [
       "1046"
      ]
     },
     "execution_count": 37,
     "metadata": {},
     "output_type": "execute_result"
    }
   ],
   "source": [
    "# 개수 확인\n",
    "tt['age'].notnull().sum()"
   ]
  },
  {
   "cell_type": "markdown",
   "id": "6020e364",
   "metadata": {},
   "source": [
    "## 이를 이용하여 조건문(Mask)만들기"
   ]
  },
  {
   "cell_type": "code",
   "execution_count": 39,
   "id": "047cb815",
   "metadata": {},
   "outputs": [],
   "source": [
    "unknown_age_mask=tt['age'].isnull()\n",
    "known_age_mask=tt['age'].notnull()"
   ]
  },
  {
   "cell_type": "code",
   "execution_count": 41,
   "id": "248a5116",
   "metadata": {},
   "outputs": [
    {
     "data": {
      "text/html": [
       "<div>\n",
       "<style scoped>\n",
       "    .dataframe tbody tr th:only-of-type {\n",
       "        vertical-align: middle;\n",
       "    }\n",
       "\n",
       "    .dataframe tbody tr th {\n",
       "        vertical-align: top;\n",
       "    }\n",
       "\n",
       "    .dataframe thead th {\n",
       "        text-align: right;\n",
       "    }\n",
       "</style>\n",
       "<table border=\"1\" class=\"dataframe\">\n",
       "  <thead>\n",
       "    <tr style=\"text-align: right;\">\n",
       "      <th></th>\n",
       "      <th>pclass</th>\n",
       "      <th>survived</th>\n",
       "      <th>sex</th>\n",
       "      <th>age</th>\n",
       "      <th>fare</th>\n",
       "    </tr>\n",
       "    <tr>\n",
       "      <th>name</th>\n",
       "      <th></th>\n",
       "      <th></th>\n",
       "      <th></th>\n",
       "      <th></th>\n",
       "      <th></th>\n",
       "    </tr>\n",
       "  </thead>\n",
       "  <tbody>\n",
       "    <tr>\n",
       "      <th>Baumann, Mr. John D</th>\n",
       "      <td>1</td>\n",
       "      <td>0</td>\n",
       "      <td>male</td>\n",
       "      <td>NaN</td>\n",
       "      <td>25.9250</td>\n",
       "    </tr>\n",
       "    <tr>\n",
       "      <th>Bradley, Mr. George (\"George Arthur Brayton\")</th>\n",
       "      <td>1</td>\n",
       "      <td>1</td>\n",
       "      <td>male</td>\n",
       "      <td>NaN</td>\n",
       "      <td>26.5500</td>\n",
       "    </tr>\n",
       "    <tr>\n",
       "      <th>Brewe, Dr. Arthur Jackson</th>\n",
       "      <td>1</td>\n",
       "      <td>0</td>\n",
       "      <td>male</td>\n",
       "      <td>NaN</td>\n",
       "      <td>39.6000</td>\n",
       "    </tr>\n",
       "    <tr>\n",
       "      <th>Cairns, Mr. Alexander</th>\n",
       "      <td>1</td>\n",
       "      <td>0</td>\n",
       "      <td>male</td>\n",
       "      <td>NaN</td>\n",
       "      <td>31.0000</td>\n",
       "    </tr>\n",
       "    <tr>\n",
       "      <th>Cassebeer, Mrs. Henry Arthur Jr (Eleanor Genevieve Fosdick)</th>\n",
       "      <td>1</td>\n",
       "      <td>1</td>\n",
       "      <td>female</td>\n",
       "      <td>NaN</td>\n",
       "      <td>27.7208</td>\n",
       "    </tr>\n",
       "    <tr>\n",
       "      <th>...</th>\n",
       "      <td>...</td>\n",
       "      <td>...</td>\n",
       "      <td>...</td>\n",
       "      <td>...</td>\n",
       "      <td>...</td>\n",
       "    </tr>\n",
       "    <tr>\n",
       "      <th>Williams, Mr. Howard Hugh \"Harry\"</th>\n",
       "      <td>3</td>\n",
       "      <td>0</td>\n",
       "      <td>male</td>\n",
       "      <td>NaN</td>\n",
       "      <td>8.0500</td>\n",
       "    </tr>\n",
       "    <tr>\n",
       "      <th>Wiseman, Mr. Phillippe</th>\n",
       "      <td>3</td>\n",
       "      <td>0</td>\n",
       "      <td>male</td>\n",
       "      <td>NaN</td>\n",
       "      <td>7.2500</td>\n",
       "    </tr>\n",
       "    <tr>\n",
       "      <th>Yousif, Mr. Wazli</th>\n",
       "      <td>3</td>\n",
       "      <td>0</td>\n",
       "      <td>male</td>\n",
       "      <td>NaN</td>\n",
       "      <td>7.2250</td>\n",
       "    </tr>\n",
       "    <tr>\n",
       "      <th>Yousseff, Mr. Gerious</th>\n",
       "      <td>3</td>\n",
       "      <td>0</td>\n",
       "      <td>male</td>\n",
       "      <td>NaN</td>\n",
       "      <td>14.4583</td>\n",
       "    </tr>\n",
       "    <tr>\n",
       "      <th>Zabour, Miss. Thamine</th>\n",
       "      <td>3</td>\n",
       "      <td>0</td>\n",
       "      <td>female</td>\n",
       "      <td>NaN</td>\n",
       "      <td>14.4542</td>\n",
       "    </tr>\n",
       "  </tbody>\n",
       "</table>\n",
       "<p>263 rows × 5 columns</p>\n",
       "</div>"
      ],
      "text/plain": [
       "                                                    pclass  survived     sex  \\\n",
       "name                                                                           \n",
       "Baumann, Mr. John D                                      1         0    male   \n",
       "Bradley, Mr. George (\"George Arthur Brayton\")            1         1    male   \n",
       "Brewe, Dr. Arthur Jackson                                1         0    male   \n",
       "Cairns, Mr. Alexander                                    1         0    male   \n",
       "Cassebeer, Mrs. Henry Arthur Jr (Eleanor Genevi...       1         1  female   \n",
       "...                                                    ...       ...     ...   \n",
       "Williams, Mr. Howard Hugh \"Harry\"                        3         0    male   \n",
       "Wiseman, Mr. Phillippe                                   3         0    male   \n",
       "Yousif, Mr. Wazli                                        3         0    male   \n",
       "Yousseff, Mr. Gerious                                    3         0    male   \n",
       "Zabour, Miss. Thamine                                    3         0  female   \n",
       "\n",
       "                                                    age     fare  \n",
       "name                                                              \n",
       "Baumann, Mr. John D                                 NaN  25.9250  \n",
       "Bradley, Mr. George (\"George Arthur Brayton\")       NaN  26.5500  \n",
       "Brewe, Dr. Arthur Jackson                           NaN  39.6000  \n",
       "Cairns, Mr. Alexander                               NaN  31.0000  \n",
       "Cassebeer, Mrs. Henry Arthur Jr (Eleanor Genevi...  NaN  27.7208  \n",
       "...                                                 ...      ...  \n",
       "Williams, Mr. Howard Hugh \"Harry\"                   NaN   8.0500  \n",
       "Wiseman, Mr. Phillippe                              NaN   7.2500  \n",
       "Yousif, Mr. Wazli                                   NaN   7.2250  \n",
       "Yousseff, Mr. Gerious                               NaN  14.4583  \n",
       "Zabour, Miss. Thamine                               NaN  14.4542  \n",
       "\n",
       "[263 rows x 5 columns]"
      ]
     },
     "execution_count": 41,
     "metadata": {},
     "output_type": "execute_result"
    }
   ],
   "source": [
    "# 나이가 식별되지 않은 사람 확인\n",
    "tt[unknown_age_mask]"
   ]
  },
  {
   "cell_type": "code",
   "execution_count": 43,
   "id": "f3b27650",
   "metadata": {},
   "outputs": [
    {
     "data": {
      "text/html": [
       "<div>\n",
       "<style scoped>\n",
       "    .dataframe tbody tr th:only-of-type {\n",
       "        vertical-align: middle;\n",
       "    }\n",
       "\n",
       "    .dataframe tbody tr th {\n",
       "        vertical-align: top;\n",
       "    }\n",
       "\n",
       "    .dataframe thead th {\n",
       "        text-align: right;\n",
       "    }\n",
       "</style>\n",
       "<table border=\"1\" class=\"dataframe\">\n",
       "  <thead>\n",
       "    <tr style=\"text-align: right;\">\n",
       "      <th></th>\n",
       "      <th>pclass</th>\n",
       "      <th>survived</th>\n",
       "      <th>sex</th>\n",
       "      <th>age</th>\n",
       "      <th>fare</th>\n",
       "    </tr>\n",
       "    <tr>\n",
       "      <th>name</th>\n",
       "      <th></th>\n",
       "      <th></th>\n",
       "      <th></th>\n",
       "      <th></th>\n",
       "      <th></th>\n",
       "    </tr>\n",
       "  </thead>\n",
       "  <tbody>\n",
       "    <tr>\n",
       "      <th>Allen, Miss. Elisabeth Walton</th>\n",
       "      <td>1</td>\n",
       "      <td>1</td>\n",
       "      <td>female</td>\n",
       "      <td>29.0000</td>\n",
       "      <td>211.3375</td>\n",
       "    </tr>\n",
       "    <tr>\n",
       "      <th>Allison, Master. Hudson Trevor</th>\n",
       "      <td>1</td>\n",
       "      <td>1</td>\n",
       "      <td>male</td>\n",
       "      <td>0.9167</td>\n",
       "      <td>151.5500</td>\n",
       "    </tr>\n",
       "    <tr>\n",
       "      <th>Allison, Miss. Helen Loraine</th>\n",
       "      <td>1</td>\n",
       "      <td>0</td>\n",
       "      <td>female</td>\n",
       "      <td>2.0000</td>\n",
       "      <td>151.5500</td>\n",
       "    </tr>\n",
       "    <tr>\n",
       "      <th>Allison, Mr. Hudson Joshua Creighton</th>\n",
       "      <td>1</td>\n",
       "      <td>0</td>\n",
       "      <td>male</td>\n",
       "      <td>30.0000</td>\n",
       "      <td>151.5500</td>\n",
       "    </tr>\n",
       "    <tr>\n",
       "      <th>Allison, Mrs. Hudson J C (Bessie Waldo Daniels)</th>\n",
       "      <td>1</td>\n",
       "      <td>0</td>\n",
       "      <td>female</td>\n",
       "      <td>25.0000</td>\n",
       "      <td>151.5500</td>\n",
       "    </tr>\n",
       "    <tr>\n",
       "      <th>...</th>\n",
       "      <td>...</td>\n",
       "      <td>...</td>\n",
       "      <td>...</td>\n",
       "      <td>...</td>\n",
       "      <td>...</td>\n",
       "    </tr>\n",
       "    <tr>\n",
       "      <th>Youseff, Mr. Gerious</th>\n",
       "      <td>3</td>\n",
       "      <td>0</td>\n",
       "      <td>male</td>\n",
       "      <td>45.5000</td>\n",
       "      <td>7.2250</td>\n",
       "    </tr>\n",
       "    <tr>\n",
       "      <th>Zabour, Miss. Hileni</th>\n",
       "      <td>3</td>\n",
       "      <td>0</td>\n",
       "      <td>female</td>\n",
       "      <td>14.5000</td>\n",
       "      <td>14.4542</td>\n",
       "    </tr>\n",
       "    <tr>\n",
       "      <th>Zakarian, Mr. Mapriededer</th>\n",
       "      <td>3</td>\n",
       "      <td>0</td>\n",
       "      <td>male</td>\n",
       "      <td>26.5000</td>\n",
       "      <td>7.2250</td>\n",
       "    </tr>\n",
       "    <tr>\n",
       "      <th>Zakarian, Mr. Ortin</th>\n",
       "      <td>3</td>\n",
       "      <td>0</td>\n",
       "      <td>male</td>\n",
       "      <td>27.0000</td>\n",
       "      <td>7.2250</td>\n",
       "    </tr>\n",
       "    <tr>\n",
       "      <th>Zimmerman, Mr. Leo</th>\n",
       "      <td>3</td>\n",
       "      <td>0</td>\n",
       "      <td>male</td>\n",
       "      <td>29.0000</td>\n",
       "      <td>7.8750</td>\n",
       "    </tr>\n",
       "  </tbody>\n",
       "</table>\n",
       "<p>1046 rows × 5 columns</p>\n",
       "</div>"
      ],
      "text/plain": [
       "                                                 pclass  survived     sex  \\\n",
       "name                                                                        \n",
       "Allen, Miss. Elisabeth Walton                         1         1  female   \n",
       "Allison, Master. Hudson Trevor                        1         1    male   \n",
       "Allison, Miss. Helen Loraine                          1         0  female   \n",
       "Allison, Mr. Hudson Joshua Creighton                  1         0    male   \n",
       "Allison, Mrs. Hudson J C (Bessie Waldo Daniels)       1         0  female   \n",
       "...                                                 ...       ...     ...   \n",
       "Youseff, Mr. Gerious                                  3         0    male   \n",
       "Zabour, Miss. Hileni                                  3         0  female   \n",
       "Zakarian, Mr. Mapriededer                             3         0    male   \n",
       "Zakarian, Mr. Ortin                                   3         0    male   \n",
       "Zimmerman, Mr. Leo                                    3         0    male   \n",
       "\n",
       "                                                     age      fare  \n",
       "name                                                                \n",
       "Allen, Miss. Elisabeth Walton                    29.0000  211.3375  \n",
       "Allison, Master. Hudson Trevor                    0.9167  151.5500  \n",
       "Allison, Miss. Helen Loraine                      2.0000  151.5500  \n",
       "Allison, Mr. Hudson Joshua Creighton             30.0000  151.5500  \n",
       "Allison, Mrs. Hudson J C (Bessie Waldo Daniels)  25.0000  151.5500  \n",
       "...                                                  ...       ...  \n",
       "Youseff, Mr. Gerious                             45.5000    7.2250  \n",
       "Zabour, Miss. Hileni                             14.5000   14.4542  \n",
       "Zakarian, Mr. Mapriededer                        26.5000    7.2250  \n",
       "Zakarian, Mr. Ortin                              27.0000    7.2250  \n",
       "Zimmerman, Mr. Leo                               29.0000    7.8750  \n",
       "\n",
       "[1046 rows x 5 columns]"
      ]
     },
     "execution_count": 43,
     "metadata": {},
     "output_type": "execute_result"
    }
   ],
   "source": [
    "# 나이가 식별된 사람 확인\n",
    "tt[known_age_mask]"
   ]
  },
  {
   "cell_type": "code",
   "execution_count": null,
   "id": "47b5f9f2-9332-4459-adda-653b20bc988a",
   "metadata": {},
   "outputs": [],
   "source": []
  }
 ],
 "metadata": {
  "kernelspec": {
   "display_name": "Python 3 (ipykernel)",
   "language": "python",
   "name": "python3"
  },
  "language_info": {
   "codemirror_mode": {
    "name": "ipython",
    "version": 3
   },
   "file_extension": ".py",
   "mimetype": "text/x-python",
   "name": "python",
   "nbconvert_exporter": "python",
   "pygments_lexer": "ipython3",
   "version": "3.11.7"
  }
 },
 "nbformat": 4,
 "nbformat_minor": 5
}
