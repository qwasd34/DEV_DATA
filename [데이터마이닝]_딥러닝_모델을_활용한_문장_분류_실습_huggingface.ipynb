{
  "nbformat": 4,
  "nbformat_minor": 0,
  "metadata": {
    "colab": {
      "provenance": [],
      "include_colab_link": true
    },
    "kernelspec": {
      "name": "python3",
      "display_name": "Python 3"
    },
    "language_info": {
      "name": "python"
    },
    "widgets": {
      "application/vnd.jupyter.widget-state+json": {
        "c73eb46e36f049b296789e43af9105c0": {
          "model_module": "@jupyter-widgets/controls",
          "model_name": "HBoxModel",
          "model_module_version": "1.5.0",
          "state": {
            "_dom_classes": [],
            "_model_module": "@jupyter-widgets/controls",
            "_model_module_version": "1.5.0",
            "_model_name": "HBoxModel",
            "_view_count": null,
            "_view_module": "@jupyter-widgets/controls",
            "_view_module_version": "1.5.0",
            "_view_name": "HBoxView",
            "box_style": "",
            "children": [
              "IPY_MODEL_80831c6b39a646778a8b3d6750b3c925",
              "IPY_MODEL_fd0accc6f6c04f6cb55b0d50f527fc67",
              "IPY_MODEL_1313be168ae24e01bac8782d1e708d3a"
            ],
            "layout": "IPY_MODEL_286270f7f6d2491a9395627f5ba0f6d4"
          }
        },
        "80831c6b39a646778a8b3d6750b3c925": {
          "model_module": "@jupyter-widgets/controls",
          "model_name": "HTMLModel",
          "model_module_version": "1.5.0",
          "state": {
            "_dom_classes": [],
            "_model_module": "@jupyter-widgets/controls",
            "_model_module_version": "1.5.0",
            "_model_name": "HTMLModel",
            "_view_count": null,
            "_view_module": "@jupyter-widgets/controls",
            "_view_module_version": "1.5.0",
            "_view_name": "HTMLView",
            "description": "",
            "description_tooltip": null,
            "layout": "IPY_MODEL_6426b3be58ec4891b7782254927a2f1b",
            "placeholder": "​",
            "style": "IPY_MODEL_c80254283c1049c68eab94d9dd97177f",
            "value": "config.json: 100%"
          }
        },
        "fd0accc6f6c04f6cb55b0d50f527fc67": {
          "model_module": "@jupyter-widgets/controls",
          "model_name": "FloatProgressModel",
          "model_module_version": "1.5.0",
          "state": {
            "_dom_classes": [],
            "_model_module": "@jupyter-widgets/controls",
            "_model_module_version": "1.5.0",
            "_model_name": "FloatProgressModel",
            "_view_count": null,
            "_view_module": "@jupyter-widgets/controls",
            "_view_module_version": "1.5.0",
            "_view_name": "ProgressView",
            "bar_style": "success",
            "description": "",
            "description_tooltip": null,
            "layout": "IPY_MODEL_f5613721e51d480380d68cc4b3ae95df",
            "max": 929,
            "min": 0,
            "orientation": "horizontal",
            "style": "IPY_MODEL_e4c4030eee524b689a20541f17f96837",
            "value": 929
          }
        },
        "1313be168ae24e01bac8782d1e708d3a": {
          "model_module": "@jupyter-widgets/controls",
          "model_name": "HTMLModel",
          "model_module_version": "1.5.0",
          "state": {
            "_dom_classes": [],
            "_model_module": "@jupyter-widgets/controls",
            "_model_module_version": "1.5.0",
            "_model_name": "HTMLModel",
            "_view_count": null,
            "_view_module": "@jupyter-widgets/controls",
            "_view_module_version": "1.5.0",
            "_view_name": "HTMLView",
            "description": "",
            "description_tooltip": null,
            "layout": "IPY_MODEL_dfc031e7bb684a5ca143c33ad824e0c4",
            "placeholder": "​",
            "style": "IPY_MODEL_0503cf2df749453fb51a311442a6e5f6",
            "value": " 929/929 [00:00&lt;00:00, 15.8kB/s]"
          }
        },
        "286270f7f6d2491a9395627f5ba0f6d4": {
          "model_module": "@jupyter-widgets/base",
          "model_name": "LayoutModel",
          "model_module_version": "1.2.0",
          "state": {
            "_model_module": "@jupyter-widgets/base",
            "_model_module_version": "1.2.0",
            "_model_name": "LayoutModel",
            "_view_count": null,
            "_view_module": "@jupyter-widgets/base",
            "_view_module_version": "1.2.0",
            "_view_name": "LayoutView",
            "align_content": null,
            "align_items": null,
            "align_self": null,
            "border": null,
            "bottom": null,
            "display": null,
            "flex": null,
            "flex_flow": null,
            "grid_area": null,
            "grid_auto_columns": null,
            "grid_auto_flow": null,
            "grid_auto_rows": null,
            "grid_column": null,
            "grid_gap": null,
            "grid_row": null,
            "grid_template_areas": null,
            "grid_template_columns": null,
            "grid_template_rows": null,
            "height": null,
            "justify_content": null,
            "justify_items": null,
            "left": null,
            "margin": null,
            "max_height": null,
            "max_width": null,
            "min_height": null,
            "min_width": null,
            "object_fit": null,
            "object_position": null,
            "order": null,
            "overflow": null,
            "overflow_x": null,
            "overflow_y": null,
            "padding": null,
            "right": null,
            "top": null,
            "visibility": null,
            "width": null
          }
        },
        "6426b3be58ec4891b7782254927a2f1b": {
          "model_module": "@jupyter-widgets/base",
          "model_name": "LayoutModel",
          "model_module_version": "1.2.0",
          "state": {
            "_model_module": "@jupyter-widgets/base",
            "_model_module_version": "1.2.0",
            "_model_name": "LayoutModel",
            "_view_count": null,
            "_view_module": "@jupyter-widgets/base",
            "_view_module_version": "1.2.0",
            "_view_name": "LayoutView",
            "align_content": null,
            "align_items": null,
            "align_self": null,
            "border": null,
            "bottom": null,
            "display": null,
            "flex": null,
            "flex_flow": null,
            "grid_area": null,
            "grid_auto_columns": null,
            "grid_auto_flow": null,
            "grid_auto_rows": null,
            "grid_column": null,
            "grid_gap": null,
            "grid_row": null,
            "grid_template_areas": null,
            "grid_template_columns": null,
            "grid_template_rows": null,
            "height": null,
            "justify_content": null,
            "justify_items": null,
            "left": null,
            "margin": null,
            "max_height": null,
            "max_width": null,
            "min_height": null,
            "min_width": null,
            "object_fit": null,
            "object_position": null,
            "order": null,
            "overflow": null,
            "overflow_x": null,
            "overflow_y": null,
            "padding": null,
            "right": null,
            "top": null,
            "visibility": null,
            "width": null
          }
        },
        "c80254283c1049c68eab94d9dd97177f": {
          "model_module": "@jupyter-widgets/controls",
          "model_name": "DescriptionStyleModel",
          "model_module_version": "1.5.0",
          "state": {
            "_model_module": "@jupyter-widgets/controls",
            "_model_module_version": "1.5.0",
            "_model_name": "DescriptionStyleModel",
            "_view_count": null,
            "_view_module": "@jupyter-widgets/base",
            "_view_module_version": "1.2.0",
            "_view_name": "StyleView",
            "description_width": ""
          }
        },
        "f5613721e51d480380d68cc4b3ae95df": {
          "model_module": "@jupyter-widgets/base",
          "model_name": "LayoutModel",
          "model_module_version": "1.2.0",
          "state": {
            "_model_module": "@jupyter-widgets/base",
            "_model_module_version": "1.2.0",
            "_model_name": "LayoutModel",
            "_view_count": null,
            "_view_module": "@jupyter-widgets/base",
            "_view_module_version": "1.2.0",
            "_view_name": "LayoutView",
            "align_content": null,
            "align_items": null,
            "align_self": null,
            "border": null,
            "bottom": null,
            "display": null,
            "flex": null,
            "flex_flow": null,
            "grid_area": null,
            "grid_auto_columns": null,
            "grid_auto_flow": null,
            "grid_auto_rows": null,
            "grid_column": null,
            "grid_gap": null,
            "grid_row": null,
            "grid_template_areas": null,
            "grid_template_columns": null,
            "grid_template_rows": null,
            "height": null,
            "justify_content": null,
            "justify_items": null,
            "left": null,
            "margin": null,
            "max_height": null,
            "max_width": null,
            "min_height": null,
            "min_width": null,
            "object_fit": null,
            "object_position": null,
            "order": null,
            "overflow": null,
            "overflow_x": null,
            "overflow_y": null,
            "padding": null,
            "right": null,
            "top": null,
            "visibility": null,
            "width": null
          }
        },
        "e4c4030eee524b689a20541f17f96837": {
          "model_module": "@jupyter-widgets/controls",
          "model_name": "ProgressStyleModel",
          "model_module_version": "1.5.0",
          "state": {
            "_model_module": "@jupyter-widgets/controls",
            "_model_module_version": "1.5.0",
            "_model_name": "ProgressStyleModel",
            "_view_count": null,
            "_view_module": "@jupyter-widgets/base",
            "_view_module_version": "1.2.0",
            "_view_name": "StyleView",
            "bar_color": null,
            "description_width": ""
          }
        },
        "dfc031e7bb684a5ca143c33ad824e0c4": {
          "model_module": "@jupyter-widgets/base",
          "model_name": "LayoutModel",
          "model_module_version": "1.2.0",
          "state": {
            "_model_module": "@jupyter-widgets/base",
            "_model_module_version": "1.2.0",
            "_model_name": "LayoutModel",
            "_view_count": null,
            "_view_module": "@jupyter-widgets/base",
            "_view_module_version": "1.2.0",
            "_view_name": "LayoutView",
            "align_content": null,
            "align_items": null,
            "align_self": null,
            "border": null,
            "bottom": null,
            "display": null,
            "flex": null,
            "flex_flow": null,
            "grid_area": null,
            "grid_auto_columns": null,
            "grid_auto_flow": null,
            "grid_auto_rows": null,
            "grid_column": null,
            "grid_gap": null,
            "grid_row": null,
            "grid_template_areas": null,
            "grid_template_columns": null,
            "grid_template_rows": null,
            "height": null,
            "justify_content": null,
            "justify_items": null,
            "left": null,
            "margin": null,
            "max_height": null,
            "max_width": null,
            "min_height": null,
            "min_width": null,
            "object_fit": null,
            "object_position": null,
            "order": null,
            "overflow": null,
            "overflow_x": null,
            "overflow_y": null,
            "padding": null,
            "right": null,
            "top": null,
            "visibility": null,
            "width": null
          }
        },
        "0503cf2df749453fb51a311442a6e5f6": {
          "model_module": "@jupyter-widgets/controls",
          "model_name": "DescriptionStyleModel",
          "model_module_version": "1.5.0",
          "state": {
            "_model_module": "@jupyter-widgets/controls",
            "_model_module_version": "1.5.0",
            "_model_name": "DescriptionStyleModel",
            "_view_count": null,
            "_view_module": "@jupyter-widgets/base",
            "_view_module_version": "1.2.0",
            "_view_name": "StyleView",
            "description_width": ""
          }
        },
        "b29f596cfe5f420cbd05b376e54dc1e8": {
          "model_module": "@jupyter-widgets/controls",
          "model_name": "HBoxModel",
          "model_module_version": "1.5.0",
          "state": {
            "_dom_classes": [],
            "_model_module": "@jupyter-widgets/controls",
            "_model_module_version": "1.5.0",
            "_model_name": "HBoxModel",
            "_view_count": null,
            "_view_module": "@jupyter-widgets/controls",
            "_view_module_version": "1.5.0",
            "_view_name": "HBoxView",
            "box_style": "",
            "children": [
              "IPY_MODEL_5d3436c7d63042bb9dfb608df81d1b8a",
              "IPY_MODEL_de5003b6819640b884441b037a902966",
              "IPY_MODEL_2fa83a3966f841c2be78762b1477cc09"
            ],
            "layout": "IPY_MODEL_0bf9f52233a34d79a34bdb0be4bb2b23"
          }
        },
        "5d3436c7d63042bb9dfb608df81d1b8a": {
          "model_module": "@jupyter-widgets/controls",
          "model_name": "HTMLModel",
          "model_module_version": "1.5.0",
          "state": {
            "_dom_classes": [],
            "_model_module": "@jupyter-widgets/controls",
            "_model_module_version": "1.5.0",
            "_model_name": "HTMLModel",
            "_view_count": null,
            "_view_module": "@jupyter-widgets/controls",
            "_view_module_version": "1.5.0",
            "_view_name": "HTMLView",
            "description": "",
            "description_tooltip": null,
            "layout": "IPY_MODEL_c815d565b7264f7a9eeb3053d552c674",
            "placeholder": "​",
            "style": "IPY_MODEL_132b3ebe84ed42db809433f19e53d304",
            "value": "vocab.json: 100%"
          }
        },
        "de5003b6819640b884441b037a902966": {
          "model_module": "@jupyter-widgets/controls",
          "model_name": "FloatProgressModel",
          "model_module_version": "1.5.0",
          "state": {
            "_dom_classes": [],
            "_model_module": "@jupyter-widgets/controls",
            "_model_module_version": "1.5.0",
            "_model_name": "FloatProgressModel",
            "_view_count": null,
            "_view_module": "@jupyter-widgets/controls",
            "_view_module_version": "1.5.0",
            "_view_name": "ProgressView",
            "bar_style": "success",
            "description": "",
            "description_tooltip": null,
            "layout": "IPY_MODEL_6277d43fd4c54a8d88db5050e7b8908a",
            "max": 898822,
            "min": 0,
            "orientation": "horizontal",
            "style": "IPY_MODEL_cf2902af818a4840b596ac77cb08b3e0",
            "value": 898822
          }
        },
        "2fa83a3966f841c2be78762b1477cc09": {
          "model_module": "@jupyter-widgets/controls",
          "model_name": "HTMLModel",
          "model_module_version": "1.5.0",
          "state": {
            "_dom_classes": [],
            "_model_module": "@jupyter-widgets/controls",
            "_model_module_version": "1.5.0",
            "_model_name": "HTMLModel",
            "_view_count": null,
            "_view_module": "@jupyter-widgets/controls",
            "_view_module_version": "1.5.0",
            "_view_name": "HTMLView",
            "description": "",
            "description_tooltip": null,
            "layout": "IPY_MODEL_1e7eb07094964cf49f7b9d99118ec72d",
            "placeholder": "​",
            "style": "IPY_MODEL_4123277d9ae44d7e8729959c42bf0338",
            "value": " 899k/899k [00:00&lt;00:00, 4.12MB/s]"
          }
        },
        "0bf9f52233a34d79a34bdb0be4bb2b23": {
          "model_module": "@jupyter-widgets/base",
          "model_name": "LayoutModel",
          "model_module_version": "1.2.0",
          "state": {
            "_model_module": "@jupyter-widgets/base",
            "_model_module_version": "1.2.0",
            "_model_name": "LayoutModel",
            "_view_count": null,
            "_view_module": "@jupyter-widgets/base",
            "_view_module_version": "1.2.0",
            "_view_name": "LayoutView",
            "align_content": null,
            "align_items": null,
            "align_self": null,
            "border": null,
            "bottom": null,
            "display": null,
            "flex": null,
            "flex_flow": null,
            "grid_area": null,
            "grid_auto_columns": null,
            "grid_auto_flow": null,
            "grid_auto_rows": null,
            "grid_column": null,
            "grid_gap": null,
            "grid_row": null,
            "grid_template_areas": null,
            "grid_template_columns": null,
            "grid_template_rows": null,
            "height": null,
            "justify_content": null,
            "justify_items": null,
            "left": null,
            "margin": null,
            "max_height": null,
            "max_width": null,
            "min_height": null,
            "min_width": null,
            "object_fit": null,
            "object_position": null,
            "order": null,
            "overflow": null,
            "overflow_x": null,
            "overflow_y": null,
            "padding": null,
            "right": null,
            "top": null,
            "visibility": null,
            "width": null
          }
        },
        "c815d565b7264f7a9eeb3053d552c674": {
          "model_module": "@jupyter-widgets/base",
          "model_name": "LayoutModel",
          "model_module_version": "1.2.0",
          "state": {
            "_model_module": "@jupyter-widgets/base",
            "_model_module_version": "1.2.0",
            "_model_name": "LayoutModel",
            "_view_count": null,
            "_view_module": "@jupyter-widgets/base",
            "_view_module_version": "1.2.0",
            "_view_name": "LayoutView",
            "align_content": null,
            "align_items": null,
            "align_self": null,
            "border": null,
            "bottom": null,
            "display": null,
            "flex": null,
            "flex_flow": null,
            "grid_area": null,
            "grid_auto_columns": null,
            "grid_auto_flow": null,
            "grid_auto_rows": null,
            "grid_column": null,
            "grid_gap": null,
            "grid_row": null,
            "grid_template_areas": null,
            "grid_template_columns": null,
            "grid_template_rows": null,
            "height": null,
            "justify_content": null,
            "justify_items": null,
            "left": null,
            "margin": null,
            "max_height": null,
            "max_width": null,
            "min_height": null,
            "min_width": null,
            "object_fit": null,
            "object_position": null,
            "order": null,
            "overflow": null,
            "overflow_x": null,
            "overflow_y": null,
            "padding": null,
            "right": null,
            "top": null,
            "visibility": null,
            "width": null
          }
        },
        "132b3ebe84ed42db809433f19e53d304": {
          "model_module": "@jupyter-widgets/controls",
          "model_name": "DescriptionStyleModel",
          "model_module_version": "1.5.0",
          "state": {
            "_model_module": "@jupyter-widgets/controls",
            "_model_module_version": "1.5.0",
            "_model_name": "DescriptionStyleModel",
            "_view_count": null,
            "_view_module": "@jupyter-widgets/base",
            "_view_module_version": "1.2.0",
            "_view_name": "StyleView",
            "description_width": ""
          }
        },
        "6277d43fd4c54a8d88db5050e7b8908a": {
          "model_module": "@jupyter-widgets/base",
          "model_name": "LayoutModel",
          "model_module_version": "1.2.0",
          "state": {
            "_model_module": "@jupyter-widgets/base",
            "_model_module_version": "1.2.0",
            "_model_name": "LayoutModel",
            "_view_count": null,
            "_view_module": "@jupyter-widgets/base",
            "_view_module_version": "1.2.0",
            "_view_name": "LayoutView",
            "align_content": null,
            "align_items": null,
            "align_self": null,
            "border": null,
            "bottom": null,
            "display": null,
            "flex": null,
            "flex_flow": null,
            "grid_area": null,
            "grid_auto_columns": null,
            "grid_auto_flow": null,
            "grid_auto_rows": null,
            "grid_column": null,
            "grid_gap": null,
            "grid_row": null,
            "grid_template_areas": null,
            "grid_template_columns": null,
            "grid_template_rows": null,
            "height": null,
            "justify_content": null,
            "justify_items": null,
            "left": null,
            "margin": null,
            "max_height": null,
            "max_width": null,
            "min_height": null,
            "min_width": null,
            "object_fit": null,
            "object_position": null,
            "order": null,
            "overflow": null,
            "overflow_x": null,
            "overflow_y": null,
            "padding": null,
            "right": null,
            "top": null,
            "visibility": null,
            "width": null
          }
        },
        "cf2902af818a4840b596ac77cb08b3e0": {
          "model_module": "@jupyter-widgets/controls",
          "model_name": "ProgressStyleModel",
          "model_module_version": "1.5.0",
          "state": {
            "_model_module": "@jupyter-widgets/controls",
            "_model_module_version": "1.5.0",
            "_model_name": "ProgressStyleModel",
            "_view_count": null,
            "_view_module": "@jupyter-widgets/base",
            "_view_module_version": "1.2.0",
            "_view_name": "StyleView",
            "bar_color": null,
            "description_width": ""
          }
        },
        "1e7eb07094964cf49f7b9d99118ec72d": {
          "model_module": "@jupyter-widgets/base",
          "model_name": "LayoutModel",
          "model_module_version": "1.2.0",
          "state": {
            "_model_module": "@jupyter-widgets/base",
            "_model_module_version": "1.2.0",
            "_model_name": "LayoutModel",
            "_view_count": null,
            "_view_module": "@jupyter-widgets/base",
            "_view_module_version": "1.2.0",
            "_view_name": "LayoutView",
            "align_content": null,
            "align_items": null,
            "align_self": null,
            "border": null,
            "bottom": null,
            "display": null,
            "flex": null,
            "flex_flow": null,
            "grid_area": null,
            "grid_auto_columns": null,
            "grid_auto_flow": null,
            "grid_auto_rows": null,
            "grid_column": null,
            "grid_gap": null,
            "grid_row": null,
            "grid_template_areas": null,
            "grid_template_columns": null,
            "grid_template_rows": null,
            "height": null,
            "justify_content": null,
            "justify_items": null,
            "left": null,
            "margin": null,
            "max_height": null,
            "max_width": null,
            "min_height": null,
            "min_width": null,
            "object_fit": null,
            "object_position": null,
            "order": null,
            "overflow": null,
            "overflow_x": null,
            "overflow_y": null,
            "padding": null,
            "right": null,
            "top": null,
            "visibility": null,
            "width": null
          }
        },
        "4123277d9ae44d7e8729959c42bf0338": {
          "model_module": "@jupyter-widgets/controls",
          "model_name": "DescriptionStyleModel",
          "model_module_version": "1.5.0",
          "state": {
            "_model_module": "@jupyter-widgets/controls",
            "_model_module_version": "1.5.0",
            "_model_name": "DescriptionStyleModel",
            "_view_count": null,
            "_view_module": "@jupyter-widgets/base",
            "_view_module_version": "1.2.0",
            "_view_name": "StyleView",
            "description_width": ""
          }
        },
        "730bc2b3a48640bfb13e4be38ad4b17d": {
          "model_module": "@jupyter-widgets/controls",
          "model_name": "HBoxModel",
          "model_module_version": "1.5.0",
          "state": {
            "_dom_classes": [],
            "_model_module": "@jupyter-widgets/controls",
            "_model_module_version": "1.5.0",
            "_model_name": "HBoxModel",
            "_view_count": null,
            "_view_module": "@jupyter-widgets/controls",
            "_view_module_version": "1.5.0",
            "_view_name": "HBoxView",
            "box_style": "",
            "children": [
              "IPY_MODEL_122cac716c0f493b8e75265e92299b8a",
              "IPY_MODEL_dc973b01e92b4295b2bc47838f0a4f29",
              "IPY_MODEL_0ca5e4891018456bb60bc3ffe18c41b3"
            ],
            "layout": "IPY_MODEL_f453b48ab7324349b555f8309075c468"
          }
        },
        "122cac716c0f493b8e75265e92299b8a": {
          "model_module": "@jupyter-widgets/controls",
          "model_name": "HTMLModel",
          "model_module_version": "1.5.0",
          "state": {
            "_dom_classes": [],
            "_model_module": "@jupyter-widgets/controls",
            "_model_module_version": "1.5.0",
            "_model_name": "HTMLModel",
            "_view_count": null,
            "_view_module": "@jupyter-widgets/controls",
            "_view_module_version": "1.5.0",
            "_view_name": "HTMLView",
            "description": "",
            "description_tooltip": null,
            "layout": "IPY_MODEL_f79f18132d9e4cfe80cb1b725647dc4e",
            "placeholder": "​",
            "style": "IPY_MODEL_98fcc3ab485147c6865528b5c7e653e4",
            "value": "merges.txt: 100%"
          }
        },
        "dc973b01e92b4295b2bc47838f0a4f29": {
          "model_module": "@jupyter-widgets/controls",
          "model_name": "FloatProgressModel",
          "model_module_version": "1.5.0",
          "state": {
            "_dom_classes": [],
            "_model_module": "@jupyter-widgets/controls",
            "_model_module_version": "1.5.0",
            "_model_name": "FloatProgressModel",
            "_view_count": null,
            "_view_module": "@jupyter-widgets/controls",
            "_view_module_version": "1.5.0",
            "_view_name": "ProgressView",
            "bar_style": "success",
            "description": "",
            "description_tooltip": null,
            "layout": "IPY_MODEL_6d2cc91cf98146f7b66394eb58d8d5d6",
            "max": 456318,
            "min": 0,
            "orientation": "horizontal",
            "style": "IPY_MODEL_5604528416a540a387d7c3a9ab58aa09",
            "value": 456318
          }
        },
        "0ca5e4891018456bb60bc3ffe18c41b3": {
          "model_module": "@jupyter-widgets/controls",
          "model_name": "HTMLModel",
          "model_module_version": "1.5.0",
          "state": {
            "_dom_classes": [],
            "_model_module": "@jupyter-widgets/controls",
            "_model_module_version": "1.5.0",
            "_model_name": "HTMLModel",
            "_view_count": null,
            "_view_module": "@jupyter-widgets/controls",
            "_view_module_version": "1.5.0",
            "_view_name": "HTMLView",
            "description": "",
            "description_tooltip": null,
            "layout": "IPY_MODEL_11b2aa813ac74732aa2f59acf09716b4",
            "placeholder": "​",
            "style": "IPY_MODEL_b33788b3dd5142b1bbfa43ecc7de348e",
            "value": " 456k/456k [00:00&lt;00:00, 3.35MB/s]"
          }
        },
        "f453b48ab7324349b555f8309075c468": {
          "model_module": "@jupyter-widgets/base",
          "model_name": "LayoutModel",
          "model_module_version": "1.2.0",
          "state": {
            "_model_module": "@jupyter-widgets/base",
            "_model_module_version": "1.2.0",
            "_model_name": "LayoutModel",
            "_view_count": null,
            "_view_module": "@jupyter-widgets/base",
            "_view_module_version": "1.2.0",
            "_view_name": "LayoutView",
            "align_content": null,
            "align_items": null,
            "align_self": null,
            "border": null,
            "bottom": null,
            "display": null,
            "flex": null,
            "flex_flow": null,
            "grid_area": null,
            "grid_auto_columns": null,
            "grid_auto_flow": null,
            "grid_auto_rows": null,
            "grid_column": null,
            "grid_gap": null,
            "grid_row": null,
            "grid_template_areas": null,
            "grid_template_columns": null,
            "grid_template_rows": null,
            "height": null,
            "justify_content": null,
            "justify_items": null,
            "left": null,
            "margin": null,
            "max_height": null,
            "max_width": null,
            "min_height": null,
            "min_width": null,
            "object_fit": null,
            "object_position": null,
            "order": null,
            "overflow": null,
            "overflow_x": null,
            "overflow_y": null,
            "padding": null,
            "right": null,
            "top": null,
            "visibility": null,
            "width": null
          }
        },
        "f79f18132d9e4cfe80cb1b725647dc4e": {
          "model_module": "@jupyter-widgets/base",
          "model_name": "LayoutModel",
          "model_module_version": "1.2.0",
          "state": {
            "_model_module": "@jupyter-widgets/base",
            "_model_module_version": "1.2.0",
            "_model_name": "LayoutModel",
            "_view_count": null,
            "_view_module": "@jupyter-widgets/base",
            "_view_module_version": "1.2.0",
            "_view_name": "LayoutView",
            "align_content": null,
            "align_items": null,
            "align_self": null,
            "border": null,
            "bottom": null,
            "display": null,
            "flex": null,
            "flex_flow": null,
            "grid_area": null,
            "grid_auto_columns": null,
            "grid_auto_flow": null,
            "grid_auto_rows": null,
            "grid_column": null,
            "grid_gap": null,
            "grid_row": null,
            "grid_template_areas": null,
            "grid_template_columns": null,
            "grid_template_rows": null,
            "height": null,
            "justify_content": null,
            "justify_items": null,
            "left": null,
            "margin": null,
            "max_height": null,
            "max_width": null,
            "min_height": null,
            "min_width": null,
            "object_fit": null,
            "object_position": null,
            "order": null,
            "overflow": null,
            "overflow_x": null,
            "overflow_y": null,
            "padding": null,
            "right": null,
            "top": null,
            "visibility": null,
            "width": null
          }
        },
        "98fcc3ab485147c6865528b5c7e653e4": {
          "model_module": "@jupyter-widgets/controls",
          "model_name": "DescriptionStyleModel",
          "model_module_version": "1.5.0",
          "state": {
            "_model_module": "@jupyter-widgets/controls",
            "_model_module_version": "1.5.0",
            "_model_name": "DescriptionStyleModel",
            "_view_count": null,
            "_view_module": "@jupyter-widgets/base",
            "_view_module_version": "1.2.0",
            "_view_name": "StyleView",
            "description_width": ""
          }
        },
        "6d2cc91cf98146f7b66394eb58d8d5d6": {
          "model_module": "@jupyter-widgets/base",
          "model_name": "LayoutModel",
          "model_module_version": "1.2.0",
          "state": {
            "_model_module": "@jupyter-widgets/base",
            "_model_module_version": "1.2.0",
            "_model_name": "LayoutModel",
            "_view_count": null,
            "_view_module": "@jupyter-widgets/base",
            "_view_module_version": "1.2.0",
            "_view_name": "LayoutView",
            "align_content": null,
            "align_items": null,
            "align_self": null,
            "border": null,
            "bottom": null,
            "display": null,
            "flex": null,
            "flex_flow": null,
            "grid_area": null,
            "grid_auto_columns": null,
            "grid_auto_flow": null,
            "grid_auto_rows": null,
            "grid_column": null,
            "grid_gap": null,
            "grid_row": null,
            "grid_template_areas": null,
            "grid_template_columns": null,
            "grid_template_rows": null,
            "height": null,
            "justify_content": null,
            "justify_items": null,
            "left": null,
            "margin": null,
            "max_height": null,
            "max_width": null,
            "min_height": null,
            "min_width": null,
            "object_fit": null,
            "object_position": null,
            "order": null,
            "overflow": null,
            "overflow_x": null,
            "overflow_y": null,
            "padding": null,
            "right": null,
            "top": null,
            "visibility": null,
            "width": null
          }
        },
        "5604528416a540a387d7c3a9ab58aa09": {
          "model_module": "@jupyter-widgets/controls",
          "model_name": "ProgressStyleModel",
          "model_module_version": "1.5.0",
          "state": {
            "_model_module": "@jupyter-widgets/controls",
            "_model_module_version": "1.5.0",
            "_model_name": "ProgressStyleModel",
            "_view_count": null,
            "_view_module": "@jupyter-widgets/base",
            "_view_module_version": "1.2.0",
            "_view_name": "StyleView",
            "bar_color": null,
            "description_width": ""
          }
        },
        "11b2aa813ac74732aa2f59acf09716b4": {
          "model_module": "@jupyter-widgets/base",
          "model_name": "LayoutModel",
          "model_module_version": "1.2.0",
          "state": {
            "_model_module": "@jupyter-widgets/base",
            "_model_module_version": "1.2.0",
            "_model_name": "LayoutModel",
            "_view_count": null,
            "_view_module": "@jupyter-widgets/base",
            "_view_module_version": "1.2.0",
            "_view_name": "LayoutView",
            "align_content": null,
            "align_items": null,
            "align_self": null,
            "border": null,
            "bottom": null,
            "display": null,
            "flex": null,
            "flex_flow": null,
            "grid_area": null,
            "grid_auto_columns": null,
            "grid_auto_flow": null,
            "grid_auto_rows": null,
            "grid_column": null,
            "grid_gap": null,
            "grid_row": null,
            "grid_template_areas": null,
            "grid_template_columns": null,
            "grid_template_rows": null,
            "height": null,
            "justify_content": null,
            "justify_items": null,
            "left": null,
            "margin": null,
            "max_height": null,
            "max_width": null,
            "min_height": null,
            "min_width": null,
            "object_fit": null,
            "object_position": null,
            "order": null,
            "overflow": null,
            "overflow_x": null,
            "overflow_y": null,
            "padding": null,
            "right": null,
            "top": null,
            "visibility": null,
            "width": null
          }
        },
        "b33788b3dd5142b1bbfa43ecc7de348e": {
          "model_module": "@jupyter-widgets/controls",
          "model_name": "DescriptionStyleModel",
          "model_module_version": "1.5.0",
          "state": {
            "_model_module": "@jupyter-widgets/controls",
            "_model_module_version": "1.5.0",
            "_model_name": "DescriptionStyleModel",
            "_view_count": null,
            "_view_module": "@jupyter-widgets/base",
            "_view_module_version": "1.2.0",
            "_view_name": "StyleView",
            "description_width": ""
          }
        },
        "498fbb40b0b142f29e34428df3408094": {
          "model_module": "@jupyter-widgets/controls",
          "model_name": "HBoxModel",
          "model_module_version": "1.5.0",
          "state": {
            "_dom_classes": [],
            "_model_module": "@jupyter-widgets/controls",
            "_model_module_version": "1.5.0",
            "_model_name": "HBoxModel",
            "_view_count": null,
            "_view_module": "@jupyter-widgets/controls",
            "_view_module_version": "1.5.0",
            "_view_name": "HBoxView",
            "box_style": "",
            "children": [
              "IPY_MODEL_2e33884f29374585854f50d9a68be224",
              "IPY_MODEL_ca093c90554043efbf4b5632b00662ff",
              "IPY_MODEL_0bb4086c26fe425892c54ce23024fcda"
            ],
            "layout": "IPY_MODEL_af37f33eebfd434198fc7458e33a45f2"
          }
        },
        "2e33884f29374585854f50d9a68be224": {
          "model_module": "@jupyter-widgets/controls",
          "model_name": "HTMLModel",
          "model_module_version": "1.5.0",
          "state": {
            "_dom_classes": [],
            "_model_module": "@jupyter-widgets/controls",
            "_model_module_version": "1.5.0",
            "_model_name": "HTMLModel",
            "_view_count": null,
            "_view_module": "@jupyter-widgets/controls",
            "_view_module_version": "1.5.0",
            "_view_name": "HTMLView",
            "description": "",
            "description_tooltip": null,
            "layout": "IPY_MODEL_a55df70d6d68410b85b2d5cad7c310e0",
            "placeholder": "​",
            "style": "IPY_MODEL_3c204776ef234ee99fd7f0aef3b9e5ee",
            "value": "special_tokens_map.json: 100%"
          }
        },
        "ca093c90554043efbf4b5632b00662ff": {
          "model_module": "@jupyter-widgets/controls",
          "model_name": "FloatProgressModel",
          "model_module_version": "1.5.0",
          "state": {
            "_dom_classes": [],
            "_model_module": "@jupyter-widgets/controls",
            "_model_module_version": "1.5.0",
            "_model_name": "FloatProgressModel",
            "_view_count": null,
            "_view_module": "@jupyter-widgets/controls",
            "_view_module_version": "1.5.0",
            "_view_name": "ProgressView",
            "bar_style": "success",
            "description": "",
            "description_tooltip": null,
            "layout": "IPY_MODEL_d7ce6089cfd3419497faff911b0c048c",
            "max": 239,
            "min": 0,
            "orientation": "horizontal",
            "style": "IPY_MODEL_4f8e23d2571c4d5ca4af41a68eaf1dce",
            "value": 239
          }
        },
        "0bb4086c26fe425892c54ce23024fcda": {
          "model_module": "@jupyter-widgets/controls",
          "model_name": "HTMLModel",
          "model_module_version": "1.5.0",
          "state": {
            "_dom_classes": [],
            "_model_module": "@jupyter-widgets/controls",
            "_model_module_version": "1.5.0",
            "_model_name": "HTMLModel",
            "_view_count": null,
            "_view_module": "@jupyter-widgets/controls",
            "_view_module_version": "1.5.0",
            "_view_name": "HTMLView",
            "description": "",
            "description_tooltip": null,
            "layout": "IPY_MODEL_2363fec450a44e1596491ee96716f202",
            "placeholder": "​",
            "style": "IPY_MODEL_2d4079801da34c8ebd8119d8e5974201",
            "value": " 239/239 [00:00&lt;00:00, 5.40kB/s]"
          }
        },
        "af37f33eebfd434198fc7458e33a45f2": {
          "model_module": "@jupyter-widgets/base",
          "model_name": "LayoutModel",
          "model_module_version": "1.2.0",
          "state": {
            "_model_module": "@jupyter-widgets/base",
            "_model_module_version": "1.2.0",
            "_model_name": "LayoutModel",
            "_view_count": null,
            "_view_module": "@jupyter-widgets/base",
            "_view_module_version": "1.2.0",
            "_view_name": "LayoutView",
            "align_content": null,
            "align_items": null,
            "align_self": null,
            "border": null,
            "bottom": null,
            "display": null,
            "flex": null,
            "flex_flow": null,
            "grid_area": null,
            "grid_auto_columns": null,
            "grid_auto_flow": null,
            "grid_auto_rows": null,
            "grid_column": null,
            "grid_gap": null,
            "grid_row": null,
            "grid_template_areas": null,
            "grid_template_columns": null,
            "grid_template_rows": null,
            "height": null,
            "justify_content": null,
            "justify_items": null,
            "left": null,
            "margin": null,
            "max_height": null,
            "max_width": null,
            "min_height": null,
            "min_width": null,
            "object_fit": null,
            "object_position": null,
            "order": null,
            "overflow": null,
            "overflow_x": null,
            "overflow_y": null,
            "padding": null,
            "right": null,
            "top": null,
            "visibility": null,
            "width": null
          }
        },
        "a55df70d6d68410b85b2d5cad7c310e0": {
          "model_module": "@jupyter-widgets/base",
          "model_name": "LayoutModel",
          "model_module_version": "1.2.0",
          "state": {
            "_model_module": "@jupyter-widgets/base",
            "_model_module_version": "1.2.0",
            "_model_name": "LayoutModel",
            "_view_count": null,
            "_view_module": "@jupyter-widgets/base",
            "_view_module_version": "1.2.0",
            "_view_name": "LayoutView",
            "align_content": null,
            "align_items": null,
            "align_self": null,
            "border": null,
            "bottom": null,
            "display": null,
            "flex": null,
            "flex_flow": null,
            "grid_area": null,
            "grid_auto_columns": null,
            "grid_auto_flow": null,
            "grid_auto_rows": null,
            "grid_column": null,
            "grid_gap": null,
            "grid_row": null,
            "grid_template_areas": null,
            "grid_template_columns": null,
            "grid_template_rows": null,
            "height": null,
            "justify_content": null,
            "justify_items": null,
            "left": null,
            "margin": null,
            "max_height": null,
            "max_width": null,
            "min_height": null,
            "min_width": null,
            "object_fit": null,
            "object_position": null,
            "order": null,
            "overflow": null,
            "overflow_x": null,
            "overflow_y": null,
            "padding": null,
            "right": null,
            "top": null,
            "visibility": null,
            "width": null
          }
        },
        "3c204776ef234ee99fd7f0aef3b9e5ee": {
          "model_module": "@jupyter-widgets/controls",
          "model_name": "DescriptionStyleModel",
          "model_module_version": "1.5.0",
          "state": {
            "_model_module": "@jupyter-widgets/controls",
            "_model_module_version": "1.5.0",
            "_model_name": "DescriptionStyleModel",
            "_view_count": null,
            "_view_module": "@jupyter-widgets/base",
            "_view_module_version": "1.2.0",
            "_view_name": "StyleView",
            "description_width": ""
          }
        },
        "d7ce6089cfd3419497faff911b0c048c": {
          "model_module": "@jupyter-widgets/base",
          "model_name": "LayoutModel",
          "model_module_version": "1.2.0",
          "state": {
            "_model_module": "@jupyter-widgets/base",
            "_model_module_version": "1.2.0",
            "_model_name": "LayoutModel",
            "_view_count": null,
            "_view_module": "@jupyter-widgets/base",
            "_view_module_version": "1.2.0",
            "_view_name": "LayoutView",
            "align_content": null,
            "align_items": null,
            "align_self": null,
            "border": null,
            "bottom": null,
            "display": null,
            "flex": null,
            "flex_flow": null,
            "grid_area": null,
            "grid_auto_columns": null,
            "grid_auto_flow": null,
            "grid_auto_rows": null,
            "grid_column": null,
            "grid_gap": null,
            "grid_row": null,
            "grid_template_areas": null,
            "grid_template_columns": null,
            "grid_template_rows": null,
            "height": null,
            "justify_content": null,
            "justify_items": null,
            "left": null,
            "margin": null,
            "max_height": null,
            "max_width": null,
            "min_height": null,
            "min_width": null,
            "object_fit": null,
            "object_position": null,
            "order": null,
            "overflow": null,
            "overflow_x": null,
            "overflow_y": null,
            "padding": null,
            "right": null,
            "top": null,
            "visibility": null,
            "width": null
          }
        },
        "4f8e23d2571c4d5ca4af41a68eaf1dce": {
          "model_module": "@jupyter-widgets/controls",
          "model_name": "ProgressStyleModel",
          "model_module_version": "1.5.0",
          "state": {
            "_model_module": "@jupyter-widgets/controls",
            "_model_module_version": "1.5.0",
            "_model_name": "ProgressStyleModel",
            "_view_count": null,
            "_view_module": "@jupyter-widgets/base",
            "_view_module_version": "1.2.0",
            "_view_name": "StyleView",
            "bar_color": null,
            "description_width": ""
          }
        },
        "2363fec450a44e1596491ee96716f202": {
          "model_module": "@jupyter-widgets/base",
          "model_name": "LayoutModel",
          "model_module_version": "1.2.0",
          "state": {
            "_model_module": "@jupyter-widgets/base",
            "_model_module_version": "1.2.0",
            "_model_name": "LayoutModel",
            "_view_count": null,
            "_view_module": "@jupyter-widgets/base",
            "_view_module_version": "1.2.0",
            "_view_name": "LayoutView",
            "align_content": null,
            "align_items": null,
            "align_self": null,
            "border": null,
            "bottom": null,
            "display": null,
            "flex": null,
            "flex_flow": null,
            "grid_area": null,
            "grid_auto_columns": null,
            "grid_auto_flow": null,
            "grid_auto_rows": null,
            "grid_column": null,
            "grid_gap": null,
            "grid_row": null,
            "grid_template_areas": null,
            "grid_template_columns": null,
            "grid_template_rows": null,
            "height": null,
            "justify_content": null,
            "justify_items": null,
            "left": null,
            "margin": null,
            "max_height": null,
            "max_width": null,
            "min_height": null,
            "min_width": null,
            "object_fit": null,
            "object_position": null,
            "order": null,
            "overflow": null,
            "overflow_x": null,
            "overflow_y": null,
            "padding": null,
            "right": null,
            "top": null,
            "visibility": null,
            "width": null
          }
        },
        "2d4079801da34c8ebd8119d8e5974201": {
          "model_module": "@jupyter-widgets/controls",
          "model_name": "DescriptionStyleModel",
          "model_module_version": "1.5.0",
          "state": {
            "_model_module": "@jupyter-widgets/controls",
            "_model_module_version": "1.5.0",
            "_model_name": "DescriptionStyleModel",
            "_view_count": null,
            "_view_module": "@jupyter-widgets/base",
            "_view_module_version": "1.2.0",
            "_view_name": "StyleView",
            "description_width": ""
          }
        }
      }
    }
  },
  "cells": [
    {
      "cell_type": "markdown",
      "metadata": {
        "id": "view-in-github",
        "colab_type": "text"
      },
      "source": [
        "<a href=\"https://colab.research.google.com/github/qwasd34/DEV_DATA/blob/main/%5B%EB%8D%B0%EC%9D%B4%ED%84%B0%EB%A7%88%EC%9D%B4%EB%8B%9D%5D_%E1%84%83%E1%85%B5%E1%86%B8%E1%84%85%E1%85%A5%E1%84%82%E1%85%B5%E1%86%BC_%E1%84%86%E1%85%A9%E1%84%83%E1%85%A6%E1%86%AF%E1%84%8B%E1%85%B3%E1%86%AF_%E1%84%92%E1%85%AA%E1%86%AF%E1%84%8B%E1%85%AD%E1%86%BC%E1%84%92%E1%85%A1%E1%86%AB_%E1%84%86%E1%85%AE%E1%86%AB%E1%84%8C%E1%85%A1%E1%86%BC_%E1%84%87%E1%85%AE%E1%86%AB%E1%84%85%E1%85%B2_%E1%84%89%E1%85%B5%E1%86%AF%E1%84%89%E1%85%B3%E1%86%B8_huggingface.ipynb\" target=\"_parent\"><img src=\"https://colab.research.google.com/assets/colab-badge.svg\" alt=\"Open In Colab\"/></a>"
      ]
    },
    {
      "cell_type": "markdown",
      "source": [
        "Hugging Face 사용\n",
        "- 다양한 연구 결과물들 사용 가능\n",
        "https://huggingface.co/cardiffnlp/twitter-roberta-base-sentiment-latest\n",
        "\n",
        "- 이모델은 bert 라는 딥러닝 모델개선\n",
        "- 학습을 따로 진행 x\n",
        "\n",
        "\n"
      ],
      "metadata": {
        "id": "C8pYV6wrnn-U"
      }
    },
    {
      "cell_type": "markdown",
      "source": [
        "# 데이터 로드\n",
        "\n"
      ],
      "metadata": {
        "id": "-k5FSOs0vH6Q"
      }
    },
    {
      "cell_type": "code",
      "source": [
        "import pandas as pd\n",
        "\n",
        "file_path = 'yelp_labelled.txt'\n",
        "data = pd.read_csv(file_path, names=['text', 'sentiment'], sep='\\t')\n",
        "\n",
        "data.head()"
      ],
      "metadata": {
        "colab": {
          "base_uri": "https://localhost:8080/",
          "height": 206
        },
        "id": "SfARFOXxANhv",
        "outputId": "783b8665-c0a2-4483-929f-f5a04b8cf356"
      },
      "execution_count": 1,
      "outputs": [
        {
          "output_type": "execute_result",
          "data": {
            "text/plain": [
              "                                                text  sentiment\n",
              "0                           Wow... Loved this place.          1\n",
              "1                                 Crust is not good.          0\n",
              "2          Not tasty and the texture was just nasty.          0\n",
              "3  Stopped by during the late May bank holiday of...          1\n",
              "4  The selection on the menu was great and so wer...          1"
            ],
            "text/html": [
              "\n",
              "  <div id=\"df-40ee4090-0a54-4a3d-961f-bafc0d610b3a\" class=\"colab-df-container\">\n",
              "    <div>\n",
              "<style scoped>\n",
              "    .dataframe tbody tr th:only-of-type {\n",
              "        vertical-align: middle;\n",
              "    }\n",
              "\n",
              "    .dataframe tbody tr th {\n",
              "        vertical-align: top;\n",
              "    }\n",
              "\n",
              "    .dataframe thead th {\n",
              "        text-align: right;\n",
              "    }\n",
              "</style>\n",
              "<table border=\"1\" class=\"dataframe\">\n",
              "  <thead>\n",
              "    <tr style=\"text-align: right;\">\n",
              "      <th></th>\n",
              "      <th>text</th>\n",
              "      <th>sentiment</th>\n",
              "    </tr>\n",
              "  </thead>\n",
              "  <tbody>\n",
              "    <tr>\n",
              "      <th>0</th>\n",
              "      <td>Wow... Loved this place.</td>\n",
              "      <td>1</td>\n",
              "    </tr>\n",
              "    <tr>\n",
              "      <th>1</th>\n",
              "      <td>Crust is not good.</td>\n",
              "      <td>0</td>\n",
              "    </tr>\n",
              "    <tr>\n",
              "      <th>2</th>\n",
              "      <td>Not tasty and the texture was just nasty.</td>\n",
              "      <td>0</td>\n",
              "    </tr>\n",
              "    <tr>\n",
              "      <th>3</th>\n",
              "      <td>Stopped by during the late May bank holiday of...</td>\n",
              "      <td>1</td>\n",
              "    </tr>\n",
              "    <tr>\n",
              "      <th>4</th>\n",
              "      <td>The selection on the menu was great and so wer...</td>\n",
              "      <td>1</td>\n",
              "    </tr>\n",
              "  </tbody>\n",
              "</table>\n",
              "</div>\n",
              "    <div class=\"colab-df-buttons\">\n",
              "\n",
              "  <div class=\"colab-df-container\">\n",
              "    <button class=\"colab-df-convert\" onclick=\"convertToInteractive('df-40ee4090-0a54-4a3d-961f-bafc0d610b3a')\"\n",
              "            title=\"Convert this dataframe to an interactive table.\"\n",
              "            style=\"display:none;\">\n",
              "\n",
              "  <svg xmlns=\"http://www.w3.org/2000/svg\" height=\"24px\" viewBox=\"0 -960 960 960\">\n",
              "    <path d=\"M120-120v-720h720v720H120Zm60-500h600v-160H180v160Zm220 220h160v-160H400v160Zm0 220h160v-160H400v160ZM180-400h160v-160H180v160Zm440 0h160v-160H620v160ZM180-180h160v-160H180v160Zm440 0h160v-160H620v160Z\"/>\n",
              "  </svg>\n",
              "    </button>\n",
              "\n",
              "  <style>\n",
              "    .colab-df-container {\n",
              "      display:flex;\n",
              "      gap: 12px;\n",
              "    }\n",
              "\n",
              "    .colab-df-convert {\n",
              "      background-color: #E8F0FE;\n",
              "      border: none;\n",
              "      border-radius: 50%;\n",
              "      cursor: pointer;\n",
              "      display: none;\n",
              "      fill: #1967D2;\n",
              "      height: 32px;\n",
              "      padding: 0 0 0 0;\n",
              "      width: 32px;\n",
              "    }\n",
              "\n",
              "    .colab-df-convert:hover {\n",
              "      background-color: #E2EBFA;\n",
              "      box-shadow: 0px 1px 2px rgba(60, 64, 67, 0.3), 0px 1px 3px 1px rgba(60, 64, 67, 0.15);\n",
              "      fill: #174EA6;\n",
              "    }\n",
              "\n",
              "    .colab-df-buttons div {\n",
              "      margin-bottom: 4px;\n",
              "    }\n",
              "\n",
              "    [theme=dark] .colab-df-convert {\n",
              "      background-color: #3B4455;\n",
              "      fill: #D2E3FC;\n",
              "    }\n",
              "\n",
              "    [theme=dark] .colab-df-convert:hover {\n",
              "      background-color: #434B5C;\n",
              "      box-shadow: 0px 1px 3px 1px rgba(0, 0, 0, 0.15);\n",
              "      filter: drop-shadow(0px 1px 2px rgba(0, 0, 0, 0.3));\n",
              "      fill: #FFFFFF;\n",
              "    }\n",
              "  </style>\n",
              "\n",
              "    <script>\n",
              "      const buttonEl =\n",
              "        document.querySelector('#df-40ee4090-0a54-4a3d-961f-bafc0d610b3a button.colab-df-convert');\n",
              "      buttonEl.style.display =\n",
              "        google.colab.kernel.accessAllowed ? 'block' : 'none';\n",
              "\n",
              "      async function convertToInteractive(key) {\n",
              "        const element = document.querySelector('#df-40ee4090-0a54-4a3d-961f-bafc0d610b3a');\n",
              "        const dataTable =\n",
              "          await google.colab.kernel.invokeFunction('convertToInteractive',\n",
              "                                                    [key], {});\n",
              "        if (!dataTable) return;\n",
              "\n",
              "        const docLinkHtml = 'Like what you see? Visit the ' +\n",
              "          '<a target=\"_blank\" href=https://colab.research.google.com/notebooks/data_table.ipynb>data table notebook</a>'\n",
              "          + ' to learn more about interactive tables.';\n",
              "        element.innerHTML = '';\n",
              "        dataTable['output_type'] = 'display_data';\n",
              "        await google.colab.output.renderOutput(dataTable, element);\n",
              "        const docLink = document.createElement('div');\n",
              "        docLink.innerHTML = docLinkHtml;\n",
              "        element.appendChild(docLink);\n",
              "      }\n",
              "    </script>\n",
              "  </div>\n",
              "\n",
              "\n",
              "<div id=\"df-e92a1fad-75dc-48d3-9358-7ad51ce50060\">\n",
              "  <button class=\"colab-df-quickchart\" onclick=\"quickchart('df-e92a1fad-75dc-48d3-9358-7ad51ce50060')\"\n",
              "            title=\"Suggest charts\"\n",
              "            style=\"display:none;\">\n",
              "\n",
              "<svg xmlns=\"http://www.w3.org/2000/svg\" height=\"24px\"viewBox=\"0 0 24 24\"\n",
              "     width=\"24px\">\n",
              "    <g>\n",
              "        <path d=\"M19 3H5c-1.1 0-2 .9-2 2v14c0 1.1.9 2 2 2h14c1.1 0 2-.9 2-2V5c0-1.1-.9-2-2-2zM9 17H7v-7h2v7zm4 0h-2V7h2v10zm4 0h-2v-4h2v4z\"/>\n",
              "    </g>\n",
              "</svg>\n",
              "  </button>\n",
              "\n",
              "<style>\n",
              "  .colab-df-quickchart {\n",
              "      --bg-color: #E8F0FE;\n",
              "      --fill-color: #1967D2;\n",
              "      --hover-bg-color: #E2EBFA;\n",
              "      --hover-fill-color: #174EA6;\n",
              "      --disabled-fill-color: #AAA;\n",
              "      --disabled-bg-color: #DDD;\n",
              "  }\n",
              "\n",
              "  [theme=dark] .colab-df-quickchart {\n",
              "      --bg-color: #3B4455;\n",
              "      --fill-color: #D2E3FC;\n",
              "      --hover-bg-color: #434B5C;\n",
              "      --hover-fill-color: #FFFFFF;\n",
              "      --disabled-bg-color: #3B4455;\n",
              "      --disabled-fill-color: #666;\n",
              "  }\n",
              "\n",
              "  .colab-df-quickchart {\n",
              "    background-color: var(--bg-color);\n",
              "    border: none;\n",
              "    border-radius: 50%;\n",
              "    cursor: pointer;\n",
              "    display: none;\n",
              "    fill: var(--fill-color);\n",
              "    height: 32px;\n",
              "    padding: 0;\n",
              "    width: 32px;\n",
              "  }\n",
              "\n",
              "  .colab-df-quickchart:hover {\n",
              "    background-color: var(--hover-bg-color);\n",
              "    box-shadow: 0 1px 2px rgba(60, 64, 67, 0.3), 0 1px 3px 1px rgba(60, 64, 67, 0.15);\n",
              "    fill: var(--button-hover-fill-color);\n",
              "  }\n",
              "\n",
              "  .colab-df-quickchart-complete:disabled,\n",
              "  .colab-df-quickchart-complete:disabled:hover {\n",
              "    background-color: var(--disabled-bg-color);\n",
              "    fill: var(--disabled-fill-color);\n",
              "    box-shadow: none;\n",
              "  }\n",
              "\n",
              "  .colab-df-spinner {\n",
              "    border: 2px solid var(--fill-color);\n",
              "    border-color: transparent;\n",
              "    border-bottom-color: var(--fill-color);\n",
              "    animation:\n",
              "      spin 1s steps(1) infinite;\n",
              "  }\n",
              "\n",
              "  @keyframes spin {\n",
              "    0% {\n",
              "      border-color: transparent;\n",
              "      border-bottom-color: var(--fill-color);\n",
              "      border-left-color: var(--fill-color);\n",
              "    }\n",
              "    20% {\n",
              "      border-color: transparent;\n",
              "      border-left-color: var(--fill-color);\n",
              "      border-top-color: var(--fill-color);\n",
              "    }\n",
              "    30% {\n",
              "      border-color: transparent;\n",
              "      border-left-color: var(--fill-color);\n",
              "      border-top-color: var(--fill-color);\n",
              "      border-right-color: var(--fill-color);\n",
              "    }\n",
              "    40% {\n",
              "      border-color: transparent;\n",
              "      border-right-color: var(--fill-color);\n",
              "      border-top-color: var(--fill-color);\n",
              "    }\n",
              "    60% {\n",
              "      border-color: transparent;\n",
              "      border-right-color: var(--fill-color);\n",
              "    }\n",
              "    80% {\n",
              "      border-color: transparent;\n",
              "      border-right-color: var(--fill-color);\n",
              "      border-bottom-color: var(--fill-color);\n",
              "    }\n",
              "    90% {\n",
              "      border-color: transparent;\n",
              "      border-bottom-color: var(--fill-color);\n",
              "    }\n",
              "  }\n",
              "</style>\n",
              "\n",
              "  <script>\n",
              "    async function quickchart(key) {\n",
              "      const quickchartButtonEl =\n",
              "        document.querySelector('#' + key + ' button');\n",
              "      quickchartButtonEl.disabled = true;  // To prevent multiple clicks.\n",
              "      quickchartButtonEl.classList.add('colab-df-spinner');\n",
              "      try {\n",
              "        const charts = await google.colab.kernel.invokeFunction(\n",
              "            'suggestCharts', [key], {});\n",
              "      } catch (error) {\n",
              "        console.error('Error during call to suggestCharts:', error);\n",
              "      }\n",
              "      quickchartButtonEl.classList.remove('colab-df-spinner');\n",
              "      quickchartButtonEl.classList.add('colab-df-quickchart-complete');\n",
              "    }\n",
              "    (() => {\n",
              "      let quickchartButtonEl =\n",
              "        document.querySelector('#df-e92a1fad-75dc-48d3-9358-7ad51ce50060 button');\n",
              "      quickchartButtonEl.style.display =\n",
              "        google.colab.kernel.accessAllowed ? 'block' : 'none';\n",
              "    })();\n",
              "  </script>\n",
              "</div>\n",
              "\n",
              "    </div>\n",
              "  </div>\n"
            ],
            "application/vnd.google.colaboratory.intrinsic+json": {
              "type": "dataframe",
              "variable_name": "data",
              "summary": "{\n  \"name\": \"data\",\n  \"rows\": 1000,\n  \"fields\": [\n    {\n      \"column\": \"text\",\n      \"properties\": {\n        \"dtype\": \"string\",\n        \"num_unique_values\": 996,\n        \"samples\": [\n          \"They were excellent.\",\n          \"Your servers suck, wait, correction, our server Heimer sucked.\",\n          \"Will be back again!\"\n        ],\n        \"semantic_type\": \"\",\n        \"description\": \"\"\n      }\n    },\n    {\n      \"column\": \"sentiment\",\n      \"properties\": {\n        \"dtype\": \"number\",\n        \"std\": 0,\n        \"min\": 0,\n        \"max\": 1,\n        \"num_unique_values\": 2,\n        \"samples\": [\n          0,\n          1\n        ],\n        \"semantic_type\": \"\",\n        \"description\": \"\"\n      }\n    }\n  ]\n}"
            }
          },
          "metadata": {},
          "execution_count": 1
        }
      ]
    },
    {
      "cell_type": "markdown",
      "source": [
        "- 딥러닝 모델의 전처리는 모델마다 상이함\n",
        "- HuggingFace 는 특정 모델에 맞는 전처리 코드 제공\n",
        "- 모델 HF 페이지에 이름 제공하면 전처리 Tokenizer 제공\n",
        "  - Auto: HF페이지 이름만으로 목표하는것들을 자동으로 가져옴\n",
        "- Stop words, stemming 사용하지않음 -> (딥러닝쪽에서는 많이 사용 x)\n",
        "\n",
        "\n",
        "**Token 의 index**\n",
        "- Token과 Embedding vector 사이를 이어주는 mapping value\n",
        "\n",
        "장점\n",
        "- 메모리적 이득\n",
        "  - token 은 글의 형태이므로 메모리 많이 차지함\n",
        "  - 특정 token 이 몇번째 index token 인지만 약속해두면 단순 정수인 index 값만 넘겨주면 메모리 절약이 좋음\n",
        "\n",
        "- Embedding Vector 를 모델에 귀속시켜 관리용이성 높음\n",
        "  - 딥러닝 모델은 word2Vec 이나 GloVe 와 같이 독립적인 Embedding 을 사용하지않음\n",
        "  - 모델의 특성에 맞는 Embedding 모델을 각자 설계\n",
        "  - 모델 구조의 앞단에 Embedding 을 삽입\n",
        "\n",
        "- index 는 Embedding Vector 가 쌓여있는 순서를 의미!"
      ],
      "metadata": {
        "id": "crWdb7fZovBA"
      }
    },
    {
      "cell_type": "markdown",
      "source": [
        "# 전처리 (Tokenize + alpha)\n",
        "\n",
        "- Stop word 제거 & Stemming 과정은 사용하지 않음"
      ],
      "metadata": {
        "id": "qPDbrLVJAiiR"
      }
    },
    {
      "cell_type": "code",
      "source": [
        "from transformers import AutoTokenizer\n",
        "\n",
        "MODEL = f\"cardiffnlp/twitter-roberta-base-sentiment-latest\"\n",
        "tokenizer = AutoTokenizer.from_pretrained(MODEL)"
      ],
      "metadata": {
        "colab": {
          "base_uri": "https://localhost:8080/",
          "height": 255,
          "referenced_widgets": [
            "c73eb46e36f049b296789e43af9105c0",
            "80831c6b39a646778a8b3d6750b3c925",
            "fd0accc6f6c04f6cb55b0d50f527fc67",
            "1313be168ae24e01bac8782d1e708d3a",
            "286270f7f6d2491a9395627f5ba0f6d4",
            "6426b3be58ec4891b7782254927a2f1b",
            "c80254283c1049c68eab94d9dd97177f",
            "f5613721e51d480380d68cc4b3ae95df",
            "e4c4030eee524b689a20541f17f96837",
            "dfc031e7bb684a5ca143c33ad824e0c4",
            "0503cf2df749453fb51a311442a6e5f6",
            "b29f596cfe5f420cbd05b376e54dc1e8",
            "5d3436c7d63042bb9dfb608df81d1b8a",
            "de5003b6819640b884441b037a902966",
            "2fa83a3966f841c2be78762b1477cc09",
            "0bf9f52233a34d79a34bdb0be4bb2b23",
            "c815d565b7264f7a9eeb3053d552c674",
            "132b3ebe84ed42db809433f19e53d304",
            "6277d43fd4c54a8d88db5050e7b8908a",
            "cf2902af818a4840b596ac77cb08b3e0",
            "1e7eb07094964cf49f7b9d99118ec72d",
            "4123277d9ae44d7e8729959c42bf0338",
            "730bc2b3a48640bfb13e4be38ad4b17d",
            "122cac716c0f493b8e75265e92299b8a",
            "dc973b01e92b4295b2bc47838f0a4f29",
            "0ca5e4891018456bb60bc3ffe18c41b3",
            "f453b48ab7324349b555f8309075c468",
            "f79f18132d9e4cfe80cb1b725647dc4e",
            "98fcc3ab485147c6865528b5c7e653e4",
            "6d2cc91cf98146f7b66394eb58d8d5d6",
            "5604528416a540a387d7c3a9ab58aa09",
            "11b2aa813ac74732aa2f59acf09716b4",
            "b33788b3dd5142b1bbfa43ecc7de348e",
            "498fbb40b0b142f29e34428df3408094",
            "2e33884f29374585854f50d9a68be224",
            "ca093c90554043efbf4b5632b00662ff",
            "0bb4086c26fe425892c54ce23024fcda",
            "af37f33eebfd434198fc7458e33a45f2",
            "a55df70d6d68410b85b2d5cad7c310e0",
            "3c204776ef234ee99fd7f0aef3b9e5ee",
            "d7ce6089cfd3419497faff911b0c048c",
            "4f8e23d2571c4d5ca4af41a68eaf1dce",
            "2363fec450a44e1596491ee96716f202",
            "2d4079801da34c8ebd8119d8e5974201"
          ]
        },
        "id": "b_bAMu7Dy86Y",
        "outputId": "a042a9a5-eb48-49e0-f0c1-36d509c7be2e"
      },
      "execution_count": 4,
      "outputs": [
        {
          "output_type": "stream",
          "name": "stderr",
          "text": [
            "/usr/local/lib/python3.10/dist-packages/huggingface_hub/utils/_token.py:89: UserWarning: \n",
            "The secret `HF_TOKEN` does not exist in your Colab secrets.\n",
            "To authenticate with the Hugging Face Hub, create a token in your settings tab (https://huggingface.co/settings/tokens), set it as secret in your Google Colab and restart your session.\n",
            "You will be able to reuse this secret in all of your notebooks.\n",
            "Please note that authentication is recommended but still optional to access public models or datasets.\n",
            "  warnings.warn(\n"
          ]
        },
        {
          "output_type": "display_data",
          "data": {
            "text/plain": [
              "config.json:   0%|          | 0.00/929 [00:00<?, ?B/s]"
            ],
            "application/vnd.jupyter.widget-view+json": {
              "version_major": 2,
              "version_minor": 0,
              "model_id": "c73eb46e36f049b296789e43af9105c0"
            }
          },
          "metadata": {}
        },
        {
          "output_type": "display_data",
          "data": {
            "text/plain": [
              "vocab.json:   0%|          | 0.00/899k [00:00<?, ?B/s]"
            ],
            "application/vnd.jupyter.widget-view+json": {
              "version_major": 2,
              "version_minor": 0,
              "model_id": "b29f596cfe5f420cbd05b376e54dc1e8"
            }
          },
          "metadata": {}
        },
        {
          "output_type": "display_data",
          "data": {
            "text/plain": [
              "merges.txt:   0%|          | 0.00/456k [00:00<?, ?B/s]"
            ],
            "application/vnd.jupyter.widget-view+json": {
              "version_major": 2,
              "version_minor": 0,
              "model_id": "730bc2b3a48640bfb13e4be38ad4b17d"
            }
          },
          "metadata": {}
        },
        {
          "output_type": "display_data",
          "data": {
            "text/plain": [
              "special_tokens_map.json:   0%|          | 0.00/239 [00:00<?, ?B/s]"
            ],
            "application/vnd.jupyter.widget-view+json": {
              "version_major": 2,
              "version_minor": 0,
              "model_id": "498fbb40b0b142f29e34428df3408094"
            }
          },
          "metadata": {}
        }
      ]
    },
    {
      "cell_type": "code",
      "source": [
        "text = data['text'][0]\n",
        "print(text)"
      ],
      "metadata": {
        "colab": {
          "base_uri": "https://localhost:8080/"
        },
        "id": "T4QOPKG1y81s",
        "outputId": "61624691-aaef-4534-f593-549ce91878e5"
      },
      "execution_count": 5,
      "outputs": [
        {
          "output_type": "stream",
          "name": "stdout",
          "text": [
            "Wow... Loved this place.\n"
          ]
        }
      ]
    },
    {
      "cell_type": "code",
      "source": [
        "tokenized = tokenizer(text, return_tensors='pt') # 출력결과를 pt 자료형 ! Pytorch\n",
        "print(tokenized)"
      ],
      "metadata": {
        "colab": {
          "base_uri": "https://localhost:8080/"
        },
        "id": "FmoJ0KUBzEw2",
        "outputId": "8f10aa91-cfda-4af9-de2a-27d3a15b9fbb"
      },
      "execution_count": 11,
      "outputs": [
        {
          "output_type": "stream",
          "name": "stdout",
          "text": [
            "{'input_ids': tensor([[    0, 23692,   734,   226, 12677,    42,   317,     4,     2]]), 'attention_mask': tensor([[1, 1, 1, 1, 1, 1, 1, 1, 1]])}\n"
          ]
        }
      ]
    },
    {
      "cell_type": "code",
      "source": [
        "# 실제 Token의 값을 글자의 형태로 확인하려면\n",
        "# convert_ids_to_tokens 함수를 활용\n",
        "tokenizer.convert_ids_to_tokens(tokenized['input_ids'].tolist()[0])\n",
        "# 이 모델의 Token은 단어의 시작을 나타내는 글자에도 추가 처리를 진행!"
      ],
      "metadata": {
        "colab": {
          "base_uri": "https://localhost:8080/"
        },
        "id": "jIS_3EA3zEu7",
        "outputId": "b0265aff-d494-4891-855e-b2a1ac92c3e3"
      },
      "execution_count": 12,
      "outputs": [
        {
          "output_type": "execute_result",
          "data": {
            "text/plain": [
              "['<s>', 'Wow', '...', 'ĠL', 'oved', 'Ġthis', 'Ġplace', '.', '</s>']"
            ]
          },
          "metadata": {},
          "execution_count": 12
        }
      ]
    },
    {
      "cell_type": "markdown",
      "source": [
        "# 모델 호출"
      ],
      "metadata": {
        "id": "sOrBlFaOJNZG"
      }
    },
    {
      "cell_type": "code",
      "source": [
        "from transformers import AutoModelForSequenceClassification\n",
        "\n",
        "model = AutoModelForSequenceClassification.from_pretrained(MODEL)"
      ],
      "metadata": {
        "colab": {
          "base_uri": "https://localhost:8080/"
        },
        "id": "JkQxQvrvzEq0",
        "outputId": "c9157267-02a0-40f6-c691-fb968bba1bd2"
      },
      "execution_count": 14,
      "outputs": [
        {
          "output_type": "stream",
          "name": "stderr",
          "text": [
            "Some weights of the model checkpoint at cardiffnlp/twitter-roberta-base-sentiment-latest were not used when initializing RobertaForSequenceClassification: ['roberta.pooler.dense.bias', 'roberta.pooler.dense.weight']\n",
            "- This IS expected if you are initializing RobertaForSequenceClassification from the checkpoint of a model trained on another task or with another architecture (e.g. initializing a BertForSequenceClassification model from a BertForPreTraining model).\n",
            "- This IS NOT expected if you are initializing RobertaForSequenceClassification from the checkpoint of a model that you expect to be exactly identical (initializing a BertForSequenceClassification model from a BertForSequenceClassification model).\n"
          ]
        }
      ]
    },
    {
      "cell_type": "code",
      "source": [
        "print(model)"
      ],
      "metadata": {
        "colab": {
          "base_uri": "https://localhost:8080/"
        },
        "id": "hvkCT4gbM8q9",
        "outputId": "ebdf8a0c-9f07-41aa-8e60-2c6ee5ad9a0a"
      },
      "execution_count": 15,
      "outputs": [
        {
          "output_type": "stream",
          "name": "stdout",
          "text": [
            "RobertaForSequenceClassification(\n",
            "  (roberta): RobertaModel(\n",
            "    (embeddings): RobertaEmbeddings(\n",
            "      (word_embeddings): Embedding(50265, 768, padding_idx=1)\n",
            "      (position_embeddings): Embedding(514, 768, padding_idx=1)\n",
            "      (token_type_embeddings): Embedding(1, 768)\n",
            "      (LayerNorm): LayerNorm((768,), eps=1e-05, elementwise_affine=True)\n",
            "      (dropout): Dropout(p=0.1, inplace=False)\n",
            "    )\n",
            "    (encoder): RobertaEncoder(\n",
            "      (layer): ModuleList(\n",
            "        (0-11): 12 x RobertaLayer(\n",
            "          (attention): RobertaAttention(\n",
            "            (self): RobertaSelfAttention(\n",
            "              (query): Linear(in_features=768, out_features=768, bias=True)\n",
            "              (key): Linear(in_features=768, out_features=768, bias=True)\n",
            "              (value): Linear(in_features=768, out_features=768, bias=True)\n",
            "              (dropout): Dropout(p=0.1, inplace=False)\n",
            "            )\n",
            "            (output): RobertaSelfOutput(\n",
            "              (dense): Linear(in_features=768, out_features=768, bias=True)\n",
            "              (LayerNorm): LayerNorm((768,), eps=1e-05, elementwise_affine=True)\n",
            "              (dropout): Dropout(p=0.1, inplace=False)\n",
            "            )\n",
            "          )\n",
            "          (intermediate): RobertaIntermediate(\n",
            "            (dense): Linear(in_features=768, out_features=3072, bias=True)\n",
            "            (intermediate_act_fn): GELUActivation()\n",
            "          )\n",
            "          (output): RobertaOutput(\n",
            "            (dense): Linear(in_features=3072, out_features=768, bias=True)\n",
            "            (LayerNorm): LayerNorm((768,), eps=1e-05, elementwise_affine=True)\n",
            "            (dropout): Dropout(p=0.1, inplace=False)\n",
            "          )\n",
            "        )\n",
            "      )\n",
            "    )\n",
            "  )\n",
            "  (classifier): RobertaClassificationHead(\n",
            "    (dense): Linear(in_features=768, out_features=768, bias=True)\n",
            "    (dropout): Dropout(p=0.1, inplace=False)\n",
            "    (out_proj): Linear(in_features=768, out_features=3, bias=True)\n",
            "  )\n",
            ")\n"
          ]
        }
      ]
    },
    {
      "cell_type": "code",
      "source": [
        "# [참고] index를 바탕으로 embedding 값을 알아보기\n",
        "# 모델의 구조를 바탕으로 embedding 부분만 추론 진행\n",
        "\n",
        "emb = model.roberta.embeddings(**{'input_ids':tokenized['input_ids']})\n",
        "print('Embedding 값 : ')\n",
        "print(emb)\n",
        "\n",
        "# 9개의 Token이 입력되었고,\n",
        "# 각 Token은 768짜리 vector로 변환\n",
        "print('Embedding 출력의 크기 : ', emb.shape)"
      ],
      "metadata": {
        "colab": {
          "base_uri": "https://localhost:8080/"
        },
        "id": "dEQgit9TJWv1",
        "outputId": "a61e0c67-7e6e-46ca-98f4-654a1f0d9d36"
      },
      "execution_count": 16,
      "outputs": [
        {
          "output_type": "stream",
          "name": "stdout",
          "text": [
            "Embedding 값 : \n",
            "tensor([[[ 0.0633, -0.0212,  0.0193,  ..., -0.0826, -0.0200, -0.0056],\n",
            "         [ 0.0161,  0.4771,  0.3319,  ...,  0.2406,  0.1631, -0.0477],\n",
            "         [ 0.3196, -0.0508, -0.1949,  ..., -0.3173, -0.2470,  0.1839],\n",
            "         ...,\n",
            "         [ 0.4359, -0.1863, -0.2228,  ...,  0.2046,  0.0033, -0.1896],\n",
            "         [ 0.3981, -0.1241, -0.2193,  ..., -0.7940, -0.0644,  0.0779],\n",
            "         [ 0.1316, -0.0281, -0.0168,  ...,  0.1175,  0.0908, -0.0614]]],\n",
            "       grad_fn=<NativeLayerNormBackward0>)\n",
            "Embedding 출력의 크기 :  torch.Size([1, 9, 768])\n"
          ]
        }
      ]
    },
    {
      "cell_type": "markdown",
      "source": [
        "# 모델 사용"
      ],
      "metadata": {
        "id": "mJ24Gbs1QV-r"
      }
    },
    {
      "cell_type": "code",
      "source": [
        "# 모델을 사용한다면 Token 값으로 나온\n",
        "# input_ids를 key_value 형태로 넣어주면 됨\n",
        "# https://huggingface.co/docs/transformers/main/en/model_doc/roberta#transformers.RobertaForSequenceClassification.forward.input_ids\n",
        "\n",
        "output = model(input_ids = tokenized['input_ids'])\n",
        "\n",
        "# 혹은 사용 예제에서 처럼\n",
        "# Unpacking 사용도 가능\n",
        "# https://huggingface.co/cardiffnlp/twitter-roberta-base-sentiment-latest#full-classification-example\n",
        "\n",
        "output = model(**tokenized)"
      ],
      "metadata": {
        "id": "LstxSTPFzyuC"
      },
      "execution_count": 17,
      "outputs": []
    },
    {
      "cell_type": "markdown",
      "source": [
        "# 출력 확인 및 해석"
      ],
      "metadata": {
        "id": "YM156NocVfOM"
      }
    },
    {
      "cell_type": "code",
      "source": [
        "# 모델의 출력 결과\n",
        "# 학습 과정에서도 쓰이는 다양한 결과가 존재\n",
        "print(output)"
      ],
      "metadata": {
        "colab": {
          "base_uri": "https://localhost:8080/"
        },
        "id": "fQj3IRd6Qb2t",
        "outputId": "e70c782b-4d2f-4193-e9a9-4dc79634894a"
      },
      "execution_count": 18,
      "outputs": [
        {
          "output_type": "stream",
          "name": "stdout",
          "text": [
            "SequenceClassifierOutput(loss=None, logits=tensor([[-1.7095, -1.1774,  3.0097]], grad_fn=<AddmmBackward0>), hidden_states=None, attentions=None)\n"
          ]
        }
      ]
    },
    {
      "cell_type": "code",
      "source": [
        "# 타겟하는 정보인 점수 값을 가져옴  logits=tensor([[-1.7095, -1.1774,  3.0097]]\n",
        "scores = output[0][0].detach().numpy()\n",
        "print(scores)"
      ],
      "metadata": {
        "colab": {
          "base_uri": "https://localhost:8080/"
        },
        "id": "vlmsmrFZVqm_",
        "outputId": "fb80e5d1-c1c4-42b8-aac5-372d909af18e"
      },
      "execution_count": 19,
      "outputs": [
        {
          "output_type": "stream",
          "name": "stdout",
          "text": [
            "[-1.709534  -1.1773801  3.0097373]\n"
          ]
        }
      ]
    },
    {
      "cell_type": "code",
      "source": [
        "# 점수를 확률의 형태로 변환\n",
        "# 과정에성 softmax 함수를 사용하고\n",
        "# 외부 패키지의 함수를 활용\n",
        "\n",
        "from scipy.special import softmax\n",
        "\n",
        "scores = softmax(scores)\n",
        "print(scores)"
      ],
      "metadata": {
        "id": "g5In_WDK1VkW",
        "colab": {
          "base_uri": "https://localhost:8080/"
        },
        "outputId": "ab98624c-d59a-4137-9e89-77aa6a95b41b"
      },
      "execution_count": 20,
      "outputs": [
        {
          "output_type": "stream",
          "name": "stdout",
          "text": [
            "[0.00871163 0.01483237 0.97645605]\n"
          ]
        }
      ]
    },
    {
      "cell_type": "code",
      "source": [
        "# 모델 학습 정보를 확인하기 위한 config 값 로딩\n",
        " #negative\": 0,\n",
        "  #  \"neutral\": 1,\n",
        "  #  \"positive\": 2\n",
        "\n",
        "\n",
        "from transformers import AutoConfig\n",
        "config = AutoConfig.from_pretrained(MODEL)\n",
        "\n",
        "config"
      ],
      "metadata": {
        "colab": {
          "base_uri": "https://localhost:8080/"
        },
        "id": "dvvAecVuV2ZC",
        "outputId": "e1482f4f-e17e-45c9-9de6-2369bca47651"
      },
      "execution_count": 22,
      "outputs": [
        {
          "output_type": "execute_result",
          "data": {
            "text/plain": [
              "RobertaConfig {\n",
              "  \"_name_or_path\": \"cardiffnlp/twitter-roberta-base-sentiment-latest\",\n",
              "  \"architectures\": [\n",
              "    \"RobertaForSequenceClassification\"\n",
              "  ],\n",
              "  \"attention_probs_dropout_prob\": 0.1,\n",
              "  \"bos_token_id\": 0,\n",
              "  \"classifier_dropout\": null,\n",
              "  \"eos_token_id\": 2,\n",
              "  \"gradient_checkpointing\": false,\n",
              "  \"hidden_act\": \"gelu\",\n",
              "  \"hidden_dropout_prob\": 0.1,\n",
              "  \"hidden_size\": 768,\n",
              "  \"id2label\": {\n",
              "    \"0\": \"negative\",\n",
              "    \"1\": \"neutral\",\n",
              "    \"2\": \"positive\"\n",
              "  },\n",
              "  \"initializer_range\": 0.02,\n",
              "  \"intermediate_size\": 3072,\n",
              "  \"label2id\": {\n",
              "    \"negative\": 0,\n",
              "    \"neutral\": 1,\n",
              "    \"positive\": 2\n",
              "  },\n",
              "  \"layer_norm_eps\": 1e-05,\n",
              "  \"max_position_embeddings\": 514,\n",
              "  \"model_type\": \"roberta\",\n",
              "  \"num_attention_heads\": 12,\n",
              "  \"num_hidden_layers\": 12,\n",
              "  \"pad_token_id\": 1,\n",
              "  \"position_embedding_type\": \"absolute\",\n",
              "  \"torch_dtype\": \"float32\",\n",
              "  \"transformers_version\": \"4.42.4\",\n",
              "  \"type_vocab_size\": 1,\n",
              "  \"use_cache\": true,\n",
              "  \"vocab_size\": 50265\n",
              "}"
            ]
          },
          "metadata": {},
          "execution_count": 22
        }
      ]
    },
    {
      "cell_type": "code",
      "source": [
        "# 최종적으로 확률이 제일 큰 값의 인덱스를 바탕으로 감정을 판단\n",
        "import numpy as np\n",
        "\n",
        "max_prob_index = np.argmax(scores)\n",
        "results = config.id2label[max_prob_index]\n",
        "results"
      ],
      "metadata": {
        "id": "cNlsuCG01Vcj",
        "colab": {
          "base_uri": "https://localhost:8080/",
          "height": 35
        },
        "outputId": "61be29c6-1606-4e59-bef7-7f62e16a638e"
      },
      "execution_count": 23,
      "outputs": [
        {
          "output_type": "execute_result",
          "data": {
            "text/plain": [
              "'positive'"
            ],
            "application/vnd.google.colaboratory.intrinsic+json": {
              "type": "string"
            }
          },
          "metadata": {},
          "execution_count": 23
        }
      ]
    },
    {
      "cell_type": "code",
      "source": [
        "# 최종 함수로 표현\n",
        "def sentiment_analysis(sentence, tokenizer, model, config):\n",
        "    tokenized = tokenizer(sentence, return_tensors='pt')\n",
        "    output = model(input_ids = tokenized['input_ids'])\n",
        "\n",
        "    scores = output[0][0].detach().numpy()\n",
        "    scores = softmax(scores)\n",
        "\n",
        "    max_prob_index = np.argmax(scores)\n",
        "    results = config.id2label[max_prob_index]\n",
        "    return results, max_prob_index"
      ],
      "metadata": {
        "id": "I72m33sNYppY"
      },
      "execution_count": 28,
      "outputs": []
    },
    {
      "cell_type": "code",
      "source": [
        "sent = data['text'][2]\n",
        "res, idx = sentiment_analysis(sent, tokenizer, model, config)\n",
        "print(sent)\n",
        "print('-> ', idx, res)"
      ],
      "metadata": {
        "colab": {
          "base_uri": "https://localhost:8080/"
        },
        "id": "B5e96nYVZcp6",
        "outputId": "1fffdf67-329c-4cf1-fefe-d670101fddca"
      },
      "execution_count": 29,
      "outputs": [
        {
          "output_type": "stream",
          "name": "stdout",
          "text": [
            "Not tasty and the texture was just nasty.\n",
            "->  0 negative\n"
          ]
        }
      ]
    },
    {
      "cell_type": "markdown",
      "source": [
        "# 평가 데이터 생성 - 전에 머신러닝 모델과 비교"
      ],
      "metadata": {
        "id": "VtsD0eX5aBQb"
      }
    },
    {
      "cell_type": "code",
      "source": [
        "from sklearn.model_selection import train_test_split\n",
        "\n",
        "X = np.stack(data['text'].values)\n",
        "y = np.stack(data['sentiment'].values)\n",
        "\n",
        "# 훈련 데이터와 테스트 데이터로 분할\n",
        "X_train, X_test, y_train, y_test = train_test_split(X, y, test_size=0.2, random_state=42)"
      ],
      "metadata": {
        "id": "Zs8heFOxXzQH"
      },
      "execution_count": 30,
      "outputs": []
    },
    {
      "cell_type": "code",
      "source": [
        "# 머신러닝 에서는 0과1밖에 안나옴. 지금은 0, 1,2  강제로 1을 -1로 바꿔서 머신러닝결과랑 맞춰줌\n",
        "def convertResults(index):\n",
        "    if index == 0 : return index\n",
        "    elif index == 1 : return -1\n",
        "    elif index == 2 : return 1"
      ],
      "metadata": {
        "id": "LSrDg32gbh4l"
      },
      "execution_count": 31,
      "outputs": []
    },
    {
      "cell_type": "code",
      "source": [
        "# 평가 데이터에 대해 전체 추론 진행\n",
        "predictions = []\n",
        "\n",
        "for test in X_test :\n",
        "    res, idx = sentiment_analysis(test, tokenizer, model, config)\n",
        "    idx = convertResults(idx)\n",
        "    predictions.append(idx)\n",
        "\n",
        "predictions = np.array(predictions)"
      ],
      "metadata": {
        "id": "K9bLa1jdXqqF"
      },
      "execution_count": 32,
      "outputs": []
    },
    {
      "cell_type": "code",
      "source": [
        "predictions"
      ],
      "metadata": {
        "colab": {
          "base_uri": "https://localhost:8080/"
        },
        "id": "dV_N12cxcls3",
        "outputId": "7ec4310b-b2bf-4ae5-fcef-72a502901d84"
      },
      "execution_count": 33,
      "outputs": [
        {
          "output_type": "execute_result",
          "data": {
            "text/plain": [
              "array([-1,  1,  1,  1,  1,  1,  0,  1,  0,  1,  0,  0,  0,  0, -1,  1,  1,\n",
              "        0,  0, -1,  1,  1,  0,  1,  0,  0,  1,  0,  0,  0,  1,  1,  0,  1,\n",
              "        0,  1,  1, -1,  1,  0,  0,  1,  1,  0,  1,  1,  0, -1, -1,  0,  0,\n",
              "        0, -1,  1,  1,  1, -1,  1,  0,  0, -1,  1,  1,  1,  1,  1,  1,  1,\n",
              "        1,  0,  1,  1,  1,  0,  1,  0,  1,  0,  0,  0,  0,  1,  1,  1,  1,\n",
              "        0,  0,  1,  1,  1,  1,  1,  0,  0,  1,  1,  1,  1,  1,  0,  1,  0,\n",
              "        0,  1,  1,  0,  0, -1,  0,  0,  1, -1,  0,  0,  0,  1,  1,  0,  0,\n",
              "        1, -1,  1,  0,  1,  1,  1,  1,  1,  1,  0,  0,  0,  1,  0,  1,  1,\n",
              "        0,  1,  1,  0,  0,  1,  1,  0,  0,  0,  0,  0,  1,  0, -1,  1,  0,\n",
              "        1, -1, -1,  1,  0,  0,  0,  1,  1,  0,  0,  1, -1,  0,  1,  1,  1,\n",
              "        1,  1,  0,  0,  1,  0,  1,  0,  0,  0,  1,  0,  1,  0,  0,  1,  1,\n",
              "        0,  0,  1,  0,  0,  1,  1, -1,  1,  1, -1,  0,  1])"
            ]
          },
          "metadata": {},
          "execution_count": 33
        }
      ]
    },
    {
      "cell_type": "code",
      "source": [
        "# 분류 문제이므로 분류 과정에서 많이 사용하는 평가 척도 사용\n",
        "\n",
        "from sklearn.metrics import confusion_matrix\n",
        "cm = confusion_matrix(y_test, predictions)\n",
        "\n",
        "import matplotlib.pyplot as plt\n",
        "# Confusion Matrix 시각화\n",
        "plt.figure(figsize=(8, 6))\n",
        "plt.imshow(cm, interpolation='nearest', cmap=plt.cm.Blues)\n",
        "plt.title('Confusion Matrix')\n",
        "plt.colorbar()\n",
        "tick_marks = np.arange(3)\n",
        "plt.xticks(tick_marks, ['Neutral', 'Negative', 'Positive'])\n",
        "plt.yticks(tick_marks, ['Neutral', 'Negative', 'Positive'])\n",
        "\n",
        "# 각 칸에 실제 값 표시\n",
        "for i in range(cm.shape[0]):\n",
        "    for j in range(cm.shape[1]):\n",
        "        plt.text(j, i, cm[i, j],\n",
        "                 horizontalalignment=\"center\",\n",
        "                 color=\"white\" if cm[i, j] > cm.max() / 2 else \"black\")\n",
        "\n",
        "plt.tight_layout()\n",
        "plt.ylabel('True label')\n",
        "plt.xlabel('Predicted label')\n",
        "plt.show()"
      ],
      "metadata": {
        "colab": {
          "base_uri": "https://localhost:8080/",
          "height": 626
        },
        "id": "m9171htvXqnn",
        "outputId": "53c75659-ac87-44aa-c680-c32230d866e5"
      },
      "execution_count": 34,
      "outputs": [
        {
          "output_type": "display_data",
          "data": {
            "text/plain": [
              "<Figure size 800x600 with 2 Axes>"
            ],
            "image/png": "[encoded data removed]"
          },
          "metadata": {}
        }
      ]
    },
    {
      "cell_type": "code",
      "source": [
        "from sklearn.metrics import accuracy_score, precision_score, recall_score, f1_score\n",
        "\n",
        "# Precision, Recall, F1-Score 계산\n",
        "accuracy = accuracy_score(y_test, predictions)\n",
        "precision = precision_score(y_test, predictions, average='micro') # 모든 클래스의 결과를 합산하여 계산\n",
        "recall = recall_score(y_test, predictions, average='micro')\n",
        "f1 = f1_score(y_test, predictions, average='micro')\n",
        "\n",
        "# 결과 출력\n",
        "print(f\"Accuracy: {accuracy:.2f}\")\n",
        "print(f\"Precision: {precision:.2f}\")\n",
        "print(f\"Recall: {recall:.2f}\")\n",
        "print(f\"F1-Score: {f1:.2f}\")"
      ],
      "metadata": {
        "colab": {
          "base_uri": "https://localhost:8080/"
        },
        "id": "KszRxYvFXqlq",
        "outputId": "5da96798-1f30-43bd-ba03-f30ed6d027ea"
      },
      "execution_count": 36,
      "outputs": [
        {
          "output_type": "stream",
          "name": "stdout",
          "text": [
            "Accuracy: 0.91\n",
            "Precision: 0.91\n",
            "Recall: 0.91\n",
            "F1-Score: 0.91\n"
          ]
        }
      ]
    },
    {
      "cell_type": "markdown",
      "source": [
        "![image.png](data:image/png;base64,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)"
      ],
      "metadata": {
        "id": "MJufiCt-u81e"
      }
    },
    {
      "cell_type": "markdown",
      "source": [
        "# 가상 데이터를 활용한 문장 분석 결과 확인"
      ],
      "metadata": {
        "id": "wjJQvFN_hHvp"
      }
    },
    {
      "cell_type": "code",
      "source": [
        "# 음식점에 대한 만족도 관련 텍스트를 임의로 생성\n",
        "\n",
        "examples = [\n",
        "    \"This restaurant had the best service I've ever experienced.\", # 긍정적\n",
        "    \"Extremely disappointed with the late delivery.\", # 부정적\n",
        "    \"The ambiance was enchanting and very relaxing.\", # 긍정적\n",
        "    \"Unfortunately, the food was bad and uninspired.\", # 부정적\n",
        "    \"Amazing cocktails and a vibrant atmosphere!\", # 긍정적\n",
        "    \"Waited an hour for our table, even with a reservation.\", # 부정적\n",
        "    \"The pasta dish was a delightful surprise with its rich flavors.\", # 긍정적\n",
        "    \"Too noisy to enjoy our meal, and the tables were too close together.\", # 부정적\n",
        "    \"Exceptional customer service and a very friendly staff.\", # 긍정적\n",
        "    \"The dessert was undercooked and not what we expected.\", # 부정적\n",
        "]"
      ],
      "metadata": {
        "id": "cq0mK3UehOJB"
      },
      "execution_count": 37,
      "outputs": []
    },
    {
      "cell_type": "code",
      "source": [
        "# 가상 데이터를 활용한 예측 진행\n",
        "\n",
        "for idx, exp in enumerate(examples) :\n",
        "    res, index = sentiment_analysis(exp, tokenizer, model, config)\n",
        "    origin_sent = '긍정적' if idx % 2 == 0 else '부정적'\n",
        "    if index == 0 : pred_sent = '부정적'\n",
        "    elif index == 1 : pred_sent = '중립'\n",
        "    else : pred_sent = '긍정적'\n",
        "\n",
        "    print(f\"문장: {exp} \\n원래 감정 : {origin_sent} / 예측 : {pred_sent}\", end='\\n\\n')"
      ],
      "metadata": {
        "colab": {
          "base_uri": "https://localhost:8080/"
        },
        "id": "R4u76QBLizi8",
        "outputId": "eb044e96-384c-4db8-e1e0-8bc875cab932"
      },
      "execution_count": 38,
      "outputs": [
        {
          "output_type": "stream",
          "name": "stdout",
          "text": [
            "문장: This restaurant had the best service I've ever experienced. \n",
            "원래 감정 : 긍정적 / 예측 : 긍정적\n",
            "\n",
            "문장: Extremely disappointed with the late delivery. \n",
            "원래 감정 : 부정적 / 예측 : 부정적\n",
            "\n",
            "문장: The ambiance was enchanting and very relaxing. \n",
            "원래 감정 : 긍정적 / 예측 : 긍정적\n",
            "\n",
            "문장: Unfortunately, the food was bad and uninspired. \n",
            "원래 감정 : 부정적 / 예측 : 부정적\n",
            "\n",
            "문장: Amazing cocktails and a vibrant atmosphere! \n",
            "원래 감정 : 긍정적 / 예측 : 긍정적\n",
            "\n",
            "문장: Waited an hour for our table, even with a reservation. \n",
            "원래 감정 : 부정적 / 예측 : 부정적\n",
            "\n",
            "문장: The pasta dish was a delightful surprise with its rich flavors. \n",
            "원래 감정 : 긍정적 / 예측 : 긍정적\n",
            "\n",
            "문장: Too noisy to enjoy our meal, and the tables were too close together. \n",
            "원래 감정 : 부정적 / 예측 : 부정적\n",
            "\n",
            "문장: Exceptional customer service and a very friendly staff. \n",
            "원래 감정 : 긍정적 / 예측 : 긍정적\n",
            "\n",
            "문장: The dessert was undercooked and not what we expected. \n",
            "원래 감정 : 부정적 / 예측 : 부정적\n",
            "\n"
          ]
        }
      ]
    },
    {
      "cell_type": "code",
      "source": [],
      "metadata": {
        "id": "E0GaD-73hK7M"
      },
      "execution_count": null,
      "outputs": []
    }
  ]
}