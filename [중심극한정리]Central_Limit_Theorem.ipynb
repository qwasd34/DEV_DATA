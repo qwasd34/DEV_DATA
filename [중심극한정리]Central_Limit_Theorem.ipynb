{
  "nbformat": 4,
  "nbformat_minor": 0,
  "metadata": {
    "colab": {
      "provenance": [],
      "include_colab_link": true
    },
    "kernelspec": {
      "name": "python3",
      "display_name": "Python 3"
    }
  },
  "cells": [
    {
      "cell_type": "markdown",
      "metadata": {
        "id": "view-in-github",
        "colab_type": "text"
      },
      "source": [
        "<a href=\"https://colab.research.google.com/github/qwasd34/DEV_DATA/blob/main/%5B%EC%A4%91%EC%8B%AC%EA%B7%B9%ED%95%9C%EC%A0%95%EB%A6%AC%5DCentral_Limit_Theorem.ipynb\" target=\"_parent\"><img src=\"https://colab.research.google.com/assets/colab-badge.svg\" alt=\"Open In Colab\"/></a>"
      ]
    },
    {
      "cell_type": "markdown",
      "metadata": {
        "id": "8NeC76SYxbw7"
      },
      "source": [
        "# The Central Limit Theorem\n",
        "\n",
        "If we have a population and we take sufficiently large samples from it, then the sample means (the average of each sample) will be approximately normally distributed\n"
      ]
    },
    {
      "cell_type": "code",
      "metadata": {
        "id": "aKFoeW-awwGZ"
      },
      "source": [
        "import numpy as np\n",
        "import seaborn as sns\n",
        "import statistics as stat"
      ],
      "execution_count": 1,
      "outputs": []
    },
    {
      "cell_type": "markdown",
      "metadata": {
        "id": "X4k8-W0QxkTH"
      },
      "source": [
        "## 정규 분포를 기반으로 CLT 적용해보기"
      ]
    },
    {
      "cell_type": "code",
      "metadata": {
        "id": "DyWcncpqw_Vp"
      },
      "source": [
        "x = np.random.normal(size=10000) # 표준 정규 분포 데이터 생성"
      ],
      "execution_count": 2,
      "outputs": []
    },
    {
      "cell_type": "code",
      "source": [
        "len(x)"
      ],
      "metadata": {
        "colab": {
          "base_uri": "https://localhost:8080/"
        },
        "id": "emabiR1yTCVi",
        "outputId": "d750b665-40d7-4600-b9f3-9b169bddc101"
      },
      "execution_count": 3,
      "outputs": [
        {
          "output_type": "execute_result",
          "data": {
            "text/plain": [
              "10000"
            ]
          },
          "metadata": {},
          "execution_count": 3
        }
      ]
    },
    {
      "cell_type": "code",
      "source": [
        "x[0:10]"
      ],
      "metadata": {
        "id": "rq8mdaNB8spt",
        "colab": {
          "base_uri": "https://localhost:8080/"
        },
        "outputId": "69d0a3bb-a65b-4160-804b-c447bc671603"
      },
      "execution_count": 4,
      "outputs": [
        {
          "output_type": "execute_result",
          "data": {
            "text/plain": [
              "array([-0.22917384,  0.83073989, -0.66906166,  2.02624694,  0.31364461,\n",
              "       -0.99006943, -0.93014666,  1.20405407, -0.23959634, -2.52806964])"
            ]
          },
          "metadata": {},
          "execution_count": 4
        }
      ]
    },
    {
      "cell_type": "code",
      "source": [
        "max(x)"
      ],
      "metadata": {
        "id": "gxTrZ4ro-0T-",
        "colab": {
          "base_uri": "https://localhost:8080/"
        },
        "outputId": "c453299e-27f8-4e4a-c10f-b04c59b7fe84"
      },
      "execution_count": 5,
      "outputs": [
        {
          "output_type": "execute_result",
          "data": {
            "text/plain": [
              "3.825729406109202"
            ]
          },
          "metadata": {},
          "execution_count": 5
        }
      ]
    },
    {
      "cell_type": "code",
      "source": [
        "min(x)"
      ],
      "metadata": {
        "id": "Yn1Jnq2g_oPg",
        "colab": {
          "base_uri": "https://localhost:8080/"
        },
        "outputId": "da0d1544-3bb7-495f-db46-7ae401993b79"
      },
      "execution_count": 6,
      "outputs": [
        {
          "output_type": "execute_result",
          "data": {
            "text/plain": [
              "-3.9680809213757122"
            ]
          },
          "metadata": {},
          "execution_count": 6
        }
      ]
    },
    {
      "cell_type": "code",
      "source": [
        "stat.mean(x)"
      ],
      "metadata": {
        "id": "m1zeXSas9Ky4",
        "colab": {
          "base_uri": "https://localhost:8080/"
        },
        "outputId": "37c25190-766b-4233-c2eb-392c47708cef"
      },
      "execution_count": 7,
      "outputs": [
        {
          "output_type": "execute_result",
          "data": {
            "text/plain": [
              "0.0011895631655689342"
            ]
          },
          "metadata": {},
          "execution_count": 7
        }
      ]
    },
    {
      "cell_type": "code",
      "source": [
        "stat.stdev(x)"
      ],
      "metadata": {
        "id": "EQJIiDxI9NQG",
        "colab": {
          "base_uri": "https://localhost:8080/"
        },
        "outputId": "c6d38047-f8f7-415d-9f79-6538bfa889a2"
      },
      "execution_count": 8,
      "outputs": [
        {
          "output_type": "execute_result",
          "data": {
            "text/plain": [
              "0.9975733894884284"
            ]
          },
          "metadata": {},
          "execution_count": 8
        }
      ]
    },
    {
      "cell_type": "code",
      "metadata": {
        "id": "yjl4rxygxHl8",
        "colab": {
          "base_uri": "https://localhost:8080/",
          "height": 525
        },
        "outputId": "c2ebc668-cea6-4a76-8c28-c58d2e120d2e"
      },
      "source": [
        "sns.displot(x)"
      ],
      "execution_count": 9,
      "outputs": [
        {
          "output_type": "execute_result",
          "data": {
            "text/plain": [
              "<seaborn.axisgrid.FacetGrid at 0x7bff92ba87f0>"
            ]
          },
          "metadata": {},
          "execution_count": 9
        },
        {
          "output_type": "display_data",
          "data": {
            "text/plain": [
              "<Figure size 500x500 with 1 Axes>"
            ],
            "image/png": "[encoded data removed]"
          },
          "metadata": {}
        }
      ]
    },
    {
      "cell_type": "markdown",
      "metadata": {
        "id": "CBtcBnrczDIn"
      },
      "source": [
        "### 정규분포 모집단에서 샘플해보기"
      ]
    },
    {
      "cell_type": "code",
      "metadata": {
        "id": "VZ5xt8-_xNK9",
        "colab": {
          "base_uri": "https://localhost:8080/"
        },
        "outputId": "d279b3b4-72b1-4469-f201-cca2e80e8136"
      },
      "source": [
        "# replace를 False로 지정하면 여기서 샘플된 데이터들은 x에서 제거된다\n",
        "x_sample = np.random.choice(x, size=10, replace=False)\n",
        "x_sample"
      ],
      "execution_count": 10,
      "outputs": [
        {
          "output_type": "execute_result",
          "data": {
            "text/plain": [
              "array([-1.22490559, -0.58774661,  0.43665556,  1.33204146, -0.48196803,\n",
              "        1.44346223, -0.84365859, -0.34923791, -0.69976875, -0.52537151])"
            ]
          },
          "metadata": {},
          "execution_count": 10
        }
      ]
    },
    {
      "cell_type": "code",
      "metadata": {
        "id": "CJFXZCeozJeT",
        "colab": {
          "base_uri": "https://localhost:8080/"
        },
        "outputId": "eb7bf94f-9140-44ea-a3fd-6cde6db82640"
      },
      "source": [
        "stat.mean(x_sample)"
      ],
      "execution_count": 11,
      "outputs": [
        {
          "output_type": "execute_result",
          "data": {
            "text/plain": [
              "-0.15004977296024224"
            ]
          },
          "metadata": {},
          "execution_count": 11
        }
      ]
    },
    {
      "cell_type": "code",
      "source": [
        "stat.stdev(x_sample)"
      ],
      "metadata": {
        "id": "dUw8qWQ_9nr_",
        "colab": {
          "base_uri": "https://localhost:8080/"
        },
        "outputId": "5c6e173c-7357-4d5b-979c-fb0e3698ae54"
      },
      "execution_count": 12,
      "outputs": [
        {
          "output_type": "execute_result",
          "data": {
            "text/plain": [
              "0.9129310445270191"
            ]
          },
          "metadata": {},
          "execution_count": 12
        }
      ]
    },
    {
      "cell_type": "code",
      "metadata": {
        "id": "x1AUauRd0Nrz"
      },
      "source": [
        "def sample_mean(population, sample_size, n_samples):\n",
        "  sample_means = []\n",
        "  for i in range(n_samples):\n",
        "    sample = np.random.choice(population, size=sample_size, replace=False)\n",
        "    sample_mean = stat.mean(sample)\n",
        "    sample_means.append(sample_mean)\n",
        "  print(stat.mean(sample_means),stat.stdev(sample_means))\n",
        "  return sample_means"
      ],
      "execution_count": 13,
      "outputs": []
    },
    {
      "cell_type": "code",
      "metadata": {
        "id": "KlxZoBfJpo5t",
        "colab": {
          "base_uri": "https://localhost:8080/",
          "height": 543
        },
        "outputId": "0206ee2d-45ec-4afd-9442-5a252d67b501"
      },
      "source": [
        "#모집단 x 10개의 샘플\n",
        "sns.displot(sample_mean(x, 10, 10))"
      ],
      "execution_count": 15,
      "outputs": [
        {
          "output_type": "stream",
          "name": "stdout",
          "text": [
            "-0.10888758272690291 0.19098500372512076\n"
          ]
        },
        {
          "output_type": "execute_result",
          "data": {
            "text/plain": [
              "<seaborn.axisgrid.FacetGrid at 0x7bffd18d56c0>"
            ]
          },
          "metadata": {},
          "execution_count": 15
        },
        {
          "output_type": "display_data",
          "data": {
            "text/plain": [
              "<Figure size 500x500 with 1 Axes>"
            ],
            "image/png": "[encoded data removed]"
          },
          "metadata": {}
        }
      ]
    },
    {
      "cell_type": "code",
      "metadata": {
        "id": "k1xLRkhO2IsJ",
        "colab": {
          "base_uri": "https://localhost:8080/",
          "height": 543
        },
        "outputId": "55088ac7-7b9e-4a72-eab8-c6760543049b"
      },
      "source": [
        "sns.displot(sample_mean(x, 10, 1000))"
      ],
      "execution_count": 16,
      "outputs": [
        {
          "output_type": "stream",
          "name": "stdout",
          "text": [
            "0.0011091057142931108 0.3256549546296309\n"
          ]
        },
        {
          "output_type": "execute_result",
          "data": {
            "text/plain": [
              "<seaborn.axisgrid.FacetGrid at 0x7bff906ab190>"
            ]
          },
          "metadata": {},
          "execution_count": 16
        },
        {
          "output_type": "display_data",
          "data": {
            "text/plain": [
              "<Figure size 500x500 with 1 Axes>"
            ],
            "image/png": "[encoded data removed]"
          },
          "metadata": {}
        }
      ]
    },
    {
      "cell_type": "code",
      "metadata": {
        "id": "sQuio0HW2MYX",
        "colab": {
          "base_uri": "https://localhost:8080/",
          "height": 543
        },
        "outputId": "3398fdf2-1fdb-4f6a-b066-4bfa5b8fade7"
      },
      "source": [
        "sns.displot(sample_mean(x, 1000, 1000))"
      ],
      "execution_count": 17,
      "outputs": [
        {
          "output_type": "stream",
          "name": "stdout",
          "text": [
            "0.0017880811914190373 0.03049605580546872\n"
          ]
        },
        {
          "output_type": "execute_result",
          "data": {
            "text/plain": [
              "<seaborn.axisgrid.FacetGrid at 0x7bff90689c30>"
            ]
          },
          "metadata": {},
          "execution_count": 17
        },
        {
          "output_type": "display_data",
          "data": {
            "text/plain": [
              "<Figure size 500x500 with 1 Axes>"
            ],
            "image/png": "[encoded data removed]"
          },
          "metadata": {}
        }
      ]
    },
    {
      "cell_type": "code",
      "source": [
        "sns.displot(sample_mean(x, 2500, 2500))"
      ],
      "metadata": {
        "id": "mffDNLEr-G2T",
        "colab": {
          "base_uri": "https://localhost:8080/",
          "height": 543
        },
        "outputId": "012cc565-565d-47ce-b52e-ad276881e4f2"
      },
      "execution_count": 18,
      "outputs": [
        {
          "output_type": "stream",
          "name": "stdout",
          "text": [
            "0.0009264083044240667 0.017492754301264145\n"
          ]
        },
        {
          "output_type": "execute_result",
          "data": {
            "text/plain": [
              "<seaborn.axisgrid.FacetGrid at 0x7bff90755120>"
            ]
          },
          "metadata": {},
          "execution_count": 18
        },
        {
          "output_type": "display_data",
          "data": {
            "text/plain": [
              "<Figure size 500x500 with 1 Axes>"
            ],
            "image/png": "[encoded data removed]"
          },
          "metadata": {}
        }
      ]
    },
    {
      "cell_type": "markdown",
      "metadata": {
        "id": "3zEvgjiK3Uxp"
      },
      "source": [
        "## Skewed 분포를 갖는 모집단에서 샘플링해보기"
      ]
    },
    {
      "cell_type": "code",
      "metadata": {
        "id": "XG_UK4c83tYS"
      },
      "source": [
        "from scipy.stats import skewnorm\n",
        "\n",
        "s = skewnorm.rvs(12, size=10000)   # 첫번째 값이 0이면 정규분포가 리턴됨"
      ],
      "execution_count": 19,
      "outputs": []
    },
    {
      "cell_type": "code",
      "source": [
        "stat.mean(s)"
      ],
      "metadata": {
        "id": "QCCBNomC_a0_",
        "colab": {
          "base_uri": "https://localhost:8080/"
        },
        "outputId": "0bc037b0-0abd-4161-83c1-e3ee5bdb45bc"
      },
      "execution_count": 20,
      "outputs": [
        {
          "output_type": "execute_result",
          "data": {
            "text/plain": [
              "0.7891240558622564"
            ]
          },
          "metadata": {},
          "execution_count": 20
        }
      ]
    },
    {
      "cell_type": "code",
      "metadata": {
        "id": "UA31KMPj39Ro",
        "colab": {
          "base_uri": "https://localhost:8080/",
          "height": 525
        },
        "outputId": "caf77d58-54ce-431d-922a-aaa9117129a8"
      },
      "source": [
        "sns.displot(s)"
      ],
      "execution_count": 21,
      "outputs": [
        {
          "output_type": "execute_result",
          "data": {
            "text/plain": [
              "<seaborn.axisgrid.FacetGrid at 0x7bff90492410>"
            ]
          },
          "metadata": {},
          "execution_count": 21
        },
        {
          "output_type": "display_data",
          "data": {
            "text/plain": [
              "<Figure size 500x500 with 1 Axes>"
            ],
            "image/png": "[encoded data removed]"
          },
          "metadata": {}
        }
      ]
    },
    {
      "cell_type": "code",
      "metadata": {
        "id": "ZbPOIfhB4Rbb",
        "colab": {
          "base_uri": "https://localhost:8080/",
          "height": 543
        },
        "outputId": "cdc89c28-48de-4b2d-90e1-3d2d89996de3"
      },
      "source": [
        "sns.displot(sample_mean(s, 10, 1000))"
      ],
      "execution_count": 22,
      "outputs": [
        {
          "output_type": "stream",
          "name": "stdout",
          "text": [
            "0.7859280200257441 0.19486494308004537\n"
          ]
        },
        {
          "output_type": "execute_result",
          "data": {
            "text/plain": [
              "<seaborn.axisgrid.FacetGrid at 0x7bff90287ee0>"
            ]
          },
          "metadata": {},
          "execution_count": 22
        },
        {
          "output_type": "display_data",
          "data": {
            "text/plain": [
              "<Figure size 500x500 with 1 Axes>"
            ],
            "image/png": "[encoded data removed]"
          },
          "metadata": {}
        }
      ]
    },
    {
      "cell_type": "code",
      "metadata": {
        "id": "pv9QwwwH3_ye",
        "colab": {
          "base_uri": "https://localhost:8080/",
          "height": 543
        },
        "outputId": "208b4745-b343-4c87-d31c-2893ec5458bb"
      },
      "source": [
        "sns.displot(sample_mean(s, 1000, 1000))"
      ],
      "execution_count": 23,
      "outputs": [
        {
          "output_type": "stream",
          "name": "stdout",
          "text": [
            "0.7892034949954723 0.018898030334950525\n"
          ]
        },
        {
          "output_type": "execute_result",
          "data": {
            "text/plain": [
              "<seaborn.axisgrid.FacetGrid at 0x7bff90284640>"
            ]
          },
          "metadata": {},
          "execution_count": 23
        },
        {
          "output_type": "display_data",
          "data": {
            "text/plain": [
              "<Figure size 500x500 with 1 Axes>"
            ],
            "image/png": "[encoded data removed]"
          },
          "metadata": {}
        }
      ]
    },
    {
      "cell_type": "markdown",
      "metadata": {
        "id": "lV4IdTBY4gOl"
      },
      "source": [
        "## Multimodal 분포를 갖는 모집단에서 샘플링해보기"
      ]
    },
    {
      "cell_type": "code",
      "metadata": {
        "id": "mWDy1Xm74i6p"
      },
      "source": [
        "m = np.concatenate((np.random.normal(size=10000), np.random.normal(loc = 4.0, size=10000)))"
      ],
      "execution_count": 24,
      "outputs": []
    },
    {
      "cell_type": "code",
      "source": [
        "stat.mean(m)"
      ],
      "metadata": {
        "id": "kch96fqZAsfv",
        "colab": {
          "base_uri": "https://localhost:8080/"
        },
        "outputId": "58ce83c9-b6ce-423c-800b-b1ec48c948ac"
      },
      "execution_count": 25,
      "outputs": [
        {
          "output_type": "execute_result",
          "data": {
            "text/plain": [
              "2.0029712457627373"
            ]
          },
          "metadata": {},
          "execution_count": 25
        }
      ]
    },
    {
      "cell_type": "code",
      "source": [
        "stat.stdev(m)"
      ],
      "metadata": {
        "id": "5Vq0CBBbAuGE",
        "colab": {
          "base_uri": "https://localhost:8080/"
        },
        "outputId": "db92fcc9-ab98-4f46-e1ef-524f78d60df1"
      },
      "execution_count": 26,
      "outputs": [
        {
          "output_type": "execute_result",
          "data": {
            "text/plain": [
              "2.2520334536685533"
            ]
          },
          "metadata": {},
          "execution_count": 26
        }
      ]
    },
    {
      "cell_type": "code",
      "metadata": {
        "id": "x3giYmlL4XLg",
        "colab": {
          "base_uri": "https://localhost:8080/",
          "height": 525
        },
        "outputId": "6d512a8c-fdfc-413f-8756-f86821668159"
      },
      "source": [
        "sns.displot(m)"
      ],
      "execution_count": 27,
      "outputs": [
        {
          "output_type": "execute_result",
          "data": {
            "text/plain": [
              "<seaborn.axisgrid.FacetGrid at 0x7bff901ba470>"
            ]
          },
          "metadata": {},
          "execution_count": 27
        },
        {
          "output_type": "display_data",
          "data": {
            "text/plain": [
              "<Figure size 500x500 with 1 Axes>"
            ],
            "image/png": "[encoded data removed]"
          },
          "metadata": {}
        }
      ]
    },
    {
      "cell_type": "code",
      "metadata": {
        "id": "RBOvq4cX5Rge",
        "colab": {
          "base_uri": "https://localhost:8080/",
          "height": 543
        },
        "outputId": "1e387cd5-cf3e-4b54-bbcd-2df072f97cb3"
      },
      "source": [
        "sns.displot(sample_mean(m, 1000, 1000))"
      ],
      "execution_count": 28,
      "outputs": [
        {
          "output_type": "stream",
          "name": "stdout",
          "text": [
            "2.0005086226137347 0.06900931453624702\n"
          ]
        },
        {
          "output_type": "execute_result",
          "data": {
            "text/plain": [
              "<seaborn.axisgrid.FacetGrid at 0x7bff9024f100>"
            ]
          },
          "metadata": {},
          "execution_count": 28
        },
        {
          "output_type": "display_data",
          "data": {
            "text/plain": [
              "<Figure size 500x500 with 1 Axes>"
            ],
            "image/png": "[encoded data removed]"
          },
          "metadata": {}
        }
      ]
    },
    {
      "cell_type": "markdown",
      "metadata": {
        "id": "hX9q4P9363wU"
      },
      "source": [
        "## Uniform 분포를 갖는 모집단에서 샘플링하기"
      ]
    },
    {
      "cell_type": "code",
      "metadata": {
        "id": "RLUCRb8F6Vx0"
      },
      "source": [
        "u = np.random.uniform(size=10000)"
      ],
      "execution_count": 29,
      "outputs": []
    },
    {
      "cell_type": "code",
      "source": [
        "stat.mean(u)"
      ],
      "metadata": {
        "id": "nDdtZtGcAYfp",
        "colab": {
          "base_uri": "https://localhost:8080/"
        },
        "outputId": "0ade2801-9132-4fae-cb17-ccbf46c9dbac"
      },
      "execution_count": 30,
      "outputs": [
        {
          "output_type": "execute_result",
          "data": {
            "text/plain": [
              "0.49812094409809626"
            ]
          },
          "metadata": {},
          "execution_count": 30
        }
      ]
    },
    {
      "cell_type": "code",
      "source": [
        "stat.stdev(u)"
      ],
      "metadata": {
        "id": "CON7NwSAAbL7",
        "colab": {
          "base_uri": "https://localhost:8080/"
        },
        "outputId": "bffbcdb3-b667-49af-e149-16843a299c89"
      },
      "execution_count": 31,
      "outputs": [
        {
          "output_type": "execute_result",
          "data": {
            "text/plain": [
              "0.2890803374370016"
            ]
          },
          "metadata": {},
          "execution_count": 31
        }
      ]
    },
    {
      "cell_type": "code",
      "metadata": {
        "id": "qc9M4F88nT1P",
        "colab": {
          "base_uri": "https://localhost:8080/",
          "height": 525
        },
        "outputId": "7821a54c-64af-4b41-9f6b-487df8dea92d"
      },
      "source": [
        "sns.displot(u, kde=False)"
      ],
      "execution_count": 32,
      "outputs": [
        {
          "output_type": "execute_result",
          "data": {
            "text/plain": [
              "<seaborn.axisgrid.FacetGrid at 0x7bff902bcc40>"
            ]
          },
          "metadata": {},
          "execution_count": 32
        },
        {
          "output_type": "display_data",
          "data": {
            "text/plain": [
              "<Figure size 500x500 with 1 Axes>"
            ],
            "image/png": "[encoded data removed]"
          },
          "metadata": {}
        }
      ]
    },
    {
      "cell_type": "code",
      "metadata": {
        "id": "DGvvpf_v7CVu",
        "colab": {
          "base_uri": "https://localhost:8080/",
          "height": 543
        },
        "outputId": "c314a644-dfe6-4685-e5c0-2a1a0fb1f8de"
      },
      "source": [
        "sns.displot(sample_mean(u, 1000, 1000))"
      ],
      "execution_count": 33,
      "outputs": [
        {
          "output_type": "stream",
          "name": "stdout",
          "text": [
            "0.49796959498658255 0.008950604158416291\n"
          ]
        },
        {
          "output_type": "execute_result",
          "data": {
            "text/plain": [
              "<seaborn.axisgrid.FacetGrid at 0x7bff905ecc70>"
            ]
          },
          "metadata": {},
          "execution_count": 33
        },
        {
          "output_type": "display_data",
          "data": {
            "text/plain": [
              "<Figure size 500x500 with 1 Axes>"
            ],
            "image/png": "[encoded data removed]"
          },
          "metadata": {}
        }
      ]
    },
    {
      "cell_type": "markdown",
      "source": [
        "모집단에서 샘플링한 것의 평균은 정규분포 형태로 바뀐다."
      ],
      "metadata": {
        "id": "tmn2kpYqqfm9"
      }
    },
    {
      "cell_type": "code",
      "source": [],
      "metadata": {
        "id": "gOHLwCF_qsj2"
      },
      "execution_count": null,
      "outputs": []
    }
  ]
}