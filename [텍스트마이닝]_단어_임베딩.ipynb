{
  "nbformat": 4,
  "nbformat_minor": 0,
  "metadata": {
    "colab": {
      "provenance": [],
      "include_colab_link": true
    },
    "kernelspec": {
      "name": "python3",
      "display_name": "Python 3"
    },
    "language_info": {
      "name": "python"
    }
  },
  "cells": [
    {
      "cell_type": "markdown",
      "metadata": {
        "id": "view-in-github",
        "colab_type": "text"
      },
      "source": [
        "<a href=\"https://colab.research.google.com/github/qwasd34/DEV_DATA/blob/main/%5B%ED%85%8D%EC%8A%A4%ED%8A%B8%EB%A7%88%EC%9D%B4%EB%8B%9D%5D_%E1%84%83%E1%85%A1%E1%86%AB%E1%84%8B%E1%85%A5_%E1%84%8B%E1%85%B5%E1%86%B7%E1%84%87%E1%85%A6%E1%84%83%E1%85%B5%E1%86%BC.ipynb\" target=\"_parent\"><img src=\"https://colab.research.google.com/assets/colab-badge.svg\" alt=\"Open In Colab\"/></a>"
      ]
    },
    {
      "cell_type": "markdown",
      "source": [
        "# 원핫 인코딩 (One-hot Encoding) 단어에 적용하기"
      ],
      "metadata": {
        "id": "-k5FSOs0vH6Q"
      }
    },
    {
      "cell_type": "code",
      "execution_count": 1,
      "metadata": {
        "id": "y77a39tcsk68"
      },
      "outputs": [],
      "source": [
        "from sklearn.preprocessing import OneHotEncoder\n",
        "import numpy as np"
      ]
    },
    {
      "cell_type": "code",
      "source": [
        "sentence = \"사과는 맛있다 바나나는 맛있다\""
      ],
      "metadata": {
        "id": "lmkPY9Bjvchy"
      },
      "execution_count": 2,
      "outputs": []
    },
    {
      "cell_type": "code",
      "source": [
        "# 문장을 단어로 분리\n",
        "# 띄어쓰기 단위를 사용\n",
        "words = sentence.split()\n",
        "print(words)"
      ],
      "metadata": {
        "colab": {
          "base_uri": "https://localhost:8080/"
        },
        "id": "TRVl9bzgvf0E",
        "outputId": "868094f6-1426-4faa-c839-7296598c96d7"
      },
      "execution_count": 3,
      "outputs": [
        {
          "output_type": "stream",
          "name": "stdout",
          "text": [
            "['사과는', '맛있다', '바나나는', '맛있다']\n"
          ]
        }
      ]
    },
    {
      "cell_type": "code",
      "source": [
        "# 단어 배열을 NumPy 배열로 변환\n",
        "words_array = np.array(words).reshape(-1, 1)\n",
        "print(words_array)"
      ],
      "metadata": {
        "colab": {
          "base_uri": "https://localhost:8080/"
        },
        "id": "nK4YEzGIvlFb",
        "outputId": "743eaeaf-97e3-42f0-dece-79d19edd7c62"
      },
      "execution_count": 4,
      "outputs": [
        {
          "output_type": "stream",
          "name": "stdout",
          "text": [
            "[['사과는']\n",
            " ['맛있다']\n",
            " ['바나나는']\n",
            " ['맛있다']]\n"
          ]
        }
      ]
    },
    {
      "cell_type": "code",
      "source": [
        "# OneHotEncoder 객체 생성\n",
        "encoder = OneHotEncoder(sparse_output=False) # sparse_output=False : 수업에서 다룬 0과 1로 이루어진 행렬의 형태로 변환"
      ],
      "metadata": {
        "id": "OamReuCrvqx_"
      },
      "execution_count": 5,
      "outputs": []
    },
    {
      "cell_type": "code",
      "source": [
        "# 원핫 인코딩 적용!\n",
        "one_hot_encoded = encoder.fit_transform(words_array)\n",
        "print(one_hot_encoded)"
      ],
      "metadata": {
        "colab": {
          "base_uri": "https://localhost:8080/"
        },
        "id": "CxTcjV-Uvy9t",
        "outputId": "53dc33c1-4afd-42dd-eedf-6067ec3cfed8"
      },
      "execution_count": 6,
      "outputs": [
        {
          "output_type": "stream",
          "name": "stdout",
          "text": [
            "[[0. 0. 1.]\n",
            " [1. 0. 0.]\n",
            " [0. 1. 0.]\n",
            " [1. 0. 0.]]\n"
          ]
        }
      ]
    },
    {
      "cell_type": "code",
      "source": [
        "encoder.get_feature_names_out() # 각 열이 어떤 단어를 나타내는지를 표시"
      ],
      "metadata": {
        "colab": {
          "base_uri": "https://localhost:8080/"
        },
        "id": "80GDG-Iavy7p",
        "outputId": "beea53a5-9d7c-4709-f383-246a6105d594"
      },
      "execution_count": 7,
      "outputs": [
        {
          "output_type": "execute_result",
          "data": {
            "text/plain": [
              "array(['x0_맛있다', 'x0_바나나는', 'x0_사과는'], dtype=object)"
            ]
          },
          "metadata": {},
          "execution_count": 7
        }
      ]
    },
    {
      "cell_type": "code",
      "source": [
        "def one_hot_encode_words(sentence):\n",
        "    words = sentence.split()\n",
        "    words_array = np.array(words).reshape(-1, 1)\n",
        "\n",
        "    encoder = OneHotEncoder(sparse_output=False)\n",
        "    one_hot_encoded = encoder.fit_transform(words_array)\n",
        "\n",
        "    return one_hot_encoded, encoder.get_feature_names_out()"
      ],
      "metadata": {
        "id": "CJd9u-dhvy5i"
      },
      "execution_count": 8,
      "outputs": []
    },
    {
      "cell_type": "code",
      "source": [
        "example_sentence = '오늘 날씨가 참 맑습니다.'"
      ],
      "metadata": {
        "id": "o6lN9ypJwtpc"
      },
      "execution_count": 9,
      "outputs": []
    },
    {
      "cell_type": "code",
      "source": [
        "encoded_words, feature_names = one_hot_encode_words(example_sentence)"
      ],
      "metadata": {
        "id": "pFjI5CQkvy3h"
      },
      "execution_count": 10,
      "outputs": []
    },
    {
      "cell_type": "code",
      "source": [
        "encoded_words, feature_names"
      ],
      "metadata": {
        "colab": {
          "base_uri": "https://localhost:8080/"
        },
        "id": "4IF2dQqHwYAS",
        "outputId": "d8a9dfac-03ee-4f1c-d8cd-396223742680"
      },
      "execution_count": 11,
      "outputs": [
        {
          "output_type": "execute_result",
          "data": {
            "text/plain": [
              "(array([[0., 0., 1., 0.],\n",
              "        [1., 0., 0., 0.],\n",
              "        [0., 0., 0., 1.],\n",
              "        [0., 1., 0., 0.]]),\n",
              " array(['x0_날씨가', 'x0_맑습니다.', 'x0_오늘', 'x0_참'], dtype=object))"
            ]
          },
          "metadata": {},
          "execution_count": 11
        }
      ]
    },
    {
      "cell_type": "markdown",
      "source": [
        "# Word2Vec을 단어에 적용하기"
      ],
      "metadata": {
        "id": "nSrLoTwSwXq7"
      }
    },
    {
      "cell_type": "code",
      "source": [
        "from gensim.models import KeyedVectors\n",
        "from gensim.downloader import load\n",
        "\n",
        "def use_word2vec(word, model):\n",
        "    try:\n",
        "        word_vector = model[word]\n",
        "        return word_vector\n",
        "    except KeyError:\n",
        "        return \"단어가 모델의 어휘에 없습니다.\""
      ],
      "metadata": {
        "id": "VnDXweEewYP6"
      },
      "execution_count": 12,
      "outputs": []
    },
    {
      "cell_type": "code",
      "source": [
        "# 제공하는 기본 Word2Vec 모델 불러오기\n",
        "# 약 10~12분 정도 소요\n",
        "word2vec_model = load('word2vec-google-news-300')"
      ],
      "metadata": {
        "colab": {
          "base_uri": "https://localhost:8080/"
        },
        "id": "kon-1t1fxKPJ",
        "outputId": "4eeb470a-95ac-41e2-f8ac-174bd0573851"
      },
      "execution_count": 13,
      "outputs": [
        {
          "output_type": "stream",
          "name": "stdout",
          "text": [
            "[==================================================] 100.0% 1662.8/1662.8MB downloaded\n"
          ]
        }
      ]
    },
    {
      "cell_type": "code",
      "source": [
        "print(use_word2vec('apple', word2vec_model))\n",
        "print(use_word2vec('instagram', word2vec_model)) # 학습 당시에 존재하지 않던 단어는 임베딩 불가"
      ],
      "metadata": {
        "colab": {
          "base_uri": "https://localhost:8080/"
        },
        "id": "bdz0CMO7xRcl",
        "outputId": "9cf6a485-7264-4115-cfb9-d763c0f89e69"
      },
      "execution_count": 14,
      "outputs": [
        {
          "output_type": "stream",
          "name": "stdout",
          "text": [
            "[-0.06445312 -0.16015625 -0.01208496  0.13476562 -0.22949219  0.16210938\n",
            "  0.3046875  -0.1796875  -0.12109375  0.25390625 -0.01428223 -0.06396484\n",
            " -0.08056641 -0.05688477 -0.19628906  0.2890625  -0.05151367  0.14257812\n",
            " -0.10498047 -0.04736328 -0.34765625  0.35742188  0.265625    0.00188446\n",
            " -0.01586914  0.00195312 -0.35546875  0.22167969  0.05761719  0.15917969\n",
            "  0.08691406 -0.0267334  -0.04785156  0.23925781 -0.05981445  0.0378418\n",
            "  0.17382812 -0.41796875  0.2890625   0.32617188  0.02429199 -0.01647949\n",
            " -0.06494141 -0.08886719  0.07666016 -0.15136719  0.05249023 -0.04199219\n",
            " -0.05419922  0.00108337 -0.20117188  0.12304688  0.09228516  0.10449219\n",
            " -0.00408936 -0.04199219  0.01409912 -0.02111816 -0.13476562 -0.24316406\n",
            "  0.16015625 -0.06689453 -0.08984375 -0.07177734 -0.00595093 -0.00482178\n",
            " -0.00089264 -0.30664062 -0.0625      0.07958984 -0.00909424 -0.04492188\n",
            "  0.09960938 -0.33398438 -0.3984375   0.05541992 -0.06689453 -0.04467773\n",
            "  0.11767578 -0.13964844 -0.26367188  0.17480469 -0.17382812 -0.40625\n",
            " -0.06738281 -0.07617188  0.09423828  0.20996094 -0.16308594 -0.08691406\n",
            " -0.0534668  -0.10351562 -0.07617188 -0.11083984 -0.03515625 -0.14941406\n",
            "  0.0378418   0.38671875  0.14160156 -0.2890625  -0.16894531 -0.140625\n",
            " -0.04174805  0.22753906  0.24023438 -0.01599121 -0.06787109  0.21875\n",
            " -0.42382812 -0.5625     -0.49414062 -0.3359375   0.13378906  0.01141357\n",
            "  0.13671875  0.0324707   0.06835938 -0.27539062 -0.15917969  0.00121307\n",
            "  0.01208496 -0.0039978   0.00442505 -0.04541016  0.08642578  0.09960938\n",
            " -0.04296875 -0.11328125  0.13867188  0.41796875 -0.28320312 -0.07373047\n",
            " -0.11425781  0.08691406 -0.02148438  0.328125   -0.07373047 -0.01348877\n",
            "  0.17773438 -0.02624512  0.13378906 -0.11132812 -0.12792969 -0.12792969\n",
            "  0.18945312 -0.13867188  0.29882812 -0.07714844 -0.37695312 -0.10351562\n",
            "  0.16992188 -0.10742188 -0.29882812  0.00866699 -0.27734375 -0.20996094\n",
            " -0.1796875  -0.19628906 -0.22167969  0.08886719 -0.27734375 -0.13964844\n",
            "  0.15917969  0.03637695  0.03320312 -0.08105469  0.25390625 -0.08691406\n",
            " -0.21289062 -0.18945312 -0.22363281  0.06542969 -0.16601562  0.08837891\n",
            " -0.359375   -0.09863281  0.35546875 -0.00741577  0.19042969  0.16992188\n",
            " -0.06005859 -0.20605469  0.08105469  0.12988281 -0.01135254  0.33203125\n",
            " -0.08691406  0.27539062 -0.03271484  0.12011719 -0.0625      0.1953125\n",
            " -0.10986328 -0.11767578  0.20996094  0.19921875  0.02954102 -0.16015625\n",
            "  0.00276184 -0.01367188  0.03442383 -0.19335938  0.00352478 -0.06542969\n",
            " -0.05566406  0.09423828  0.29296875  0.04052734 -0.09326172 -0.10107422\n",
            " -0.27539062  0.04394531 -0.07275391  0.13867188  0.02380371  0.13085938\n",
            "  0.00236511 -0.2265625   0.34765625  0.13574219  0.05224609  0.18164062\n",
            "  0.0402832   0.23730469 -0.16992188  0.10058594  0.03833008  0.10839844\n",
            " -0.05615234 -0.00946045  0.14550781 -0.30078125 -0.32226562  0.18847656\n",
            " -0.40234375 -0.3125     -0.08007812 -0.26757812  0.16699219  0.07324219\n",
            "  0.06347656  0.06591797  0.17285156 -0.17773438  0.00276184 -0.05761719\n",
            " -0.2265625  -0.19628906  0.09667969  0.13769531 -0.49414062 -0.27929688\n",
            "  0.12304688 -0.30078125  0.01293945 -0.1875     -0.20898438 -0.1796875\n",
            " -0.16015625 -0.03295898  0.00976562  0.25390625 -0.25195312  0.00210571\n",
            "  0.04296875  0.01184082 -0.20605469  0.24804688 -0.203125   -0.17773438\n",
            "  0.07275391  0.04541016  0.21679688 -0.2109375   0.14550781 -0.16210938\n",
            "  0.20410156 -0.19628906 -0.35742188  0.35742188 -0.11962891  0.35742188\n",
            "  0.10351562  0.07080078 -0.24707031 -0.10449219 -0.19238281  0.1484375\n",
            "  0.00057983  0.296875   -0.12695312 -0.03979492  0.13183594 -0.16601562\n",
            "  0.125       0.05126953 -0.14941406  0.13671875 -0.02075195  0.34375   ]\n",
            "단어가 모델의 어휘에 없습니다.\n"
          ]
        }
      ]
    },
    {
      "cell_type": "code",
      "source": [
        "from scipy.spatial.distance import cosine\n",
        "\n",
        "def word_similarity(word1, word2, model):\n",
        "    try:\n",
        "        vector1 = model[word1]\n",
        "        vector2 = model[word2]\n",
        "\n",
        "        similarity = 1 - cosine(vector1, vector2) # 코사인 유사도 계산\n",
        "        return similarity\n",
        "    except KeyError as e:\n",
        "        return str(e)\n",
        "\n",
        "def most_similar(word, model, topn=5):\n",
        "    try:\n",
        "        similar_words = model.most_similar(word, topn=topn) # 가장 유사한 단어 찾기\n",
        "        return similar_words\n",
        "    except KeyError as e:\n",
        "        return str(e)"
      ],
      "metadata": {
        "id": "NvlrhbR0zRIT"
      },
      "execution_count": 15,
      "outputs": []
    },
    {
      "cell_type": "code",
      "source": [
        "# 두 단어 사이의 유사도 확인\n",
        "print('football & basketball 유사도 : ' , word_similarity('football', 'basketball', word2vec_model))\n",
        "print('football & airplane 유사도 : ' , word_similarity('football', 'airplane', word2vec_model))"
      ],
      "metadata": {
        "colab": {
          "base_uri": "https://localhost:8080/"
        },
        "id": "DmvcitrbzQ5h",
        "outputId": "bd9365ef-dc2b-4fdd-84ad-1082afc28aa6"
      },
      "execution_count": 16,
      "outputs": [
        {
          "output_type": "stream",
          "name": "stdout",
          "text": [
            "football & basketball 유사도 :  0.668246865272522\n",
            "football & airplane 유사도 :  0.1512438803911209\n"
          ]
        }
      ]
    },
    {
      "cell_type": "code",
      "source": [
        "# 특정 단어와 가장 유사한 단어 보여주기\n",
        "print('football과 가장 유사한 단어 5개는 : ' , most_similar('football', word2vec_model, topn=5))"
      ],
      "metadata": {
        "colab": {
          "base_uri": "https://localhost:8080/"
        },
        "id": "UOH3WyKG1nrq",
        "outputId": "a8c032c0-d54a-4b4e-839c-160582063eac"
      },
      "execution_count": 17,
      "outputs": [
        {
          "output_type": "stream",
          "name": "stdout",
          "text": [
            "football과 가장 유사한 단어 5개는 :  [('soccer', 0.731354832649231), ('fooball', 0.7139959335327148), ('Football', 0.7124834060668945), ('basketball', 0.668246865272522), ('footbal', 0.6649289727210999)]\n"
          ]
        }
      ]
    },
    {
      "cell_type": "markdown",
      "source": [
        "# GloVe를 단어에 적용하기"
      ],
      "metadata": {
        "id": "eKaCEnbhwbcF"
      }
    },
    {
      "cell_type": "code",
      "source": [
        "def use_glove(word, model):\n",
        "    try:\n",
        "        word_vector = model[word]\n",
        "        return word_vector\n",
        "    except KeyError:\n",
        "        return \"단어가 모델의 어휘에 없습니다.\""
      ],
      "metadata": {
        "id": "YoQUf5IcwbIj"
      },
      "execution_count": 19,
      "outputs": []
    },
    {
      "cell_type": "code",
      "source": [
        "# 제공하는 GloVe 모델 불러오기\n",
        "# 약 5분정도 소요\n",
        "glove_model = load('glove-wiki-gigaword-300')"
      ],
      "metadata": {
        "colab": {
          "base_uri": "https://localhost:8080/"
        },
        "id": "8KxhQTYwzdIy",
        "outputId": "726a6545-86c0-4497-a727-c074523a699e"
      },
      "execution_count": 18,
      "outputs": [
        {
          "output_type": "stream",
          "name": "stdout",
          "text": [
            "[==================================================] 100.0% 376.1/376.1MB downloaded\n"
          ]
        }
      ]
    },
    {
      "cell_type": "code",
      "source": [
        "print(use_glove('apple', glove_model))\n",
        "print(use_glove('airpods', glove_model)) # 역시 학습 당시에 없던 단어는 임베딩 불가"
      ],
      "metadata": {
        "colab": {
          "base_uri": "https://localhost:8080/"
        },
        "id": "nULJfR9TzdG-",
        "outputId": "d5fa7035-5ea3-498a-bd2c-83325112117c"
      },
      "execution_count": 20,
      "outputs": [
        {
          "output_type": "stream",
          "name": "stdout",
          "text": [
            "[-0.20842   -0.019668   0.063981  -0.71403   -0.21181   -0.59283\n",
            " -0.15316    0.044217   0.63289   -0.84821   -0.21129   -0.19763\n",
            "  0.19029   -0.56226    0.27126    0.23782   -0.5189    -0.24518\n",
            "  0.035243   0.096833   0.24898    0.71279    0.038279  -0.10514\n",
            " -0.4779    -0.39515   -0.27194   -0.44428    0.06113   -0.2318\n",
            " -0.35901   -0.18239    0.035507  -0.087719  -1.0816    -0.42521\n",
            "  0.003224  -0.45991   -0.043462  -0.39031    0.519      0.21139\n",
            " -0.25527    1.1805    -0.19041   -0.12156    0.034186  -0.062316\n",
            "  0.14421   -0.53366    0.47425   -0.4471     0.58047    0.43578\n",
            "  0.1321    -0.095712  -0.37182   -0.013837   0.20601   -0.10099\n",
            "  0.10685   -0.33723    0.10986    0.34796   -0.099839   0.36942\n",
            " -0.52917    0.12407   -0.46127   -0.38483   -0.10114   -0.17634\n",
            "  0.37574    0.16377   -0.2198    -0.26841    0.84706   -0.35619\n",
            " -0.083992  -0.20276   -0.56542    0.19112   -0.14134   -0.7812\n",
            "  0.69188   -0.083628  -0.54293    0.16437    0.037606  -0.68896\n",
            " -0.68711   -0.13367   -0.4779     0.20125    0.085122  -0.063865\n",
            " -0.17104   -0.32432   -0.17623   -0.514     -0.50289    0.23204\n",
            " -0.11324   -1.064     -0.035359  -0.5068    -0.27118   -0.16621\n",
            " -0.63016    0.054252  -0.048178   0.29282   -0.030666  -0.24645\n",
            " -0.27084   -0.42563   -0.39171    0.18428   -0.017772  -0.35334\n",
            " -0.49075   -0.90782    0.13872   -0.76521   -0.46318   -0.32124\n",
            " -0.086228   1.0448    -0.39919    0.69478   -0.10377    0.86715\n",
            "  0.22742    0.4384     0.085767  -0.22846    0.4309     0.064187\n",
            " -0.027926  -0.093056   0.65188    0.59143   -0.3376    -0.37732\n",
            "  0.0052212  1.1193    -0.23845   -0.16029    0.42877   -0.16228\n",
            " -0.12202   -0.1061     0.015761   0.022745  -0.17734   -0.091711\n",
            " -0.29158    0.19034   -0.35168    0.27563   -0.20577    0.11472\n",
            " -0.34126   -0.0065915  0.14896   -0.026762   0.0019373  0.53279\n",
            " -0.76088    0.063085  -0.72089   -0.04128   -0.96164    0.020769\n",
            "  0.16123   -0.34342    0.69713   -0.16018   -0.11701   -0.070239\n",
            " -0.30774    0.39741    0.39994   -0.678      0.57684   -0.48099\n",
            "  0.59317   -0.42262    0.28613   -0.26203    0.052727   0.61659\n",
            " -0.36801   -0.28429   -0.40054   -0.30055   -0.27444   -0.045729\n",
            " -0.56105    0.24176    0.86631   -0.83715    0.13562    0.26196\n",
            " -0.43055    0.34558    0.059441   0.61845    0.11837   -0.019168\n",
            "  0.47697   -0.32465   -0.15463   -0.23556   -0.64263   -0.092156\n",
            " -0.19622    0.40666    0.18009    0.094309   0.046917   0.26369\n",
            " -0.50727    0.37491   -0.66773    0.35095   -0.033835   0.30534\n",
            "  0.23166    0.023526  -0.68365    0.26078   -0.22526   -0.2656\n",
            "  0.59967    0.2598     0.36248    0.15564   -0.45549    0.11153\n",
            " -0.33287    0.081364  -0.36989   -0.25543   -1.1628    -0.14622\n",
            " -0.032971  -0.55619    0.47717   -0.29021    0.42688    1.2397\n",
            " -0.81391    0.21084   -0.25426   -0.08684   -0.078412   0.26035\n",
            "  0.3281    -0.23777    0.05138   -0.030247  -0.15669    0.057147\n",
            "  0.33902    0.12795   -0.21468   -0.75208    0.41422    0.0062719\n",
            " -0.52904    0.92193   -0.42179   -0.69638    0.074115   0.19071\n",
            " -1.2031    -0.081333  -0.4914    -0.22159   -0.29876    0.30094\n",
            "  0.018634   0.18786   -0.45429   -0.29296    0.3695    -0.24218\n",
            " -0.11803    0.071775   0.44026   -0.59978    0.45354    0.17854\n",
            " -0.17155    0.018811  -0.62354   -0.014163   0.16799   -0.064392 ]\n",
            "단어가 모델의 어휘에 없습니다.\n"
          ]
        }
      ]
    },
    {
      "cell_type": "code",
      "source": [
        "# 두 단어 사이의 유사도 확인 (GloVe)\n",
        "print('football & basketball 유사도 : ' , word_similarity('football', 'basketball', glove_model))\n",
        "print('football & airplane 유사도 : ' , word_similarity('football', 'airplane', glove_model))"
      ],
      "metadata": {
        "colab": {
          "base_uri": "https://localhost:8080/"
        },
        "id": "qGT4ZuCc3pFi",
        "outputId": "7c5214d2-3936-44d1-fdb8-d77e094a8a2d"
      },
      "execution_count": 21,
      "outputs": [
        {
          "output_type": "stream",
          "name": "stdout",
          "text": [
            "football & basketball 유사도 :  0.7341024279594421\n",
            "football & airplane 유사도 :  0.002223522402346134\n"
          ]
        }
      ]
    },
    {
      "cell_type": "code",
      "source": [
        "# 특정 단어와 가장 유사한 단어 보여주기  (GloVe)\n",
        "print('football과 가장 유사한 단어 5개는 : ' , most_similar('football', glove_model, topn=5))"
      ],
      "metadata": {
        "colab": {
          "base_uri": "https://localhost:8080/"
        },
        "id": "OFPv9MYN4TIr",
        "outputId": "9e29f6e5-8772-45bf-b0eb-eb25ae8e95d8"
      },
      "execution_count": 22,
      "outputs": [
        {
          "output_type": "stream",
          "name": "stdout",
          "text": [
            "football과 가장 유사한 단어 5개는 :  [('soccer', 0.7682591676712036), ('basketball', 0.7341024279594421), ('league', 0.6599653959274292), ('baseball', 0.6479504704475403), ('rugby', 0.6429778933525085)]\n"
          ]
        }
      ]
    },
    {
      "cell_type": "code",
      "source": [],
      "metadata": {
        "id": "IwCoxmfn4WgN"
      },
      "execution_count": null,
      "outputs": []
    }
  ]
}