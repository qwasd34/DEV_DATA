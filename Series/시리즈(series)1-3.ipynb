{
 "cells": [
  {
   "cell_type": "code",
   "execution_count": 1,
   "id": "b4e4d217-f438-40ea-8728-0f8a9f2b428f",
   "metadata": {},
   "outputs": [],
   "source": [
    "import pandas as pd"
   ]
  },
  {
   "cell_type": "code",
   "execution_count": 2,
   "id": "7415b222-2732-4ddf-b5b6-991fb0f19823",
   "metadata": {},
   "outputs": [
    {
     "data": {
      "text/plain": [
       "[3, 4, 5, 6, 7, 8, 9, 10, 11, 12, 13]"
      ]
     },
     "execution_count": 2,
     "metadata": {},
     "output_type": "execute_result"
    }
   ],
   "source": [
    "numbers = list(range(3,14))\n",
    "numbers"
   ]
  },
  {
   "cell_type": "code",
   "execution_count": 4,
   "id": "4a644191-36ed-4b8c-897d-f0a31e9157d5",
   "metadata": {},
   "outputs": [
    {
     "data": {
      "text/plain": [
       "0      3\n",
       "1      4\n",
       "2      5\n",
       "3      6\n",
       "4      7\n",
       "5      8\n",
       "6      9\n",
       "7     10\n",
       "8     11\n",
       "9     12\n",
       "10    13\n",
       "dtype: int64"
      ]
     },
     "execution_count": 4,
     "metadata": {},
     "output_type": "execute_result"
    }
   ],
   "source": [
    "pd.Series(numbers)"
   ]
  },
  {
   "cell_type": "code",
   "execution_count": 5,
   "id": "6ed83784-61d9-44c0-9693-eae8ac4d868b",
   "metadata": {},
   "outputs": [
    {
     "data": {
      "text/plain": [
       "['p', 'r', 'o', 'g', 'r', 'a', 'm', 'm', 'e', 'r', 's']"
      ]
     },
     "execution_count": 5,
     "metadata": {},
     "output_type": "execute_result"
    }
   ],
   "source": [
    "letters=list(\"programmers\")\n",
    "letters"
   ]
  },
  {
   "cell_type": "code",
   "execution_count": 8,
   "id": "ae388b72-c0fb-45b8-b19f-efefe88e4542",
   "metadata": {},
   "outputs": [
    {
     "data": {
      "text/plain": [
       "3     p\n",
       "4     r\n",
       "5     o\n",
       "6     g\n",
       "7     r\n",
       "8     a\n",
       "9     m\n",
       "10    m\n",
       "11    e\n",
       "12    r\n",
       "13    s\n",
       "dtype: object"
      ]
     },
     "execution_count": 8,
     "metadata": {},
     "output_type": "execute_result"
    }
   ],
   "source": [
    "#인덱스 설정 \n",
    "pd.Series(letters, index=numbers)"
   ]
  },
  {
   "cell_type": "code",
   "execution_count": 9,
   "id": "ac2346ea-f5f2-40ea-8d9b-906324265bdf",
   "metadata": {},
   "outputs": [
    {
     "data": {
      "text/plain": [
       "['문자1', '문자2', '문자3', '문자4', '문자5', '문자6', '문자7', '문자8', '문자9', '문자10', '문자11']"
      ]
     },
     "execution_count": 9,
     "metadata": {},
     "output_type": "execute_result"
    }
   ],
   "source": [
    "# 파이썬 f -string\n",
    "letters_index=[f\"문자{i}\" for i in range(1,12) ]\n",
    "letters_index"
   ]
  },
  {
   "cell_type": "code",
   "execution_count": 10,
   "id": "42949202-d8e7-41ae-8f85-00324b6ea0cf",
   "metadata": {},
   "outputs": [
    {
     "data": {
      "text/plain": [
       "문자1     p\n",
       "문자2     r\n",
       "문자3     o\n",
       "문자4     g\n",
       "문자5     r\n",
       "문자6     a\n",
       "문자7     m\n",
       "문자8     m\n",
       "문자9     e\n",
       "문자10    r\n",
       "문자11    s\n",
       "dtype: object"
      ]
     },
     "execution_count": 10,
     "metadata": {},
     "output_type": "execute_result"
    }
   ],
   "source": [
    "pd.Series(letters , index=letters_index)"
   ]
  },
  {
   "cell_type": "code",
   "execution_count": 11,
   "id": "a5839489-9af6-40d0-8678-35220ca680c1",
   "metadata": {},
   "outputs": [],
   "source": [
    "#딕셔너리-> 시리즈\n",
    "user = {\n",
    "    'name' : 'heeryeong',\n",
    "    'age': 20,\n",
    "    'job': None\n",
    "}"
   ]
  },
  {
   "cell_type": "code",
   "execution_count": 12,
   "id": "99a096b3-c1d8-407a-aea5-33f842c58f1b",
   "metadata": {},
   "outputs": [
    {
     "data": {
      "text/plain": [
       "name    heeryeong\n",
       "age            20\n",
       "job          None\n",
       "dtype: object"
      ]
     },
     "execution_count": 12,
     "metadata": {},
     "output_type": "execute_result"
    }
   ],
   "source": [
    "# 키는 인덱스로 벨유는 벨유로\n",
    "pd.Series(user)"
   ]
  },
  {
   "cell_type": "code",
   "execution_count": 18,
   "id": "b6cab151-9f6b-4506-80a2-2c9ea02cde25",
   "metadata": {},
   "outputs": [
    {
     "data": {
      "text/plain": [
       "name       heeryeong\n",
       "address          NaN\n",
       "age               20\n",
       "job             None\n",
       "dtype: object"
      ]
     },
     "execution_count": 18,
     "metadata": {},
     "output_type": "execute_result"
    }
   ],
   "source": [
    "# 딕-> 시리즈 할때 index를 지정하면 없는 key 왔을때 NaN !\n",
    "pd.Series(user, index=['name','address','age', 'job'])"
   ]
  },
  {
   "cell_type": "markdown",
   "id": "ee4ec41e-afd5-4163-aa72-a21c583dedfd",
   "metadata": {},
   "source": [
    "# Series 속성"
   ]
  },
  {
   "cell_type": "code",
   "execution_count": 19,
   "id": "2f7e75bd-c452-40f7-9569-456458abe5a1",
   "metadata": {},
   "outputs": [
    {
     "data": {
      "text/plain": [
       "([1, 2, 3, 4, 5, 6], ['h', 'e', 'e', 'r', 'y', 'e', 'o', 'n', 'g'])"
      ]
     },
     "execution_count": 19,
     "metadata": {},
     "output_type": "execute_result"
    }
   ],
   "source": [
    "numbers = list(range(1,7))\n",
    "letters=list('heeryeong')\n",
    "numbers, letters\n"
   ]
  },
  {
   "cell_type": "code",
   "execution_count": 20,
   "id": "6569bd7c-8364-419e-b447-a3cb5dee13cc",
   "metadata": {},
   "outputs": [
    {
     "data": {
      "text/plain": [
       "0    1\n",
       "1    2\n",
       "2    3\n",
       "3    4\n",
       "4    5\n",
       "5    6\n",
       "dtype: int64"
      ]
     },
     "execution_count": 20,
     "metadata": {},
     "output_type": "execute_result"
    }
   ],
   "source": [
    "number_series=pd.Series(numbers)\n",
    "number_series"
   ]
  },
  {
   "cell_type": "code",
   "execution_count": 22,
   "id": "603e38c8-e7c8-46b6-9acf-1eb2d73653d8",
   "metadata": {},
   "outputs": [
    {
     "data": {
      "text/plain": [
       "0    h\n",
       "1    e\n",
       "2    e\n",
       "3    r\n",
       "4    y\n",
       "5    e\n",
       "6    o\n",
       "7    n\n",
       "8    g\n",
       "dtype: object"
      ]
     },
     "execution_count": 22,
     "metadata": {},
     "output_type": "execute_result"
    }
   ],
   "source": [
    "letters_series=pd.Series(letters)\n",
    "letters_series"
   ]
  },
  {
   "cell_type": "markdown",
   "id": "04fb2f95-2673-4bbf-a1ab-1758b57917bf",
   "metadata": {},
   "source": [
    "## .dtype \n",
    "- 시리즈가 반환하는(담고있는) 데이터 타입"
   ]
  },
  {
   "cell_type": "code",
   "execution_count": 23,
   "id": "5b7f122b-6da4-42ee-a65c-9924ce13ee1b",
   "metadata": {},
   "outputs": [
    {
     "data": {
      "text/plain": [
       "dtype('int64')"
      ]
     },
     "execution_count": 23,
     "metadata": {},
     "output_type": "execute_result"
    }
   ],
   "source": [
    "number_series.dtype"
   ]
  },
  {
   "cell_type": "markdown",
   "id": "87b1b6a6-0455-41de-9e0a-0ab857210eb7",
   "metadata": {},
   "source": [
    "알파벳 o . object! "
   ]
  },
  {
   "cell_type": "code",
   "execution_count": 25,
   "id": "e6324285-5923-42ff-8653-a48efbc82c96",
   "metadata": {},
   "outputs": [
    {
     "data": {
      "text/plain": [
       "dtype('O')"
      ]
     },
     "execution_count": 25,
     "metadata": {},
     "output_type": "execute_result"
    }
   ],
   "source": [
    "letters_series.dtype"
   ]
  },
  {
   "cell_type": "markdown",
   "id": "09f6fce6-3145-4a5c-9128-3d2e5b28b949",
   "metadata": {},
   "source": [
    "## .index"
   ]
  },
  {
   "cell_type": "code",
   "execution_count": 26,
   "id": "b73654ff-a6b5-4895-9871-4ad801daa0fd",
   "metadata": {},
   "outputs": [
    {
     "data": {
      "text/plain": [
       "RangeIndex(start=0, stop=6, step=1)"
      ]
     },
     "execution_count": 26,
     "metadata": {},
     "output_type": "execute_result"
    }
   ],
   "source": [
    "number_series.index"
   ]
  },
  {
   "cell_type": "code",
   "execution_count": 27,
   "id": "21278e19-7549-436c-ac01-1c455a5ccd43",
   "metadata": {},
   "outputs": [
    {
     "data": {
      "text/plain": [
       "RangeIndex(start=0, stop=9, step=1)"
      ]
     },
     "execution_count": 27,
     "metadata": {},
     "output_type": "execute_result"
    }
   ],
   "source": [
    "letters_series.index"
   ]
  },
  {
   "cell_type": "markdown",
   "id": "97f47b3b-ec37-4fa7-afe2-b08530f8a31f",
   "metadata": {},
   "source": [
    "## .values"
   ]
  },
  {
   "cell_type": "code",
   "execution_count": 29,
   "id": "3e57a99b-bdcc-4609-954c-bfcd2bb0f44b",
   "metadata": {},
   "outputs": [
    {
     "data": {
      "text/plain": [
       "array([1, 2, 3, 4, 5, 6], dtype=int64)"
      ]
     },
     "execution_count": 29,
     "metadata": {},
     "output_type": "execute_result"
    }
   ],
   "source": [
    "# 숫자 + 문자열 조합은 문자열로\n",
    "number_series.values"
   ]
  },
  {
   "cell_type": "code",
   "execution_count": 30,
   "id": "ccbfdd8b-795d-4b0c-bbf0-9e788475dedf",
   "metadata": {},
   "outputs": [
    {
     "data": {
      "text/plain": [
       "array(['h', 'e', 'e', 'r', 'y', 'e', 'o', 'n', 'g'], dtype=object)"
      ]
     },
     "execution_count": 30,
     "metadata": {},
     "output_type": "execute_result"
    }
   ],
   "source": [
    "letters_series.values"
   ]
  },
  {
   "cell_type": "markdown",
   "id": "037fe666-6732-4e39-8f10-c88f731d217d",
   "metadata": {},
   "source": [
    "## .shape"
   ]
  },
  {
   "cell_type": "code",
   "execution_count": 31,
   "id": "f1071a2d-18be-4e78-a337-9674d43ec7cb",
   "metadata": {},
   "outputs": [
    {
     "data": {
      "text/plain": [
       "(6,)"
      ]
     },
     "execution_count": 31,
     "metadata": {},
     "output_type": "execute_result"
    }
   ],
   "source": [
    "#튜플로 표현하기위해 (6,)\n",
    "number_series.shape"
   ]
  },
  {
   "cell_type": "markdown",
   "id": "1a57782b-a1e1-47db-8363-12dc044c1d72",
   "metadata": {},
   "source": [
    ".shape 는 데이터 구조를 알수 있으며, Series는 1차원구조!\n"
   ]
  },
  {
   "cell_type": "code",
   "execution_count": 32,
   "id": "e1790a9b-7eb2-4bde-aa98-3e03f2c2cb0a",
   "metadata": {},
   "outputs": [
    {
     "data": {
      "text/plain": [
       "(9,)"
      ]
     },
     "execution_count": 32,
     "metadata": {},
     "output_type": "execute_result"
    }
   ],
   "source": [
    "letters_series.shape"
   ]
  },
  {
   "cell_type": "markdown",
   "id": "d234f856-dd2f-4029-8ad5-7f82840f9e81",
   "metadata": {},
   "source": [
    "## .size\n",
    "- 데이터의 크기를 알수있다"
   ]
  },
  {
   "cell_type": "code",
   "execution_count": 33,
   "id": "ced4247c-b2af-4258-9663-75ba68943f95",
   "metadata": {},
   "outputs": [
    {
     "data": {
      "text/plain": [
       "6"
      ]
     },
     "execution_count": 33,
     "metadata": {},
     "output_type": "execute_result"
    }
   ],
   "source": [
    "number_series.size"
   ]
  },
  {
   "cell_type": "code",
   "execution_count": 34,
   "id": "8efb0f8f-d5ee-4089-894f-7d082707ce34",
   "metadata": {},
   "outputs": [
    {
     "data": {
      "text/plain": [
       "9"
      ]
     },
     "execution_count": 34,
     "metadata": {},
     "output_type": "execute_result"
    }
   ],
   "source": [
    "letters_series.size"
   ]
  },
  {
   "cell_type": "markdown",
   "id": "9f61f3f9-ab82-4304-8514-c15e8a5c5b97",
   "metadata": {},
   "source": [
    "## .hasnans\n",
    "- None 이나 NaN 같은 결측치(Missing Data) 가 있는지 확인한다.\n"
   ]
  },
  {
   "cell_type": "code",
   "execution_count": 35,
   "id": "41e6109a-e999-4d1b-a4b3-63bf9a71c8a7",
   "metadata": {},
   "outputs": [
    {
     "data": {
      "text/plain": [
       "False"
      ]
     },
     "execution_count": 35,
     "metadata": {},
     "output_type": "execute_result"
    }
   ],
   "source": [
    "number_series.hasnans"
   ]
  },
  {
   "cell_type": "code",
   "execution_count": 36,
   "id": "398f6b5a-a165-4397-9378-9c25e4594dab",
   "metadata": {},
   "outputs": [
    {
     "data": {
      "text/plain": [
       "False"
      ]
     },
     "execution_count": 36,
     "metadata": {},
     "output_type": "execute_result"
    }
   ],
   "source": [
    "letters_series.hasnans"
   ]
  },
  {
   "cell_type": "code",
   "execution_count": 37,
   "id": "f6ccfced-6543-4125-91d0-4fd6b5ee2f9b",
   "metadata": {},
   "outputs": [],
   "source": [
    "user= {\n",
    "    'name': 'heeryeong',\n",
    "    'age': 20,\n",
    "    'job': None\n",
    "}\n"
   ]
  },
  {
   "cell_type": "code",
   "execution_count": 39,
   "id": "3b810e4e-c459-42db-95da-9c7802f0f6da",
   "metadata": {},
   "outputs": [
    {
     "data": {
      "text/plain": [
       "name    heeryeong\n",
       "age            20\n",
       "job          None\n",
       "dtype: object"
      ]
     },
     "execution_count": 39,
     "metadata": {},
     "output_type": "execute_result"
    }
   ],
   "source": [
    "user_series=pd.Series(user)\n",
    "user_series"
   ]
  },
  {
   "cell_type": "code",
   "execution_count": 41,
   "id": "757ad4c6-6c22-4676-828c-e799741eae6f",
   "metadata": {},
   "outputs": [
    {
     "data": {
      "text/plain": [
       "True"
      ]
     },
     "execution_count": 41,
     "metadata": {},
     "output_type": "execute_result"
    }
   ],
   "source": [
    "user_series.hasnans"
   ]
  },
  {
   "cell_type": "markdown",
   "id": "17159947-a2b3-4cd7-9876-e618ce485356",
   "metadata": {},
   "source": [
    "# Series 메소드\n",
    "- 객체 안에 있는 함수"
   ]
  },
  {
   "cell_type": "code",
   "execution_count": 42,
   "id": "72665ca0-3581-4c9a-bf02-e0daeea8c92e",
   "metadata": {},
   "outputs": [],
   "source": [
    "scores=[90.5, 55.5, 81.4, None, 75.6]"
   ]
  },
  {
   "cell_type": "code",
   "execution_count": 45,
   "id": "70a82d99-aa50-4e4c-b6df-ac81b4477a87",
   "metadata": {},
   "outputs": [],
   "source": [
    "#시리즈화하기\n",
    "score_series=pd.Series(scores)"
   ]
  },
  {
   "cell_type": "code",
   "execution_count": 47,
   "id": "71405315-35f9-4da6-9ef4-2b9582bf09d1",
   "metadata": {},
   "outputs": [
    {
     "data": {
      "text/plain": [
       "0    90.5\n",
       "1    55.5\n",
       "2    81.4\n",
       "3     NaN\n",
       "4    75.6\n",
       "dtype: float64"
      ]
     },
     "execution_count": 47,
     "metadata": {},
     "output_type": "execute_result"
    }
   ],
   "source": [
    "# none data는 NaN\n",
    "score_series"
   ]
  },
  {
   "cell_type": "markdown",
   "id": "ca576fa0-27f4-4c3a-b39b-9cab5a22c250",
   "metadata": {},
   "source": [
    "## .max() - 최대값"
   ]
  },
  {
   "cell_type": "code",
   "execution_count": 56,
   "id": "fd7c7b4d-297c-4bdf-a3ab-869fbe6a75df",
   "metadata": {},
   "outputs": [
    {
     "data": {
      "text/plain": [
       "90.5"
      ]
     },
     "execution_count": 56,
     "metadata": {},
     "output_type": "execute_result"
    }
   ],
   "source": [
    "score_series.max()\n",
    "# 파이썬 형태도 가능\n",
    "max(score_series)\n",
    "#but 괄호지옥에 들어가지 않을려면 .max() 체인형으로 쓰기! "
   ]
  },
  {
   "cell_type": "markdown",
   "id": "5b211b41-ca95-4b11-bb46-212589051a23",
   "metadata": {},
   "source": [
    "## .idxmax() -  최대값의 인덱스"
   ]
  },
  {
   "cell_type": "code",
   "execution_count": 57,
   "id": "d78c6636-582c-4c68-b188-f5fb20d9053f",
   "metadata": {},
   "outputs": [
    {
     "data": {
      "text/plain": [
       "0"
      ]
     },
     "execution_count": 57,
     "metadata": {},
     "output_type": "execute_result"
    }
   ],
   "source": [
    " score_series.idxmax()"
   ]
  },
  {
   "cell_type": "markdown",
   "id": "66b9a1d7-0e14-41ad-b4fb-46d9e21cf368",
   "metadata": {},
   "source": [
    "## .min() 최솟값"
   ]
  },
  {
   "cell_type": "code",
   "execution_count": 50,
   "id": "2b420191-a5f0-4172-92d1-ca0bdffb210b",
   "metadata": {},
   "outputs": [
    {
     "data": {
      "text/plain": [
       "55.5"
      ]
     },
     "execution_count": 50,
     "metadata": {},
     "output_type": "execute_result"
    }
   ],
   "source": [
    "score_series.min()"
   ]
  },
  {
   "cell_type": "markdown",
   "id": "1d383d95-c8db-451c-bf7b-b2b2672440c4",
   "metadata": {},
   "source": [
    "## .idxmin()- 최솟값의 인덱스"
   ]
  },
  {
   "cell_type": "code",
   "execution_count": 51,
   "id": "10664925-396a-409b-89ad-4ec0bef1fd2d",
   "metadata": {},
   "outputs": [
    {
     "data": {
      "text/plain": [
       "1"
      ]
     },
     "execution_count": 51,
     "metadata": {},
     "output_type": "execute_result"
    }
   ],
   "source": [
    "score_series.idxmin()"
   ]
  },
  {
   "cell_type": "markdown",
   "id": "c972d6fb-a960-4f6e-8f87-f31abd249c31",
   "metadata": {},
   "source": [
    "## .sum()- 합계"
   ]
  },
  {
   "cell_type": "code",
   "execution_count": 52,
   "id": "0850de7f-0618-4b52-aa2b-534c46868a54",
   "metadata": {},
   "outputs": [
    {
     "data": {
      "text/plain": [
       "303.0"
      ]
     },
     "execution_count": 52,
     "metadata": {},
     "output_type": "execute_result"
    }
   ],
   "source": [
    "score_series.sum()"
   ]
  },
  {
   "cell_type": "markdown",
   "id": "8260c5be-fd1b-4c2d-800d-9e2da89bf530",
   "metadata": {},
   "source": [
    "## .mean() - 평균"
   ]
  },
  {
   "cell_type": "code",
   "execution_count": 53,
   "id": "ff85d782-50ad-4ff9-bd29-d76143fe1518",
   "metadata": {},
   "outputs": [
    {
     "data": {
      "text/plain": [
       "75.75"
      ]
     },
     "execution_count": 53,
     "metadata": {},
     "output_type": "execute_result"
    }
   ],
   "source": [
    "score_series.mean()"
   ]
  },
  {
   "cell_type": "markdown",
   "id": "9fafb053-2a11-448f-b583-aafc28544f3f",
   "metadata": {},
   "source": [
    "## .isnull(), isna()- 결측치 체크 \n",
    "- 값(value)중 null 또는 not 유형의 데이터가 없는가? 동일한 로직\n",
    "> 비교 .isna() -> 동일하다 isnull() 의 별칭(alias)가 isna \\\n",
    "> .isnull() 에 shift+ tab\\\n",
    "> `Dicstring : Sereis. isnull is an alias for Series. isna."
   ]
  },
  {
   "cell_type": "code",
   "execution_count": 58,
   "id": "eebbfa42-bef0-4a82-b9f1-543e30c0e68d",
   "metadata": {},
   "outputs": [
    {
     "data": {
      "text/plain": [
       "0    False\n",
       "1    False\n",
       "2    False\n",
       "3     True\n",
       "4    False\n",
       "dtype: bool"
      ]
     },
     "execution_count": 58,
     "metadata": {},
     "output_type": "execute_result"
    }
   ],
   "source": [
    "score_series.isnull()"
   ]
  },
  {
   "cell_type": "code",
   "execution_count": 59,
   "id": "e04cd039-43f0-4b03-8301-ab8038ace1fc",
   "metadata": {},
   "outputs": [
    {
     "data": {
      "text/plain": [
       "0    False\n",
       "1    False\n",
       "2    False\n",
       "3     True\n",
       "4    False\n",
       "dtype: bool"
      ]
     },
     "execution_count": 59,
     "metadata": {},
     "output_type": "execute_result"
    }
   ],
   "source": [
    "score_series.isna()"
   ]
  },
  {
   "cell_type": "markdown",
   "id": "ff9eb52f-bcb1-4e34-94c7-84315673fb57",
   "metadata": {},
   "source": [
    "## .round() -각 수치 반올림\n",
    "- 왜 90.5 는 90이 되고 (91 이아니고)\n",
    "- 왜 55.5 는 56이 될까?\n",
    "  "
   ]
  },
  {
   "cell_type": "code",
   "execution_count": 60,
   "id": "a7b0f9ab-67ea-44ab-b0da-3737c3444909",
   "metadata": {},
   "outputs": [
    {
     "data": {
      "text/plain": [
       "0    90.0\n",
       "1    56.0\n",
       "2    81.0\n",
       "3     NaN\n",
       "4    76.0\n",
       "dtype: float64"
      ]
     },
     "execution_count": 60,
     "metadata": {},
     "output_type": "execute_result"
    }
   ],
   "source": [
    "score_series.round()"
   ]
  },
  {
   "cell_type": "markdown",
   "id": "1bdba08e-c194-442d-86df-2d323858d30d",
   "metadata": {},
   "source": [
    "# 파이썬의 반올림은 오사오입 (Round half to even)\n",
    "- 통계학적으로 보면 사사오입 보다 오사오입이 더 맞는말임\n",
    "1. 사사오입\n",
    "   .5 지점에서의 공정\n",
    "   통계적으로 중립성이 깨짐\n",
    "   - `0.5+1.5+2.5+3.5 =8.5`  각 항목에 위치값을 반올림하면\n",
    "   - `1+2+3+4 =10` 전체값이 1.5 증가\n",
    "2. 오사오입\n",
    "   .5 일때 어떤경우는 내림 어떤경우는 올림\n",
    "   반올림할 숫자 결과는 무조건 짝수 (0,2,4,6,8)\n",
    "   *.5 에서 * 이 홀수이면 올림 짝수이면 내림 느낌? \n",
    "   - `0.5+1.5+2.5+3.5 =8.5` 가까운 짝수쪽으로 반올림\n",
    "   - `0+2+2+4=8` 오차가 0.5"
   ]
  },
  {
   "cell_type": "markdown",
   "id": "9d446e5e-53c7-408f-a583-aa07962f6fd6",
   "metadata": {},
   "source": [
    "## 반올림을 왜할까?\n",
    "> 데이터 처리와 표션에서 사용되며, 주로 정확한 값이 필요하지 않은 경우에 유용 \\\n",
    "> 그러나 반올림은 정확한 값을 표현하지 못할 수도 있으므로, 내가 사용하려는 상황과 이용 목적에 따라 적절한 방식 선택하기\\\n",
    "\n",
    "**소수점 이하 자리수 조절**\n",
    "- 소수점 이하 자리수를 조절하기 위해 반올림. 적절한 근사치로 표현\n",
    "- 예를들어 소수점 둘째 자리까지 표현하려면 반올림을 사용해 적절한 근사치로 표현\n",
    "  \n",
    "**데이터의 정확도 제한**\n",
    "- 데이터의 정확한 값을 표현할 필요가 없는경우\n",
    "- 예를 들어 실험결과를 소수점 둘째 자리까지 표현, 금액을 소수점 이하 자리를 제한하여 처리\n",
    "\n",
    "**통계분석**\n",
    "- 데이터의 크기를 줄이고 결과를 간소화 하기위해\n",
    "- 예를 들어 평균이나 중앙값을 소수점 이하 자리수로 표현\n",
    "\n",
    "**시각화**\n",
    "- 데이터를 시각화 할때, 반올림은 그래프의 레이아웃을 개선하고 더 깔끔하게 표현\n",
    "- 예를 들어 축의 눈금을 반올림하여 그래프를 더 가독성 있게 만듬\n",
    "\n",
    "  "
   ]
  },
  {
   "cell_type": "markdown",
   "id": "8c74e06a-7fdc-48e9-9dbc-1ea8858ac78c",
   "metadata": {},
   "source": []
  }
 ],
 "metadata": {
  "kernelspec": {
   "display_name": "Python 3 (ipykernel)",
   "language": "python",
   "name": "python3"
  },
  "language_info": {
   "codemirror_mode": {
    "name": "ipython",
    "version": 3
   },
   "file_extension": ".py",
   "mimetype": "text/x-python",
   "name": "python",
   "nbconvert_exporter": "python",
   "pygments_lexer": "ipython3",
   "version": "3.11.7"
  }
 },
 "nbformat": 4,
 "nbformat_minor": 5
}
