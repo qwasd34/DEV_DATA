{
 "cells": [
  {
   "cell_type": "markdown",
   "id": "236541b9",
   "metadata": {},
   "source": [
    "# 값 세기\n",
    "- https://pandas.pydata.org/docs/reference/api/pandas.Series.value_counts.html"
   ]
  },
  {
   "cell_type": "code",
   "execution_count": 1,
   "id": "7cb80d20",
   "metadata": {},
   "outputs": [],
   "source": [
    "import pandas as pd"
   ]
  },
  {
   "cell_type": "code",
   "execution_count": 2,
   "id": "46d74f88",
   "metadata": {
    "scrolled": true
   },
   "outputs": [
    {
     "data": {
      "text/html": [
       "<div>\n",
       "<style scoped>\n",
       "    .dataframe tbody tr th:only-of-type {\n",
       "        vertical-align: middle;\n",
       "    }\n",
       "\n",
       "    .dataframe tbody tr th {\n",
       "        vertical-align: top;\n",
       "    }\n",
       "\n",
       "    .dataframe thead th {\n",
       "        text-align: right;\n",
       "    }\n",
       "</style>\n",
       "<table border=\"1\" class=\"dataframe\">\n",
       "  <thead>\n",
       "    <tr style=\"text-align: right;\">\n",
       "      <th></th>\n",
       "      <th>Name</th>\n",
       "      <th>NetWorth</th>\n",
       "      <th>Age</th>\n",
       "      <th>Country/Territory</th>\n",
       "      <th>Source</th>\n",
       "      <th>Industry</th>\n",
       "    </tr>\n",
       "  </thead>\n",
       "  <tbody>\n",
       "    <tr>\n",
       "      <th>0</th>\n",
       "      <td>Elon Musk</td>\n",
       "      <td>$219,000,000,000</td>\n",
       "      <td>50</td>\n",
       "      <td>United States</td>\n",
       "      <td>Tesla, SpaceX</td>\n",
       "      <td>Automotive</td>\n",
       "    </tr>\n",
       "    <tr>\n",
       "      <th>1</th>\n",
       "      <td>Jeff Bezos</td>\n",
       "      <td>$171,000,000,000</td>\n",
       "      <td>58</td>\n",
       "      <td>United States</td>\n",
       "      <td>Amazon</td>\n",
       "      <td>Technology</td>\n",
       "    </tr>\n",
       "    <tr>\n",
       "      <th>2</th>\n",
       "      <td>Bernard Arnault &amp; family</td>\n",
       "      <td>$158,000,000,000</td>\n",
       "      <td>73</td>\n",
       "      <td>France</td>\n",
       "      <td>LVMH</td>\n",
       "      <td>Fashion &amp; Retail</td>\n",
       "    </tr>\n",
       "    <tr>\n",
       "      <th>3</th>\n",
       "      <td>Bill Gates</td>\n",
       "      <td>$129,000,000,000</td>\n",
       "      <td>66</td>\n",
       "      <td>United States</td>\n",
       "      <td>Microsoft</td>\n",
       "      <td>Technology</td>\n",
       "    </tr>\n",
       "    <tr>\n",
       "      <th>4</th>\n",
       "      <td>Warren Buffett</td>\n",
       "      <td>$118,000,000,000</td>\n",
       "      <td>91</td>\n",
       "      <td>United States</td>\n",
       "      <td>Berkshire Hathaway</td>\n",
       "      <td>Finance &amp; Investments</td>\n",
       "    </tr>\n",
       "    <tr>\n",
       "      <th>...</th>\n",
       "      <td>...</td>\n",
       "      <td>...</td>\n",
       "      <td>...</td>\n",
       "      <td>...</td>\n",
       "      <td>...</td>\n",
       "      <td>...</td>\n",
       "    </tr>\n",
       "    <tr>\n",
       "      <th>96</th>\n",
       "      <td>Vladimir Potanin</td>\n",
       "      <td>$17,300,000,000</td>\n",
       "      <td>61</td>\n",
       "      <td>Russia</td>\n",
       "      <td>metals</td>\n",
       "      <td>Metals &amp; Mining</td>\n",
       "    </tr>\n",
       "    <tr>\n",
       "      <th>97</th>\n",
       "      <td>Harold Hamm &amp; family</td>\n",
       "      <td>$17,200,000,000</td>\n",
       "      <td>76</td>\n",
       "      <td>United States</td>\n",
       "      <td>oil &amp; gas</td>\n",
       "      <td>Energy</td>\n",
       "    </tr>\n",
       "    <tr>\n",
       "      <th>98</th>\n",
       "      <td>Sun Piaoyang</td>\n",
       "      <td>$17,100,000,000</td>\n",
       "      <td>63</td>\n",
       "      <td>China</td>\n",
       "      <td>pharmaceuticals</td>\n",
       "      <td>Healthcare</td>\n",
       "    </tr>\n",
       "    <tr>\n",
       "      <th>99</th>\n",
       "      <td>Luo Liguo &amp; family</td>\n",
       "      <td>$17,000,000,000</td>\n",
       "      <td>66</td>\n",
       "      <td>China</td>\n",
       "      <td>chemicals</td>\n",
       "      <td>Manufacturing</td>\n",
       "    </tr>\n",
       "    <tr>\n",
       "      <th>100</th>\n",
       "      <td>Peter Woo</td>\n",
       "      <td>$17,000,000,000</td>\n",
       "      <td>75</td>\n",
       "      <td>Hong Kong</td>\n",
       "      <td>real estate</td>\n",
       "      <td>Real Estate</td>\n",
       "    </tr>\n",
       "  </tbody>\n",
       "</table>\n",
       "<p>101 rows × 6 columns</p>\n",
       "</div>"
      ],
      "text/plain": [
       "                         Name          NetWorth  Age Country/Territory  \\\n",
       "0                   Elon Musk  $219,000,000,000   50     United States   \n",
       "1                  Jeff Bezos  $171,000,000,000   58     United States   \n",
       "2    Bernard Arnault & family  $158,000,000,000   73            France   \n",
       "3                  Bill Gates  $129,000,000,000   66     United States   \n",
       "4              Warren Buffett  $118,000,000,000   91     United States   \n",
       "..                        ...               ...  ...               ...   \n",
       "96           Vladimir Potanin   $17,300,000,000   61            Russia   \n",
       "97       Harold Hamm & family   $17,200,000,000   76     United States   \n",
       "98               Sun Piaoyang   $17,100,000,000   63             China   \n",
       "99         Luo Liguo & family   $17,000,000,000   66             China   \n",
       "100                 Peter Woo   $17,000,000,000   75         Hong Kong   \n",
       "\n",
       "                 Source               Industry  \n",
       "0         Tesla, SpaceX             Automotive  \n",
       "1                Amazon             Technology  \n",
       "2                  LVMH       Fashion & Retail  \n",
       "3             Microsoft             Technology  \n",
       "4    Berkshire Hathaway  Finance & Investments  \n",
       "..                  ...                    ...  \n",
       "96               metals        Metals & Mining  \n",
       "97            oil & gas                 Energy  \n",
       "98      pharmaceuticals             Healthcare  \n",
       "99            chemicals          Manufacturing  \n",
       "100         real estate            Real Estate  \n",
       "\n",
       "[101 rows x 6 columns]"
      ]
     },
     "execution_count": 2,
     "metadata": {},
     "output_type": "execute_result"
    }
   ],
   "source": [
    "rich_df = pd.read_csv('TopRichestInWorld.csv')\n",
    "rich_df"
   ]
  },
  {
   "cell_type": "code",
   "execution_count": 3,
   "id": "859e8bee",
   "metadata": {
    "scrolled": true
   },
   "outputs": [
    {
     "data": {
      "text/html": [
       "<div>\n",
       "<style scoped>\n",
       "    .dataframe tbody tr th:only-of-type {\n",
       "        vertical-align: middle;\n",
       "    }\n",
       "\n",
       "    .dataframe tbody tr th {\n",
       "        vertical-align: top;\n",
       "    }\n",
       "\n",
       "    .dataframe thead th {\n",
       "        text-align: right;\n",
       "    }\n",
       "</style>\n",
       "<table border=\"1\" class=\"dataframe\">\n",
       "  <thead>\n",
       "    <tr style=\"text-align: right;\">\n",
       "      <th></th>\n",
       "      <th>Country/Territory</th>\n",
       "      <th>Industry</th>\n",
       "    </tr>\n",
       "  </thead>\n",
       "  <tbody>\n",
       "    <tr>\n",
       "      <th>0</th>\n",
       "      <td>United States</td>\n",
       "      <td>Automotive</td>\n",
       "    </tr>\n",
       "    <tr>\n",
       "      <th>1</th>\n",
       "      <td>United States</td>\n",
       "      <td>Technology</td>\n",
       "    </tr>\n",
       "    <tr>\n",
       "      <th>2</th>\n",
       "      <td>France</td>\n",
       "      <td>Fashion &amp; Retail</td>\n",
       "    </tr>\n",
       "    <tr>\n",
       "      <th>3</th>\n",
       "      <td>United States</td>\n",
       "      <td>Technology</td>\n",
       "    </tr>\n",
       "    <tr>\n",
       "      <th>4</th>\n",
       "      <td>United States</td>\n",
       "      <td>Finance &amp; Investments</td>\n",
       "    </tr>\n",
       "    <tr>\n",
       "      <th>...</th>\n",
       "      <td>...</td>\n",
       "      <td>...</td>\n",
       "    </tr>\n",
       "    <tr>\n",
       "      <th>96</th>\n",
       "      <td>Russia</td>\n",
       "      <td>Metals &amp; Mining</td>\n",
       "    </tr>\n",
       "    <tr>\n",
       "      <th>97</th>\n",
       "      <td>United States</td>\n",
       "      <td>Energy</td>\n",
       "    </tr>\n",
       "    <tr>\n",
       "      <th>98</th>\n",
       "      <td>China</td>\n",
       "      <td>Healthcare</td>\n",
       "    </tr>\n",
       "    <tr>\n",
       "      <th>99</th>\n",
       "      <td>China</td>\n",
       "      <td>Manufacturing</td>\n",
       "    </tr>\n",
       "    <tr>\n",
       "      <th>100</th>\n",
       "      <td>Hong Kong</td>\n",
       "      <td>Real Estate</td>\n",
       "    </tr>\n",
       "  </tbody>\n",
       "</table>\n",
       "<p>101 rows × 2 columns</p>\n",
       "</div>"
      ],
      "text/plain": [
       "    Country/Territory               Industry\n",
       "0       United States             Automotive\n",
       "1       United States             Technology\n",
       "2              France       Fashion & Retail\n",
       "3       United States             Technology\n",
       "4       United States  Finance & Investments\n",
       "..                ...                    ...\n",
       "96             Russia        Metals & Mining\n",
       "97      United States                 Energy\n",
       "98              China             Healthcare\n",
       "99              China          Manufacturing\n",
       "100         Hong Kong            Real Estate\n",
       "\n",
       "[101 rows x 2 columns]"
      ]
     },
     "execution_count": 3,
     "metadata": {},
     "output_type": "execute_result"
    }
   ],
   "source": [
    "# 특정 열 2개 가져오기\n",
    "rich_df=pd.read_csv('TopRichestInWorld.csv', usecols=['Country/Territory', 'Industry'])\n",
    "rich_df"
   ]
  },
  {
   "cell_type": "markdown",
   "id": "14b19c1b",
   "metadata": {},
   "source": [
    "## .value_counts()"
   ]
  },
  {
   "cell_type": "code",
   "execution_count": 5,
   "id": "2e3ac124",
   "metadata": {},
   "outputs": [
    {
     "data": {
      "text/plain": [
       "0      United States\n",
       "1      United States\n",
       "2             France\n",
       "3      United States\n",
       "4      United States\n",
       "           ...      \n",
       "96            Russia\n",
       "97     United States\n",
       "98             China\n",
       "99             China\n",
       "100        Hong Kong\n",
       "Name: Country/Territory, Length: 101, dtype: object"
      ]
     },
     "execution_count": 5,
     "metadata": {},
     "output_type": "execute_result"
    }
   ],
   "source": [
    "# 나라 열만 가져오기 -> 시리즈 화\n",
    "rich_country=pd.read_csv('TopRichestInWorld.csv', usecols=['Country/Territory']).squeeze()\n",
    "rich_country"
   ]
  },
  {
   "cell_type": "code",
   "execution_count": 7,
   "id": "6a7bf1db",
   "metadata": {},
   "outputs": [
    {
     "data": {
      "text/plain": [
       "Country/Territory\n",
       "United States    37\n",
       "China            18\n",
       "India             7\n",
       "Germany           7\n",
       "France            7\n",
       "Hong Kong         4\n",
       "Japan             3\n",
       "Australia         2\n",
       "Russia            2\n",
       "Indonesia         2\n",
       "Italy             2\n",
       "Canada            2\n",
       "Mexico            2\n",
       "Austria           1\n",
       "Spain             1\n",
       "Switzerland       1\n",
       "Chile             1\n",
       "Singapore         1\n",
       "Sweden            1\n",
       "Name: count, dtype: int64"
      ]
     },
     "execution_count": 7,
     "metadata": {},
     "output_type": "execute_result"
    }
   ],
   "source": [
    "# value_counts : collection.Counter와 비슷한 기능\n",
    "rich_country.value_counts()"
   ]
  },
  {
   "cell_type": "code",
   "execution_count": 9,
   "id": "05ff06df",
   "metadata": {},
   "outputs": [
    {
     "data": {
      "text/plain": [
       "0                 Automotive\n",
       "1                 Technology\n",
       "2           Fashion & Retail\n",
       "3                 Technology\n",
       "4      Finance & Investments\n",
       "               ...          \n",
       "96           Metals & Mining\n",
       "97                    Energy\n",
       "98                Healthcare\n",
       "99             Manufacturing\n",
       "100              Real Estate\n",
       "Name: Industry, Length: 101, dtype: object"
      ]
     },
     "execution_count": 9,
     "metadata": {},
     "output_type": "execute_result"
    }
   ],
   "source": [
    "# 산업 열만 가져오기 -> 시리즈 화\n",
    "rich_industry = pd.read_csv('TopRichestInWorld.csv', usecols=['Industry']).squeeze()\n",
    "rich_industry"
   ]
  },
  {
   "cell_type": "code",
   "execution_count": 10,
   "id": "c49e6169",
   "metadata": {},
   "outputs": [
    {
     "data": {
      "text/plain": [
       "Industry\n",
       "Fashion & Retail         18\n",
       "Technology               15\n",
       "Finance & Investments    13\n",
       "Metals & Mining           9\n",
       "Food & Beverage           8\n",
       "Automotive                7\n",
       "Diversified               6\n",
       "Manufacturing             5\n",
       "Healthcare                5\n",
       "Media & Entertainment     4\n",
       "Real Estate               3\n",
       "Telecom                   2\n",
       "Logistics                 2\n",
       "Energy                    2\n",
       "Gambling & Casinos        1\n",
       "Service                   1\n",
       "Name: count, dtype: int64"
      ]
     },
     "execution_count": 10,
     "metadata": {},
     "output_type": "execute_result"
    }
   ],
   "source": [
    "# 부자들이 가장 많이 하는 산업\n",
    "rich_industry.value_counts()"
   ]
  },
  {
   "cell_type": "markdown",
   "id": "96f10cf7",
   "metadata": {},
   "source": [
    "## normalize= - 정규화"
   ]
  },
  {
   "cell_type": "code",
   "execution_count": 11,
   "id": "3fd57301",
   "metadata": {
    "scrolled": true
   },
   "outputs": [
    {
     "data": {
      "text/plain": [
       "Industry\n",
       "Fashion & Retail         0.178218\n",
       "Technology               0.148515\n",
       "Finance & Investments    0.128713\n",
       "Metals & Mining          0.089109\n",
       "Food & Beverage          0.079208\n",
       "Automotive               0.069307\n",
       "Diversified              0.059406\n",
       "Manufacturing            0.049505\n",
       "Healthcare               0.049505\n",
       "Media & Entertainment    0.039604\n",
       "Real Estate              0.029703\n",
       "Telecom                  0.019802\n",
       "Logistics                0.019802\n",
       "Energy                   0.019802\n",
       "Gambling & Casinos       0.009901\n",
       "Service                  0.009901\n",
       "Name: proportion, dtype: float64"
      ]
     },
     "execution_count": 11,
     "metadata": {},
     "output_type": "execute_result"
    }
   ],
   "source": [
    "#비중계산\n",
    "rich_industry.value_counts(normalize=True)"
   ]
  },
  {
   "cell_type": "code",
   "execution_count": 14,
   "id": "36faaeb2",
   "metadata": {},
   "outputs": [
    {
     "data": {
      "text/plain": [
       "Industry\n",
       "Fashion & Retail         18\n",
       "Technology               15\n",
       "Finance & Investments    13\n",
       "Metals & Mining           9\n",
       "Food & Beverage           8\n",
       "Automotive                7\n",
       "Diversified               6\n",
       "Manufacturing             5\n",
       "Healthcare                5\n",
       "Media & Entertainment     4\n",
       "Real Estate               3\n",
       "Telecom                   2\n",
       "Logistics                 2\n",
       "Energy                    2\n",
       "Gambling & Casinos        1\n",
       "Service                   1\n",
       "Name: count, dtype: int64"
      ]
     },
     "execution_count": 14,
     "metadata": {},
     "output_type": "execute_result"
    }
   ],
   "source": [
    "rich_industry.value_counts(normalize=False)"
   ]
  },
  {
   "cell_type": "markdown",
   "id": "5ee31cf5",
   "metadata": {},
   "source": [
    "**인자 정보**\n",
    "> **normalize : bool, default False**  \n",
    "If True then the object returned will contain the relative frequencies of the unique values.\n",
    "---\n",
    "**normalize**\n",
    "- 퍼센트처럼 비중으로 계산합니다.\n",
    "- 미국이 36퍼센트, 중국이 17퍼센트"
   ]
  },
  {
   "cell_type": "code",
   "execution_count": 15,
   "id": "8d807b24",
   "metadata": {},
   "outputs": [
    {
     "data": {
      "text/plain": [
       "1.0"
      ]
     },
     "execution_count": 15,
     "metadata": {},
     "output_type": "execute_result"
    }
   ],
   "source": [
    "#  따라서 합은 1이 된다.\n",
    "rich_industry.value_counts(normalize=True).sum()"
   ]
  },
  {
   "cell_type": "markdown",
   "id": "7d677f77",
   "metadata": {},
   "source": [
    "## sort=, ascending=\n",
    "-sort 정렬 한다/ 안한다 \n",
    "-ascending을 쓰면 정렬이 되긴함.1 "
   ]
  },
  {
   "cell_type": "code",
   "execution_count": 16,
   "id": "7c428282",
   "metadata": {
    "scrolled": true
   },
   "outputs": [
    {
     "data": {
      "text/plain": [
       "Industry\n",
       "Fashion & Retail         0.178218\n",
       "Technology               0.148515\n",
       "Finance & Investments    0.128713\n",
       "Metals & Mining          0.089109\n",
       "Food & Beverage          0.079208\n",
       "Automotive               0.069307\n",
       "Diversified              0.059406\n",
       "Manufacturing            0.049505\n",
       "Healthcare               0.049505\n",
       "Media & Entertainment    0.039604\n",
       "Real Estate              0.029703\n",
       "Telecom                  0.019802\n",
       "Logistics                0.019802\n",
       "Energy                   0.019802\n",
       "Gambling & Casinos       0.009901\n",
       "Service                  0.009901\n",
       "Name: proportion, dtype: float64"
      ]
     },
     "execution_count": 16,
     "metadata": {},
     "output_type": "execute_result"
    }
   ],
   "source": [
    "# 부자로 가장 유니크한 산업을 찾는다면\n",
    "rich_industry.value_counts(normalize=True,sort=True)"
   ]
  },
  {
   "cell_type": "code",
   "execution_count": 18,
   "id": "b8b06adf",
   "metadata": {
    "scrolled": true
   },
   "outputs": [
    {
     "data": {
      "text/plain": [
       "Industry\n",
       "Gambling & Casinos       0.009901\n",
       "Service                  0.009901\n",
       "Telecom                  0.019802\n",
       "Logistics                0.019802\n",
       "Energy                   0.019802\n",
       "Real Estate              0.029703\n",
       "Media & Entertainment    0.039604\n",
       "Manufacturing            0.049505\n",
       "Healthcare               0.049505\n",
       "Diversified              0.059406\n",
       "Automotive               0.069307\n",
       "Food & Beverage          0.079208\n",
       "Metals & Mining          0.089109\n",
       "Finance & Investments    0.128713\n",
       "Technology               0.148515\n",
       "Fashion & Retail         0.178218\n",
       "Name: proportion, dtype: float64"
      ]
     },
     "execution_count": 18,
     "metadata": {},
     "output_type": "execute_result"
    }
   ],
   "source": [
    "# 오름차순 정렬한다면\n",
    "rich_industry.value_counts(normalize=True, ascending=True)"
   ]
  },
  {
   "cell_type": "code",
   "execution_count": 19,
   "id": "903b8c65",
   "metadata": {},
   "outputs": [
    {
     "data": {
      "text/plain": [
       "Industry\n",
       "Gambling & Casinos        1\n",
       "Service                   1\n",
       "Telecom                   2\n",
       "Logistics                 2\n",
       "Energy                    2\n",
       "Real Estate               3\n",
       "Media & Entertainment     4\n",
       "Manufacturing             5\n",
       "Healthcare                5\n",
       "Diversified               6\n",
       "Automotive                7\n",
       "Food & Beverage           8\n",
       "Metals & Mining           9\n",
       "Finance & Investments    13\n",
       "Technology               15\n",
       "Fashion & Retail         18\n",
       "Name: count, dtype: int64"
      ]
     },
     "execution_count": 19,
     "metadata": {},
     "output_type": "execute_result"
    }
   ],
   "source": [
    "# normalize를 빼면\n",
    "rich_industry.value_counts( ascending=True)"
   ]
  },
  {
   "cell_type": "markdown",
   "id": "e89f72f5",
   "metadata": {},
   "source": [
    ">**sort : bool, default True**\n",
    "Sort by frequencies when True. Preserve the order of the data when False.\n",
    "    \n",
    ">**ascending : bool, default False**\n",
    "Sort in ascending order.\n",
    "\n",
    "---\n",
    "\n",
    "**sort**\n",
    "- 빈도별로 정렬\n",
    "- False면 정렬이 안됨.\n",
    "\n",
    "**ascending**\n",
    "- True면 오름차순 정렬\n",
    "- False면 내림차순"
   ]
  },
  {
   "cell_type": "code",
   "execution_count": 21,
   "id": "a542fd81",
   "metadata": {},
   "outputs": [
    {
     "data": {
      "text/plain": [
       "Industry\n",
       "Gambling & Casinos       0.009901\n",
       "Service                  0.009901\n",
       "Telecom                  0.019802\n",
       "Logistics                0.019802\n",
       "Energy                   0.019802\n",
       "Real Estate              0.029703\n",
       "Media & Entertainment    0.039604\n",
       "Manufacturing            0.049505\n",
       "Healthcare               0.049505\n",
       "Diversified              0.059406\n",
       "Automotive               0.069307\n",
       "Food & Beverage          0.079208\n",
       "Metals & Mining          0.089109\n",
       "Finance & Investments    0.128713\n",
       "Technology               0.148515\n",
       "Fashion & Retail         0.178218\n",
       "Name: proportion, dtype: float64"
      ]
     },
     "execution_count": 21,
     "metadata": {},
     "output_type": "execute_result"
    }
   ],
   "source": [
    "# 굳이 이렇게 할 필요가 있을까?\n",
    "rich_industry.value_counts(normalize=True).sort_values()"
   ]
  },
  {
   "cell_type": "markdown",
   "id": "594c1ba1",
   "metadata": {},
   "source": [
    "## bins=\n",
    "- 범위설정"
   ]
  },
  {
   "cell_type": "code",
   "execution_count": 26,
   "id": "68e2cf9f",
   "metadata": {},
   "outputs": [
    {
     "data": {
      "text/plain": [
       "0      50\n",
       "1      58\n",
       "2      73\n",
       "3      66\n",
       "4      91\n",
       "       ..\n",
       "96     61\n",
       "97     76\n",
       "98     63\n",
       "99     66\n",
       "100    75\n",
       "Name: Age, Length: 101, dtype: int64"
      ]
     },
     "execution_count": 26,
     "metadata": {},
     "output_type": "execute_result"
    }
   ],
   "source": [
    "# 나이 열만 가져오기 -> 시리즈 화\n",
    "rich_age=pd.read_csv('TopRichestInWorld.csv', usecols=['Age']).squeeze()\n",
    "rich_age\n"
   ]
  },
  {
   "cell_type": "code",
   "execution_count": 29,
   "id": "0c41c9d7",
   "metadata": {},
   "outputs": [
    {
     "data": {
      "text/plain": [
       "(55.6, 68.4]      33\n",
       "(68.4, 81.2]      27\n",
       "(81.2, 94.0]      19\n",
       "(42.8, 55.6]      17\n",
       "(29.935, 42.8]     5\n",
       "Name: count, dtype: int64"
      ]
     },
     "execution_count": 29,
     "metadata": {},
     "output_type": "execute_result"
    }
   ],
   "source": [
    "rich_age.value_counts(bins=5)\n",
    "#5가지 범위로 나눠서 카운트"
   ]
  },
  {
   "cell_type": "code",
   "execution_count": null,
   "id": "100084f4",
   "metadata": {},
   "outputs": [],
   "source": []
  },
  {
   "cell_type": "markdown",
   "id": "24bdbde9",
   "metadata": {},
   "source": [
    "> **bins : int, optional**  \n",
    "Rather than count values, group them into half-open bins, a convenience for pd.cut, only works with numeric data.\n",
    "---\n",
    "**bins**\n",
    "- 개수를 입력하여, 그 만큼 구간을 나누어 카운트 합니다.\n",
    "- bins가 지정안되면, 고유 값의 빈도로 카운드 합니다.\n",
    "- 숫자처럼 연속형 데이터만 가능합니다."
   ]
  },
  {
   "cell_type": "markdown",
   "id": "7e703955",
   "metadata": {},
   "source": [
    "## dropna= - NaN처리"
   ]
  },
  {
   "cell_type": "code",
   "execution_count": 30,
   "id": "2f7b6ae0",
   "metadata": {},
   "outputs": [
    {
     "data": {
      "text/plain": [
       "0    banana\n",
       "1      None\n",
       "2     apple\n",
       "3    banana\n",
       "4     apple\n",
       "dtype: object"
      ]
     },
     "execution_count": 30,
     "metadata": {},
     "output_type": "execute_result"
    }
   ],
   "source": [
    "data = ['banana', None, 'apple', 'banana', 'apple']\n",
    "data_set = pd.Series(data)\n",
    "data_set"
   ]
  },
  {
   "cell_type": "code",
   "execution_count": 31,
   "id": "120366f1",
   "metadata": {},
   "outputs": [
    {
     "data": {
      "text/plain": [
       "banana    2\n",
       "apple     2\n",
       "Name: count, dtype: int64"
      ]
     },
     "execution_count": 31,
     "metadata": {},
     "output_type": "execute_result"
    }
   ],
   "source": [
    "data_set.value_counts()\n",
    "# 기본적으로 none 데이터는 무시하고 카운트!! "
   ]
  },
  {
   "cell_type": "code",
   "execution_count": 32,
   "id": "48d5ede0",
   "metadata": {},
   "outputs": [
    {
     "data": {
      "text/plain": [
       "banana    2\n",
       "apple     2\n",
       "None      1\n",
       "Name: count, dtype: int64"
      ]
     },
     "execution_count": 32,
     "metadata": {},
     "output_type": "execute_result"
    }
   ],
   "source": [
    "# 카운트에 포함할수있게\n",
    "data_set.value_counts(dropna=False)"
   ]
  },
  {
   "cell_type": "markdown",
   "id": "9c33e07f",
   "metadata": {},
   "source": [
    "> **dropna : bool, default True**\n",
    "Don’t include counts of NaN.\n",
    "\n",
    "---\n",
    "**dropna**\n",
    "- 카운트 시에 NaN형 데이터를 처리할지를 결정합니다.\n",
    "- defalut True라서 None이 카운트가 되지 않다가\n",
    "- False시 None도 카운트가 된다."
   ]
  },
  {
   "cell_type": "code",
   "execution_count": 37,
   "id": "f44a904f",
   "metadata": {},
   "outputs": [
    {
     "data": {
      "text/plain": [
       "0    banana\n",
       "1      None\n",
       "2     apple\n",
       "3    banana\n",
       "4     apple\n",
       "5       NaN\n",
       "dtype: object"
      ]
     },
     "execution_count": 37,
     "metadata": {},
     "output_type": "execute_result"
    }
   ],
   "source": [
    "# 여러분이 보게 될 수도 있는 예시\n",
    "import numpy as np\n",
    "data = ['banana', None, 'apple', 'banana', 'apple', np.nan]\n",
    "data_set = pd.Series(data)\n",
    "data_set"
   ]
  },
  {
   "cell_type": "code",
   "execution_count": 38,
   "id": "d320721d",
   "metadata": {},
   "outputs": [
    {
     "data": {
      "text/plain": [
       "banana    2\n",
       "apple     2\n",
       "Name: count, dtype: int64"
      ]
     },
     "execution_count": 38,
     "metadata": {},
     "output_type": "execute_result"
    }
   ],
   "source": [
    "data_set.value_counts()"
   ]
  },
  {
   "cell_type": "code",
   "execution_count": 39,
   "id": "338b1217",
   "metadata": {},
   "outputs": [
    {
     "data": {
      "text/plain": [
       "banana    0.5\n",
       "apple     0.5\n",
       "Name: proportion, dtype: float64"
      ]
     },
     "execution_count": 39,
     "metadata": {},
     "output_type": "execute_result"
    }
   ],
   "source": [
    "data_set.value_counts(normalize=True)"
   ]
  },
  {
   "cell_type": "code",
   "execution_count": 40,
   "id": "6eee9618",
   "metadata": {
    "scrolled": true
   },
   "outputs": [
    {
     "data": {
      "text/plain": [
       "banana    2\n",
       "apple     2\n",
       "None      1\n",
       "NaN       1\n",
       "Name: count, dtype: int64"
      ]
     },
     "execution_count": 40,
     "metadata": {},
     "output_type": "execute_result"
    }
   ],
   "source": [
    "data_set.value_counts(dropna=False)"
   ]
  },
  {
   "cell_type": "code",
   "execution_count": 41,
   "id": "c9f74278",
   "metadata": {},
   "outputs": [
    {
     "data": {
      "text/plain": [
       "banana    0.333333\n",
       "apple     0.333333\n",
       "None      0.166667\n",
       "NaN       0.166667\n",
       "Name: proportion, dtype: float64"
      ]
     },
     "execution_count": 41,
     "metadata": {},
     "output_type": "execute_result"
    }
   ],
   "source": [
    "data_set.value_counts(dropna=False, normalize=True)"
   ]
  },
  {
   "cell_type": "code",
   "execution_count": null,
   "id": "4912f2b1-3353-4d83-bd00-47101fb6aad2",
   "metadata": {},
   "outputs": [],
   "source": []
  }
 ],
 "metadata": {
  "kernelspec": {
   "display_name": "Python 3 (ipykernel)",
   "language": "python",
   "name": "python3"
  },
  "language_info": {
   "codemirror_mode": {
    "name": "ipython",
    "version": 3
   },
   "file_extension": ".py",
   "mimetype": "text/x-python",
   "name": "python",
   "nbconvert_exporter": "python",
   "pygments_lexer": "ipython3",
   "version": "3.11.7"
  }
 },
 "nbformat": 4,
 "nbformat_minor": 5
}
