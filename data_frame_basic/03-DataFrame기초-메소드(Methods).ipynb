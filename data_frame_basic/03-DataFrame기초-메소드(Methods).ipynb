{
 "cells": [
  {
   "cell_type": "markdown",
   "id": "45531bb6",
   "metadata": {},
   "source": [
    "## DataFrame\n",
    "- Series는 1차원 구조\n",
    "- DataFrame은 2차원 구조\n",
    "  - axis = 0 : index 방향\n",
    "  - axis = 1 : columns 방향\n",
    "  - 2개 이상의 Series로 구성\n",
    "- https://pandas.pydata.org/docs/reference/api/pandas.DataFrame.html"
   ]
  },
  {
   "cell_type": "markdown",
   "id": "734f5aaf",
   "metadata": {},
   "source": [
    "## DataFrame 생성"
   ]
  },
  {
   "cell_type": "code",
   "execution_count": 7,
   "id": "5f746a1a",
   "metadata": {},
   "outputs": [],
   "source": [
    "import pandas as pd"
   ]
  },
  {
   "cell_type": "code",
   "execution_count": 10,
   "id": "4095e9aa",
   "metadata": {},
   "outputs": [
    {
     "data": {
      "text/html": [
       "<div>\n",
       "<style scoped>\n",
       "    .dataframe tbody tr th:only-of-type {\n",
       "        vertical-align: middle;\n",
       "    }\n",
       "\n",
       "    .dataframe tbody tr th {\n",
       "        vertical-align: top;\n",
       "    }\n",
       "\n",
       "    .dataframe thead th {\n",
       "        text-align: right;\n",
       "    }\n",
       "</style>\n",
       "<table border=\"1\" class=\"dataframe\">\n",
       "  <thead>\n",
       "    <tr style=\"text-align: right;\">\n",
       "      <th></th>\n",
       "      <th>Attack</th>\n",
       "      <th>Defence</th>\n",
       "      <th>Luck</th>\n",
       "    </tr>\n",
       "  </thead>\n",
       "  <tbody>\n",
       "    <tr>\n",
       "      <th>0</th>\n",
       "      <td>111</td>\n",
       "      <td>444</td>\n",
       "      <td>777</td>\n",
       "    </tr>\n",
       "    <tr>\n",
       "      <th>1</th>\n",
       "      <td>222</td>\n",
       "      <td>555</td>\n",
       "      <td>888</td>\n",
       "    </tr>\n",
       "    <tr>\n",
       "      <th>2</th>\n",
       "      <td>333</td>\n",
       "      <td>666</td>\n",
       "      <td>999</td>\n",
       "    </tr>\n",
       "  </tbody>\n",
       "</table>\n",
       "</div>"
      ],
      "text/plain": [
       "   Attack  Defence  Luck\n",
       "0     111      444   777\n",
       "1     222      555   888\n",
       "2     333      666   999"
      ]
     },
     "execution_count": 10,
     "metadata": {},
     "output_type": "execute_result"
    }
   ],
   "source": [
    "member = {\n",
    "    'Attack' : [111, 222, 333],\n",
    "    'Defence' : [444, 555, 666],\n",
    "    'Luck' : [777, 888, 999]\n",
    "}\n",
    "df=pd.DataFrame(member)\n",
    "df"
   ]
  },
  {
   "cell_type": "markdown",
   "id": "96999b05",
   "metadata": {},
   "source": [
    "## .sum() 시리즈나옴"
   ]
  },
  {
   "cell_type": "code",
   "execution_count": 11,
   "id": "3ac9295e",
   "metadata": {},
   "outputs": [
    {
     "data": {
      "text/plain": [
       "Attack      666\n",
       "Defence    1665\n",
       "Luck       2664\n",
       "dtype: int64"
      ]
     },
     "execution_count": 11,
     "metadata": {},
     "output_type": "execute_result"
    }
   ],
   "source": [
    "df.sum()"
   ]
  },
  {
   "cell_type": "markdown",
   "id": "f62e25bb",
   "metadata": {},
   "source": [
    ".sum()은 각 열 => 각 Series를 .sum() 한 결과로 또 다른 Series를 만든다.\n",
    "- Series는 .sum()하면 단일 값\n",
    "- DataFrame을 .sum()하면 Series"
   ]
  },
  {
   "cell_type": "code",
   "execution_count": 13,
   "id": "2966cfdb",
   "metadata": {},
   "outputs": [
    {
     "data": {
      "text/plain": [
       "666"
      ]
     },
     "execution_count": 13,
     "metadata": {},
     "output_type": "execute_result"
    }
   ],
   "source": [
    "pd.Series([111,222,333]).sum()"
   ]
  },
  {
   "cell_type": "markdown",
   "id": "c3570287",
   "metadata": {},
   "source": [
    "type(member_df.sum())"
   ]
  },
  {
   "cell_type": "code",
   "execution_count": 16,
   "id": "fe881640",
   "metadata": {},
   "outputs": [
    {
     "data": {
      "text/plain": [
       "4995"
      ]
     },
     "execution_count": 16,
     "metadata": {},
     "output_type": "execute_result"
    }
   ],
   "source": [
    "# DataFrame -> Series -> 단일 값도 되지 않을까? 시리즈들의 sum\n",
    "df.sum().sum()"
   ]
  },
  {
   "cell_type": "markdown",
   "id": "5573589e",
   "metadata": {},
   "source": [
    "## .sum()과 axis\n",
    "- DataFrame은 2차원 구조\n",
    "  - axis = 0 : index 방향\n",
    "  - axis = 1 : columns 방향"
   ]
  },
  {
   "cell_type": "code",
   "execution_count": 17,
   "id": "926ab21f",
   "metadata": {},
   "outputs": [
    {
     "data": {
      "text/plain": [
       "Attack      666\n",
       "Defence    1665\n",
       "Luck       2664\n",
       "dtype: int64"
      ]
     },
     "execution_count": 17,
     "metadata": {},
     "output_type": "execute_result"
    }
   ],
   "source": [
    "# axis = 0, axis = 'index'\n",
    "df.sum(axis=0)"
   ]
  },
  {
   "cell_type": "code",
   "execution_count": 21,
   "id": "1261fc77",
   "metadata": {},
   "outputs": [
    {
     "data": {
      "text/plain": [
       "Attack      666\n",
       "Defence    1665\n",
       "Luck       2664\n",
       "dtype: int64"
      ]
     },
     "execution_count": 21,
     "metadata": {},
     "output_type": "execute_result"
    }
   ],
   "source": [
    "df.sum(axis='index')"
   ]
  },
  {
   "cell_type": "code",
   "execution_count": 19,
   "id": "902639a7",
   "metadata": {},
   "outputs": [
    {
     "data": {
      "text/plain": [
       "0    1332\n",
       "1    1665\n",
       "2    1998\n",
       "dtype: int64"
      ]
     },
     "execution_count": 19,
     "metadata": {},
     "output_type": "execute_result"
    }
   ],
   "source": [
    "# axis = 1, axis = 'columns'\n",
    "df.sum(axis=1)"
   ]
  },
  {
   "cell_type": "code",
   "execution_count": 23,
   "id": "32f2d6aa",
   "metadata": {},
   "outputs": [
    {
     "data": {
      "text/plain": [
       "0    1332\n",
       "1    1665\n",
       "2    1998\n",
       "dtype: int64"
      ]
     },
     "execution_count": 23,
     "metadata": {},
     "output_type": "execute_result"
    }
   ],
   "source": [
    "df.sum(axis='columns')"
   ]
  },
  {
   "cell_type": "code",
   "execution_count": 24,
   "id": "a965a4c0",
   "metadata": {},
   "outputs": [
    {
     "data": {
      "text/html": [
       "<div>\n",
       "<style scoped>\n",
       "    .dataframe tbody tr th:only-of-type {\n",
       "        vertical-align: middle;\n",
       "    }\n",
       "\n",
       "    .dataframe tbody tr th {\n",
       "        vertical-align: top;\n",
       "    }\n",
       "\n",
       "    .dataframe thead th {\n",
       "        text-align: right;\n",
       "    }\n",
       "</style>\n",
       "<table border=\"1\" class=\"dataframe\">\n",
       "  <thead>\n",
       "    <tr style=\"text-align: right;\">\n",
       "      <th></th>\n",
       "      <th>Attack</th>\n",
       "      <th>Defence</th>\n",
       "      <th>Luck</th>\n",
       "    </tr>\n",
       "  </thead>\n",
       "  <tbody>\n",
       "    <tr>\n",
       "      <th>0</th>\n",
       "      <td>111</td>\n",
       "      <td>444</td>\n",
       "      <td>777</td>\n",
       "    </tr>\n",
       "    <tr>\n",
       "      <th>1</th>\n",
       "      <td>222</td>\n",
       "      <td>555</td>\n",
       "      <td>888</td>\n",
       "    </tr>\n",
       "    <tr>\n",
       "      <th>2</th>\n",
       "      <td>333</td>\n",
       "      <td>666</td>\n",
       "      <td>999</td>\n",
       "    </tr>\n",
       "  </tbody>\n",
       "</table>\n",
       "</div>"
      ],
      "text/plain": [
       "   Attack  Defence  Luck\n",
       "0     111      444   777\n",
       "1     222      555   888\n",
       "2     333      666   999"
      ]
     },
     "execution_count": 24,
     "metadata": {},
     "output_type": "execute_result"
    }
   ],
   "source": [
    "# 어떻게 합쳐진 거지? 확인 해보자\n",
    "df"
   ]
  },
  {
   "cell_type": "markdown",
   "id": "f1f6493d",
   "metadata": {},
   "source": [
    "## 집계함수 + axis\n",
    "- 공간 절약되서 axis='index', axis=0를 쓰며\n",
    "- sum()말고도 max(), min(), mean() 등의 집계함수와 axis를 사용해보면"
   ]
  },
  {
   "cell_type": "code",
   "execution_count": 25,
   "id": "760829fe",
   "metadata": {},
   "outputs": [
    {
     "data": {
      "text/plain": [
       "Attack     333\n",
       "Defence    666\n",
       "Luck       999\n",
       "dtype: int64"
      ]
     },
     "execution_count": 25,
     "metadata": {},
     "output_type": "execute_result"
    }
   ],
   "source": [
    "# max, axis = 0\n",
    "df.max(axis=0)"
   ]
  },
  {
   "cell_type": "code",
   "execution_count": 26,
   "id": "c94967ab",
   "metadata": {},
   "outputs": [
    {
     "data": {
      "text/plain": [
       "0    111\n",
       "1    222\n",
       "2    333\n",
       "dtype: int64"
      ]
     },
     "execution_count": 26,
     "metadata": {},
     "output_type": "execute_result"
    }
   ],
   "source": [
    "# min, axis = 'columns'\n",
    "df.min(axis='columns')"
   ]
  },
  {
   "cell_type": "code",
   "execution_count": 27,
   "id": "ab49f7ba",
   "metadata": {},
   "outputs": [
    {
     "data": {
      "text/plain": [
       "Attack     222.0\n",
       "Defence    555.0\n",
       "Luck       888.0\n",
       "dtype: float64"
      ]
     },
     "execution_count": 27,
     "metadata": {},
     "output_type": "execute_result"
    }
   ],
   "source": [
    "# mean, axis = 'index'\n",
    "df.mean(axis='index')"
   ]
  },
  {
   "cell_type": "code",
   "execution_count": 28,
   "id": "fe1a6bd3",
   "metadata": {},
   "outputs": [
    {
     "data": {
      "text/plain": [
       "0    444.0\n",
       "1    555.0\n",
       "2    666.0\n",
       "dtype: float64"
      ]
     },
     "execution_count": 28,
     "metadata": {},
     "output_type": "execute_result"
    }
   ],
   "source": [
    "# median, axis = 1\n",
    "df.median(axis=1)"
   ]
  },
  {
   "cell_type": "code",
   "execution_count": 29,
   "id": "a27776c6",
   "metadata": {},
   "outputs": [
    {
     "data": {
      "text/plain": [
       "0     38293668\n",
       "1    109410480\n",
       "2    221556222\n",
       "dtype: int64"
      ]
     },
     "execution_count": 29,
     "metadata": {},
     "output_type": "execute_result"
    }
   ],
   "source": [
    "# prod, axis = 1, prod는 곱셈 연산\n",
    "df.prod(axis=1)"
   ]
  },
  {
   "cell_type": "markdown",
   "id": "979cdcde",
   "metadata": {},
   "source": [
    "**[미리보기] 집계함수 목록**\n",
    "메소드 | 설명\n",
    "- | -\n",
    "min | 최소값\n",
    "max | 최대값\n",
    "sum | 합계\n",
    "mean | 평균\n",
    "median | 중앙값\n",
    "count | 비결측치의 개수\n",
    "value_counts | 각 값의 빈도\n",
    "describe | 요약 통계량\n",
    "mode | 최빈값\n",
    "std | 표준편차\n",
    "var | 분산\n",
    "prod | 모든 요소의 곱\n",
    "quantile | 분위수\n",
    "cumsum | 누적 합\n",
    "cumprod | 누적 곱\n",
    "cummax | 누적 최대값\n",
    "cummin | 누적 최소값"
   ]
  }
 ],
 "metadata": {
  "kernelspec": {
   "display_name": "Python 3 (ipykernel)",
   "language": "python",
   "name": "python3"
  },
  "language_info": {
   "codemirror_mode": {
    "name": "ipython",
    "version": 3
   },
   "file_extension": ".py",
   "mimetype": "text/x-python",
   "name": "python",
   "nbconvert_exporter": "python",
   "pygments_lexer": "ipython3",
   "version": "3.11.7"
  }
 },
 "nbformat": 4,
 "nbformat_minor": 5
}
