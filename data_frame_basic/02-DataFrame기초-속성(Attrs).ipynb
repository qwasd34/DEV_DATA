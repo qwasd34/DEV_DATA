{
 "cells": [
  {
   "cell_type": "markdown",
   "id": "45531bb6",
   "metadata": {},
   "source": [
    "## DataFrame\n",
    "- Series는 1차원 구조\n",
    "- DataFrame은 2차원 구조\n",
    "  - axis = 0 : index 방향\n",
    "  - axis = 1 : columns 방향\n",
    "  - 2개 이상의 Series로 구성\n",
    "- https://pandas.pydata.org/docs/reference/api/pandas.DataFrame.html"
   ]
  },
  {
   "cell_type": "markdown",
   "id": "734f5aaf",
   "metadata": {},
   "source": [
    "## DataFrame 생성"
   ]
  },
  {
   "cell_type": "code",
   "execution_count": 2,
   "id": "5f746a1a",
   "metadata": {},
   "outputs": [],
   "source": [
    "import pandas as pd"
   ]
  },
  {
   "cell_type": "code",
   "execution_count": 4,
   "id": "4095e9aa",
   "metadata": {
    "scrolled": true
   },
   "outputs": [
    {
     "data": {
      "text/html": [
       "<div>\n",
       "<style scoped>\n",
       "    .dataframe tbody tr th:only-of-type {\n",
       "        vertical-align: middle;\n",
       "    }\n",
       "\n",
       "    .dataframe tbody tr th {\n",
       "        vertical-align: top;\n",
       "    }\n",
       "\n",
       "    .dataframe thead th {\n",
       "        text-align: right;\n",
       "    }\n",
       "</style>\n",
       "<table border=\"1\" class=\"dataframe\">\n",
       "  <thead>\n",
       "    <tr style=\"text-align: right;\">\n",
       "      <th></th>\n",
       "      <th>Attack</th>\n",
       "      <th>Defence</th>\n",
       "      <th>Luck</th>\n",
       "    </tr>\n",
       "  </thead>\n",
       "  <tbody>\n",
       "    <tr>\n",
       "      <th>0</th>\n",
       "      <td>111</td>\n",
       "      <td>444</td>\n",
       "      <td>777</td>\n",
       "    </tr>\n",
       "    <tr>\n",
       "      <th>1</th>\n",
       "      <td>222</td>\n",
       "      <td>555</td>\n",
       "      <td>888</td>\n",
       "    </tr>\n",
       "    <tr>\n",
       "      <th>2</th>\n",
       "      <td>333</td>\n",
       "      <td>666</td>\n",
       "      <td>999</td>\n",
       "    </tr>\n",
       "  </tbody>\n",
       "</table>\n",
       "</div>"
      ],
      "text/plain": [
       "   Attack  Defence  Luck\n",
       "0     111      444   777\n",
       "1     222      555   888\n",
       "2     333      666   999"
      ]
     },
     "execution_count": 4,
     "metadata": {},
     "output_type": "execute_result"
    }
   ],
   "source": [
    "member = {\n",
    "    'Attack' : [111, 222, 333],\n",
    "    'Defence' : [444, 555, 666],\n",
    "    'Luck' : [777, 888, 999]\n",
    "}\n",
    "df=pd.DataFrame(member)\n",
    "df"
   ]
  },
  {
   "cell_type": "markdown",
   "id": "292f7b6d",
   "metadata": {},
   "source": [
    "## DataFrame의 속성(Attr, attr, attributes)\n",
    "- dot(.)을 통해 접근하며 활용할 수 있는 속성을 확인해보자"
   ]
  },
  {
   "cell_type": "markdown",
   "id": "f1a9a9b0",
   "metadata": {},
   "source": [
    "## .shape"
   ]
  },
  {
   "cell_type": "code",
   "execution_count": 5,
   "id": "a4747b4f",
   "metadata": {},
   "outputs": [
    {
     "data": {
      "text/plain": [
       "(3, 3)"
      ]
     },
     "execution_count": 5,
     "metadata": {},
     "output_type": "execute_result"
    }
   ],
   "source": [
    "df.shape"
   ]
  },
  {
   "cell_type": "markdown",
   "id": "4a305ba5",
   "metadata": {},
   "source": [
    ".shape는 행렬 크기(모양)을 알 수 있다."
   ]
  },
  {
   "cell_type": "markdown",
   "id": "77b940cc",
   "metadata": {},
   "source": [
    "## .info?"
   ]
  },
  {
   "cell_type": "code",
   "execution_count": 8,
   "id": "f3a5aa40",
   "metadata": {
    "scrolled": true
   },
   "outputs": [
    {
     "data": {
      "text/plain": [
       "<bound method DataFrame.info of    Attack  Defence  Luck\n",
       "0     111      444   777\n",
       "1     222      555   888\n",
       "2     333      666   999>"
      ]
     },
     "execution_count": 8,
     "metadata": {},
     "output_type": "execute_result"
    }
   ],
   "source": [
    "df.info"
   ]
  },
  {
   "cell_type": "markdown",
   "id": "0e0dbe59",
   "metadata": {},
   "source": [
    "`bound method` 처럼 method라고 안내해주고 있다.\n",
    "이는 메소드라 .info()로 사용한다."
   ]
  },
  {
   "cell_type": "code",
   "execution_count": 9,
   "id": "384a1121",
   "metadata": {},
   "outputs": [
    {
     "name": "stdout",
     "output_type": "stream",
     "text": [
      "<class 'pandas.core.frame.DataFrame'>\n",
      "RangeIndex: 3 entries, 0 to 2\n",
      "Data columns (total 3 columns):\n",
      " #   Column   Non-Null Count  Dtype\n",
      "---  ------   --------------  -----\n",
      " 0   Attack   3 non-null      int64\n",
      " 1   Defence  3 non-null      int64\n",
      " 2   Luck     3 non-null      int64\n",
      "dtypes: int64(3)\n",
      "memory usage: 204.0 bytes\n"
     ]
    }
   ],
   "source": [
    "df.info()"
   ]
  },
  {
   "cell_type": "markdown",
   "id": "3225f517",
   "metadata": {},
   "source": [
    "## .size 3x3"
   ]
  },
  {
   "cell_type": "code",
   "execution_count": 7,
   "id": "6803a7ed",
   "metadata": {},
   "outputs": [
    {
     "data": {
      "text/plain": [
       "9"
      ]
     },
     "execution_count": 7,
     "metadata": {},
     "output_type": "execute_result"
    }
   ],
   "source": [
    "df.size"
   ]
  },
  {
   "cell_type": "markdown",
   "id": "2d9eea1e",
   "metadata": {},
   "source": [
    ".shape는 구조, .size는 크기"
   ]
  },
  {
   "cell_type": "markdown",
   "id": "71c002ee",
   "metadata": {},
   "source": [
    "## .values"
   ]
  },
  {
   "cell_type": "code",
   "execution_count": 10,
   "id": "d0a7fe18",
   "metadata": {},
   "outputs": [
    {
     "data": {
      "text/plain": [
       "array([[111, 444, 777],\n",
       "       [222, 555, 888],\n",
       "       [333, 666, 999]], dtype=int64)"
      ]
     },
     "execution_count": 10,
     "metadata": {},
     "output_type": "execute_result"
    }
   ],
   "source": [
    "df.values"
   ]
  },
  {
   "cell_type": "markdown",
   "id": "b5ac52af",
   "metadata": {},
   "source": [
    "## .dtypes"
   ]
  },
  {
   "cell_type": "code",
   "execution_count": 11,
   "id": "b48a25ea",
   "metadata": {},
   "outputs": [
    {
     "data": {
      "text/plain": [
       "Attack     int64\n",
       "Defence    int64\n",
       "Luck       int64\n",
       "dtype: object"
      ]
     },
     "execution_count": 11,
     "metadata": {},
     "output_type": "execute_result"
    }
   ],
   "source": [
    "df.dtypes"
   ]
  },
  {
   "cell_type": "markdown",
   "id": "73a38ca0",
   "metadata": {},
   "source": [
    "## .index"
   ]
  },
  {
   "cell_type": "code",
   "execution_count": 12,
   "id": "53fbe38a",
   "metadata": {},
   "outputs": [
    {
     "data": {
      "text/plain": [
       "RangeIndex(start=0, stop=3, step=1)"
      ]
     },
     "execution_count": 12,
     "metadata": {},
     "output_type": "execute_result"
    }
   ],
   "source": [
    "df.index"
   ]
  },
  {
   "cell_type": "markdown",
   "id": "81d4107a",
   "metadata": {},
   "source": [
    "## .columns"
   ]
  },
  {
   "cell_type": "code",
   "execution_count": 13,
   "id": "335eac1d",
   "metadata": {},
   "outputs": [
    {
     "data": {
      "text/plain": [
       "Index(['Attack', 'Defence', 'Luck'], dtype='object')"
      ]
     },
     "execution_count": 13,
     "metadata": {},
     "output_type": "execute_result"
    }
   ],
   "source": [
    "df.columns"
   ]
  },
  {
   "cell_type": "markdown",
   "id": "6eef3119",
   "metadata": {},
   "source": [
    "## .axes\n",
    "df 의축이 어떻게되어있는지"
   ]
  },
  {
   "cell_type": "code",
   "execution_count": 14,
   "id": "b02a371d",
   "metadata": {},
   "outputs": [
    {
     "data": {
      "text/plain": [
       "[RangeIndex(start=0, stop=3, step=1),\n",
       " Index(['Attack', 'Defence', 'Luck'], dtype='object')]"
      ]
     },
     "execution_count": 14,
     "metadata": {},
     "output_type": "execute_result"
    }
   ],
   "source": [
    "df.axes"
   ]
  },
  {
   "cell_type": "markdown",
   "id": "abc0a916",
   "metadata": {},
   "source": [
    "맨 처음에 적혀있던 DataFrame 설명을 보자.\n",
    "- DataFrame은 2차원 구조\n",
    "  - axis = 0 : index 방향\n",
    "  - axis = 1 : columns 방향\n",
    "  - 2개 이상의 Series로 구성\n",
    "  \n",
    "즉 .axes는 인덱스 정보와 열 정보를 알 수 있다."
   ]
  }
 ],
 "metadata": {
  "kernelspec": {
   "display_name": "Python 3 (ipykernel)",
   "language": "python",
   "name": "python3"
  },
  "language_info": {
   "codemirror_mode": {
    "name": "ipython",
    "version": 3
   },
   "file_extension": ".py",
   "mimetype": "text/x-python",
   "name": "python",
   "nbconvert_exporter": "python",
   "pygments_lexer": "ipython3",
   "version": "3.11.7"
  }
 },
 "nbformat": 4,
 "nbformat_minor": 5
}
