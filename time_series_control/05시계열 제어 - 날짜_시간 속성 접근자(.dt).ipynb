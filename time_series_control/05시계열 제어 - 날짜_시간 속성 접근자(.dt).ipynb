{
 "cells": [
  {
   "cell_type": "markdown",
   "id": "8c73dbf4",
   "metadata": {},
   "source": [
    "## 날짜/시간 속성 접근자 .dt\n",
    "- https://pandas.pydata.org/pandas-docs/version/1.5/reference/api/pandas.Series.dt.html\n",
    "- **시리즈**에서 날짜와 시간과 관련된 속성에 접근할 때 사용되는 기능\n",
    "- `.str`처럼 `.dt.메소드`, `.dt.속성` 으로 사용\n",
    "    - 속성(properties) : https://pandas.pydata.org/docs/reference/series.html#datetime-properties\n",
    "    - 메소드(methods) : https://pandas.pydata.org/docs/reference/series.html#datetime-methods"
   ]
  },
  {
   "cell_type": "code",
   "execution_count": 41,
   "id": "7f7de7b8",
   "metadata": {},
   "outputs": [],
   "source": [
    "import pandas as pd"
   ]
  },
  {
   "cell_type": "code",
   "execution_count": 53,
   "id": "a474d78e",
   "metadata": {},
   "outputs": [
    {
     "data": {
      "text/plain": [
       "DatetimeIndex(['2024-01-01', '2024-01-08', '2024-01-15', '2024-01-22',\n",
       "               '2024-01-29'],\n",
       "              dtype='datetime64[ns]', freq='W-MON')"
      ]
     },
     "execution_count": 53,
     "metadata": {},
     "output_type": "execute_result"
    }
   ],
   "source": [
    "dec=pd.date_range('2024-01-01', '2024-01-30', freq='W-MON')\n",
    "dec"
   ]
  },
  {
   "cell_type": "code",
   "execution_count": 55,
   "id": "bf1ebce3",
   "metadata": {
    "scrolled": true
   },
   "outputs": [
    {
     "data": {
      "text/plain": [
       "0   2024-01-01\n",
       "1   2024-01-08\n",
       "2   2024-01-15\n",
       "3   2024-01-22\n",
       "4   2024-01-29\n",
       "dtype: datetime64[ns]"
      ]
     },
     "execution_count": 55,
     "metadata": {},
     "output_type": "execute_result"
    }
   ],
   "source": [
    "# Series 화\n",
    "pd.Series(dec)"
   ]
  },
  {
   "cell_type": "code",
   "execution_count": 71,
   "id": "db9bdaee",
   "metadata": {},
   "outputs": [
    {
     "data": {
      "text/html": [
       "<div>\n",
       "<style scoped>\n",
       "    .dataframe tbody tr th:only-of-type {\n",
       "        vertical-align: middle;\n",
       "    }\n",
       "\n",
       "    .dataframe tbody tr th {\n",
       "        vertical-align: top;\n",
       "    }\n",
       "\n",
       "    .dataframe thead th {\n",
       "        text-align: right;\n",
       "    }\n",
       "</style>\n",
       "<table border=\"1\" class=\"dataframe\">\n",
       "  <thead>\n",
       "    <tr style=\"text-align: right;\">\n",
       "      <th></th>\n",
       "      <th>WEEK</th>\n",
       "    </tr>\n",
       "  </thead>\n",
       "  <tbody>\n",
       "    <tr>\n",
       "      <th>0</th>\n",
       "      <td>2024-01-01</td>\n",
       "    </tr>\n",
       "    <tr>\n",
       "      <th>1</th>\n",
       "      <td>2024-01-08</td>\n",
       "    </tr>\n",
       "    <tr>\n",
       "      <th>2</th>\n",
       "      <td>2024-01-15</td>\n",
       "    </tr>\n",
       "    <tr>\n",
       "      <th>3</th>\n",
       "      <td>2024-01-22</td>\n",
       "    </tr>\n",
       "    <tr>\n",
       "      <th>4</th>\n",
       "      <td>2024-01-29</td>\n",
       "    </tr>\n",
       "  </tbody>\n",
       "</table>\n",
       "</div>"
      ],
      "text/plain": [
       "        WEEK\n",
       "0 2024-01-01\n",
       "1 2024-01-08\n",
       "2 2024-01-15\n",
       "3 2024-01-22\n",
       "4 2024-01-29"
      ]
     },
     "execution_count": 71,
     "metadata": {},
     "output_type": "execute_result"
    }
   ],
   "source": [
    "# DataFrame화\n",
    "dfweek=pd.DataFrame(dec, columns=['WEEK'] )\n",
    "dfweek"
   ]
  },
  {
   "cell_type": "code",
   "execution_count": 61,
   "id": "2002358e",
   "metadata": {},
   "outputs": [
    {
     "data": {
      "text/html": [
       "<div>\n",
       "<style scoped>\n",
       "    .dataframe tbody tr th:only-of-type {\n",
       "        vertical-align: middle;\n",
       "    }\n",
       "\n",
       "    .dataframe tbody tr th {\n",
       "        vertical-align: top;\n",
       "    }\n",
       "\n",
       "    .dataframe thead th {\n",
       "        text-align: right;\n",
       "    }\n",
       "</style>\n",
       "<table border=\"1\" class=\"dataframe\">\n",
       "  <thead>\n",
       "    <tr style=\"text-align: right;\">\n",
       "      <th></th>\n",
       "      <th>WEEK</th>\n",
       "    </tr>\n",
       "  </thead>\n",
       "  <tbody>\n",
       "    <tr>\n",
       "      <th>2024-01-01</th>\n",
       "      <td>2024-01-01</td>\n",
       "    </tr>\n",
       "    <tr>\n",
       "      <th>2024-01-08</th>\n",
       "      <td>2024-01-08</td>\n",
       "    </tr>\n",
       "    <tr>\n",
       "      <th>2024-01-15</th>\n",
       "      <td>2024-01-15</td>\n",
       "    </tr>\n",
       "    <tr>\n",
       "      <th>2024-01-22</th>\n",
       "      <td>2024-01-22</td>\n",
       "    </tr>\n",
       "    <tr>\n",
       "      <th>2024-01-29</th>\n",
       "      <td>2024-01-29</td>\n",
       "    </tr>\n",
       "  </tbody>\n",
       "</table>\n",
       "</div>"
      ],
      "text/plain": [
       "                 WEEK\n",
       "2024-01-01 2024-01-01\n",
       "2024-01-08 2024-01-08\n",
       "2024-01-15 2024-01-15\n",
       "2024-01-22 2024-01-22\n",
       "2024-01-29 2024-01-29"
      ]
     },
     "execution_count": 61,
     "metadata": {},
     "output_type": "execute_result"
    }
   ],
   "source": [
    "# 체인형으로 프로그래밍 하고 싶다면 .to_frame()\n",
    "dec.to_frame(name='WEEK')"
   ]
  },
  {
   "cell_type": "code",
   "execution_count": 63,
   "id": "77a7342c-f748-474e-b284-1f0bf3164520",
   "metadata": {},
   "outputs": [
    {
     "data": {
      "text/html": [
       "<div>\n",
       "<style scoped>\n",
       "    .dataframe tbody tr th:only-of-type {\n",
       "        vertical-align: middle;\n",
       "    }\n",
       "\n",
       "    .dataframe tbody tr th {\n",
       "        vertical-align: top;\n",
       "    }\n",
       "\n",
       "    .dataframe thead th {\n",
       "        text-align: right;\n",
       "    }\n",
       "</style>\n",
       "<table border=\"1\" class=\"dataframe\">\n",
       "  <thead>\n",
       "    <tr style=\"text-align: right;\">\n",
       "      <th></th>\n",
       "      <th>WEEK</th>\n",
       "    </tr>\n",
       "  </thead>\n",
       "  <tbody>\n",
       "    <tr>\n",
       "      <th>0</th>\n",
       "      <td>2024-01-01</td>\n",
       "    </tr>\n",
       "    <tr>\n",
       "      <th>1</th>\n",
       "      <td>2024-01-08</td>\n",
       "    </tr>\n",
       "    <tr>\n",
       "      <th>2</th>\n",
       "      <td>2024-01-15</td>\n",
       "    </tr>\n",
       "    <tr>\n",
       "      <th>3</th>\n",
       "      <td>2024-01-22</td>\n",
       "    </tr>\n",
       "    <tr>\n",
       "      <th>4</th>\n",
       "      <td>2024-01-29</td>\n",
       "    </tr>\n",
       "  </tbody>\n",
       "</table>\n",
       "</div>"
      ],
      "text/plain": [
       "        WEEK\n",
       "0 2024-01-01\n",
       "1 2024-01-08\n",
       "2 2024-01-15\n",
       "3 2024-01-22\n",
       "4 2024-01-29"
      ]
     },
     "execution_count": 63,
     "metadata": {},
     "output_type": "execute_result"
    }
   ],
   "source": [
    "pd.Series(dec).to_frame(name='WEEK')"
   ]
  },
  {
   "cell_type": "code",
   "execution_count": 65,
   "id": "0aae7fda",
   "metadata": {},
   "outputs": [
    {
     "data": {
      "text/html": [
       "<div>\n",
       "<style scoped>\n",
       "    .dataframe tbody tr th:only-of-type {\n",
       "        vertical-align: middle;\n",
       "    }\n",
       "\n",
       "    .dataframe tbody tr th {\n",
       "        vertical-align: top;\n",
       "    }\n",
       "\n",
       "    .dataframe thead th {\n",
       "        text-align: right;\n",
       "    }\n",
       "</style>\n",
       "<table border=\"1\" class=\"dataframe\">\n",
       "  <thead>\n",
       "    <tr style=\"text-align: right;\">\n",
       "      <th></th>\n",
       "      <th>WEEK</th>\n",
       "    </tr>\n",
       "  </thead>\n",
       "  <tbody>\n",
       "    <tr>\n",
       "      <th>0</th>\n",
       "      <td>2024-01-01</td>\n",
       "    </tr>\n",
       "    <tr>\n",
       "      <th>1</th>\n",
       "      <td>2024-01-08</td>\n",
       "    </tr>\n",
       "    <tr>\n",
       "      <th>2</th>\n",
       "      <td>2024-01-15</td>\n",
       "    </tr>\n",
       "    <tr>\n",
       "      <th>3</th>\n",
       "      <td>2024-01-22</td>\n",
       "    </tr>\n",
       "    <tr>\n",
       "      <th>4</th>\n",
       "      <td>2024-01-29</td>\n",
       "    </tr>\n",
       "  </tbody>\n",
       "</table>\n",
       "</div>"
      ],
      "text/plain": [
       "        WEEK\n",
       "0 2024-01-01\n",
       "1 2024-01-08\n",
       "2 2024-01-15\n",
       "3 2024-01-22\n",
       "4 2024-01-29"
      ]
     },
     "execution_count": 65,
     "metadata": {},
     "output_type": "execute_result"
    }
   ],
   "source": [
    "# Series화 > .toFrame을 통한 DataFrame\n",
    "pd.Series(dec).to_frame(name='WEEK')"
   ]
  },
  {
   "cell_type": "markdown",
   "id": "b0607fbf",
   "metadata": {},
   "source": [
    "- 시리즈화를 직접하진 않고, DataFrame에서 조회하면 시리즈일 것\n",
    "- 때문에 `pd.Series(dec).to_frame({name})` 형태를 기억하기"
   ]
  },
  {
   "cell_type": "code",
   "execution_count": null,
   "id": "53e339d7",
   "metadata": {
    "scrolled": true
   },
   "outputs": [],
   "source": []
  },
  {
   "cell_type": "markdown",
   "id": "bca6b4c5",
   "metadata": {},
   "source": [
    "## `.dt`로 속성 접근"
   ]
  },
  {
   "cell_type": "markdown",
   "id": "3fa53293",
   "metadata": {},
   "source": [
    "- 속성(properties) : https://pandas.pydata.org/docs/reference/series.html#datetime-properties\n",
    "- 메소드(methods) : https://pandas.pydata.org/docs/reference/series.html#datetime-methods"
   ]
  },
  {
   "cell_type": "code",
   "execution_count": 75,
   "id": "2fe842a7",
   "metadata": {},
   "outputs": [
    {
     "data": {
      "text/plain": [
       "<pandas.core.indexes.accessors.DatetimeProperties object at 0x000002543DD64D10>"
      ]
     },
     "execution_count": 75,
     "metadata": {},
     "output_type": "execute_result"
    }
   ],
   "source": [
    "# .dt를 통해 속성(Properties) 접근 객체 생성\n",
    "dfweek['WEEK'].dt"
   ]
  },
  {
   "cell_type": "code",
   "execution_count": 77,
   "id": "58deca55",
   "metadata": {
    "scrolled": true
   },
   "outputs": [
    {
     "ename": "AttributeError",
     "evalue": "'Series' object has no attribute 'day'",
     "output_type": "error",
     "traceback": [
      "\u001b[1;31m---------------------------------------------------------------------------\u001b[0m",
      "\u001b[1;31mAttributeError\u001b[0m                            Traceback (most recent call last)",
      "\u001b[1;32m~\\AppData\\Local\\Temp\\ipykernel_17960\\3407362100.py\u001b[0m in \u001b[0;36m?\u001b[1;34m()\u001b[0m\n\u001b[0;32m      1\u001b[0m \u001b[1;31m# Python Datetime하듯 .day로 바로 접근하면 에러\u001b[0m\u001b[1;33m\u001b[0m\u001b[1;33m\u001b[0m\u001b[0m\n\u001b[1;32m----> 2\u001b[1;33m \u001b[0mdfweek\u001b[0m\u001b[1;33m[\u001b[0m\u001b[1;34m'WEEK'\u001b[0m\u001b[1;33m]\u001b[0m\u001b[1;33m.\u001b[0m\u001b[0mday\u001b[0m\u001b[1;33m\u001b[0m\u001b[1;33m\u001b[0m\u001b[0m\n\u001b[0m",
      "\u001b[1;32mC:\\ProgramData\\anaconda3\\Lib\\site-packages\\pandas\\core\\generic.py\u001b[0m in \u001b[0;36m?\u001b[1;34m(self, name)\u001b[0m\n\u001b[0;32m   6200\u001b[0m             \u001b[1;32mand\u001b[0m \u001b[0mname\u001b[0m \u001b[1;32mnot\u001b[0m \u001b[1;32min\u001b[0m \u001b[0mself\u001b[0m\u001b[1;33m.\u001b[0m\u001b[0m_accessors\u001b[0m\u001b[1;33m\u001b[0m\u001b[1;33m\u001b[0m\u001b[0m\n\u001b[0;32m   6201\u001b[0m             \u001b[1;32mand\u001b[0m \u001b[0mself\u001b[0m\u001b[1;33m.\u001b[0m\u001b[0m_info_axis\u001b[0m\u001b[1;33m.\u001b[0m\u001b[0m_can_hold_identifiers_and_holds_name\u001b[0m\u001b[1;33m(\u001b[0m\u001b[0mname\u001b[0m\u001b[1;33m)\u001b[0m\u001b[1;33m\u001b[0m\u001b[1;33m\u001b[0m\u001b[0m\n\u001b[0;32m   6202\u001b[0m         ):\n\u001b[0;32m   6203\u001b[0m             \u001b[1;32mreturn\u001b[0m \u001b[0mself\u001b[0m\u001b[1;33m[\u001b[0m\u001b[0mname\u001b[0m\u001b[1;33m]\u001b[0m\u001b[1;33m\u001b[0m\u001b[1;33m\u001b[0m\u001b[0m\n\u001b[1;32m-> 6204\u001b[1;33m         \u001b[1;32mreturn\u001b[0m \u001b[0mobject\u001b[0m\u001b[1;33m.\u001b[0m\u001b[0m__getattribute__\u001b[0m\u001b[1;33m(\u001b[0m\u001b[0mself\u001b[0m\u001b[1;33m,\u001b[0m \u001b[0mname\u001b[0m\u001b[1;33m)\u001b[0m\u001b[1;33m\u001b[0m\u001b[1;33m\u001b[0m\u001b[0m\n\u001b[0m",
      "\u001b[1;31mAttributeError\u001b[0m: 'Series' object has no attribute 'day'"
     ]
    }
   ],
   "source": [
    "# Python Datetime하듯 .day로 바로 접근하면 에러\n",
    "dfweek['WEEK'].day"
   ]
  },
  {
   "cell_type": "code",
   "execution_count": 85,
   "id": "bc326a8c",
   "metadata": {},
   "outputs": [
    {
     "data": {
      "text/plain": [
       "0     1\n",
       "1     8\n",
       "2    15\n",
       "3    22\n",
       "4    29\n",
       "Name: WEEK, dtype: int32"
      ]
     },
     "execution_count": 85,
     "metadata": {},
     "output_type": "execute_result"
    }
   ],
   "source": [
    "# 중간에 .dt 넣으면\n",
    "dfweek['WEEK'].dt.day"
   ]
  },
  {
   "cell_type": "code",
   "execution_count": 87,
   "id": "d3de90c3",
   "metadata": {},
   "outputs": [
    {
     "data": {
      "text/plain": [
       "0    2024\n",
       "1    2024\n",
       "2    2024\n",
       "3    2024\n",
       "4    2024\n",
       "Name: WEEK, dtype: int32"
      ]
     },
     "execution_count": 87,
     "metadata": {},
     "output_type": "execute_result"
    }
   ],
   "source": [
    "dfweek['WEEK'].dt.year"
   ]
  },
  {
   "cell_type": "code",
   "execution_count": 89,
   "id": "74be3a6e",
   "metadata": {},
   "outputs": [
    {
     "data": {
      "text/plain": [
       "0    1\n",
       "1    1\n",
       "2    1\n",
       "3    1\n",
       "4    1\n",
       "Name: WEEK, dtype: int32"
      ]
     },
     "execution_count": 89,
     "metadata": {},
     "output_type": "execute_result"
    }
   ],
   "source": [
    "dfweek['WEEK'].dt.month"
   ]
  },
  {
   "cell_type": "code",
   "execution_count": 91,
   "id": "7b1c99f7",
   "metadata": {},
   "outputs": [
    {
     "data": {
      "text/plain": [
       "0    Monday\n",
       "1    Monday\n",
       "2    Monday\n",
       "3    Monday\n",
       "4    Monday\n",
       "Name: WEEK, dtype: object"
      ]
     },
     "execution_count": 91,
     "metadata": {},
     "output_type": "execute_result"
    }
   ],
   "source": [
    "dfweek['WEEK'].dt.day_name()"
   ]
  },
  {
   "cell_type": "code",
   "execution_count": 93,
   "id": "1a7e53b9",
   "metadata": {},
   "outputs": [
    {
     "data": {
      "text/plain": [
       "0    2023-12-26/2024-01-01\n",
       "1    2024-01-02/2024-01-08\n",
       "2    2024-01-09/2024-01-15\n",
       "3    2024-01-16/2024-01-22\n",
       "4    2024-01-23/2024-01-29\n",
       "Name: WEEK, dtype: period[W-MON]"
      ]
     },
     "execution_count": 93,
     "metadata": {},
     "output_type": "execute_result"
    }
   ],
   "source": [
    "dfweek['WEEK'].dt.to_period()"
   ]
  },
  {
   "cell_type": "code",
   "execution_count": 99,
   "id": "d4615c81",
   "metadata": {},
   "outputs": [
    {
     "data": {
      "text/plain": [
       "0    January ,01, 2024, 12:00:00 AM\n",
       "1    January ,08, 2024, 12:00:00 AM\n",
       "2    January ,15, 2024, 12:00:00 AM\n",
       "3    January ,22, 2024, 12:00:00 AM\n",
       "4    January ,29, 2024, 12:00:00 AM\n",
       "Name: WEEK, dtype: object"
      ]
     },
     "execution_count": 99,
     "metadata": {},
     "output_type": "execute_result"
    }
   ],
   "source": [
    "dfweek['WEEK'].dt.strftime('%B ,%d, %Y, %r')"
   ]
  },
  {
   "cell_type": "code",
   "execution_count": 103,
   "id": "ac79aa19",
   "metadata": {},
   "outputs": [
    {
     "data": {
      "text/plain": [
       "0    2024년, 01 월\n",
       "1    2024년, 01 월\n",
       "2    2024년, 01 월\n",
       "3    2024년, 01 월\n",
       "4    2024년, 01 월\n",
       "Name: WEEK, dtype: object"
      ]
     },
     "execution_count": 103,
     "metadata": {},
     "output_type": "execute_result"
    }
   ],
   "source": [
    "dfweek['WEEK'].dt.strftime('%Y년, %m 월')"
   ]
  },
  {
   "cell_type": "code",
   "execution_count": null,
   "id": "224ece33-677b-4ff9-b58f-22b29fe123eb",
   "metadata": {},
   "outputs": [],
   "source": []
  }
 ],
 "metadata": {
  "kernelspec": {
   "display_name": "Python 3 (ipykernel)",
   "language": "python",
   "name": "python3"
  },
  "language_info": {
   "codemirror_mode": {
    "name": "ipython",
    "version": 3
   },
   "file_extension": ".py",
   "mimetype": "text/x-python",
   "name": "python",
   "nbconvert_exporter": "python",
   "pygments_lexer": "ipython3",
   "version": "3.11.7"
  }
 },
 "nbformat": 4,
 "nbformat_minor": 5
}
