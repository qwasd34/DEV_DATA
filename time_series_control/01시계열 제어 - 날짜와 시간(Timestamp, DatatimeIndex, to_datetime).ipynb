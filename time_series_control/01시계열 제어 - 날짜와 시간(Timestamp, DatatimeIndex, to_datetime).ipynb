{
 "cells": [
  {
   "cell_type": "markdown",
   "id": "c5ac4629",
   "metadata": {},
   "source": [
    "## pd.Timestamp()\n",
    "- https://pandas.pydata.org/docs/reference/api/pandas.Timestamp.html\n",
    "- 날짜/시간 표현하는 데이터\n",
    "- 인자와 인자 입력방법이 많아서 실습하며 인자 활용법을 배워보자"
   ]
  },
  {
   "cell_type": "code",
   "execution_count": 1,
   "id": "8c5a2918",
   "metadata": {},
   "outputs": [],
   "source": [
    "import pandas as pd"
   ]
  },
  {
   "cell_type": "code",
   "execution_count": 11,
   "id": "8889986a",
   "metadata": {},
   "outputs": [],
   "source": [
    "# 인자 입력\n",
    "t1=pd.Timestamp(year=2024, month=5, day=30, hour=12, minute=45, second=56, microsecond=12333 , nanosecond=134)\n"
   ]
  },
  {
   "cell_type": "code",
   "execution_count": 13,
   "id": "b05e81f2",
   "metadata": {},
   "outputs": [
    {
     "data": {
      "text/plain": [
       "Timestamp('2024-05-30 12:45:56.012333134')"
      ]
     },
     "execution_count": 13,
     "metadata": {},
     "output_type": "execute_result"
    }
   ],
   "source": [
    "t1"
   ]
  },
  {
   "cell_type": "code",
   "execution_count": 21,
   "id": "224d5cf8",
   "metadata": {},
   "outputs": [],
   "source": [
    "# 인자 생략 + 세계 협정시 Z\n",
    "t1=pd.Timestamp(2024, 5, 30,12,45,46,12333,34).tz_localize('UTC')"
   ]
  },
  {
   "cell_type": "code",
   "execution_count": 17,
   "id": "ae5dde2f",
   "metadata": {},
   "outputs": [
    {
     "data": {
      "text/plain": [
       "Timestamp('2024-05-30 12:45:46.012333')"
      ]
     },
     "execution_count": 17,
     "metadata": {},
     "output_type": "execute_result"
    }
   ],
   "source": [
    "t1"
   ]
  },
  {
   "cell_type": "code",
   "execution_count": 37,
   "id": "0720a834",
   "metadata": {},
   "outputs": [],
   "source": [
    "# 날짜 표기로 한번에\n",
    "t1=pd.Timestamp('2024-05-06T13:45:56.344301Z')"
   ]
  },
  {
   "cell_type": "code",
   "execution_count": 39,
   "id": "8c685da3",
   "metadata": {},
   "outputs": [
    {
     "data": {
      "text/plain": [
       "Timestamp('2024-05-06 13:45:56.344301+0000', tz='UTC')"
      ]
     },
     "execution_count": 39,
     "metadata": {},
     "output_type": "execute_result"
    }
   ],
   "source": [
    "t1"
   ]
  },
  {
   "cell_type": "markdown",
   "id": "851026c2",
   "metadata": {},
   "source": [
    "- T : 시간과 날짜 구분 표기([ISO 8601](https://ko.wikipedia.org/wiki/ISO_8601))\n",
    "- Z : zulu, [UTC 협정 세계시](https://ko.wikipedia.org/wiki/%ED%98%91%EC%A0%95_%EC%84%B8%EA%B3%84%EC%8B%9C) 표기\n",
    "    - '+00:00' 또는 '-00:00'로 대체 표기도 가능"
   ]
  },
  {
   "cell_type": "code",
   "execution_count": 43,
   "id": "8eadb595",
   "metadata": {},
   "outputs": [],
   "source": [
    "# 세계 협정시 조정\n",
    "t1=pd.Timestamp('2024-05-06T13:45:56.344+09:00')"
   ]
  },
  {
   "cell_type": "code",
   "execution_count": 45,
   "id": "d4a62992",
   "metadata": {},
   "outputs": [
    {
     "data": {
      "text/plain": [
       "Timestamp('2024-05-06 13:45:56.344000+0900', tz='UTC+09:00')"
      ]
     },
     "execution_count": 45,
     "metadata": {},
     "output_type": "execute_result"
    }
   ],
   "source": [
    "t1"
   ]
  },
  {
   "cell_type": "code",
   "execution_count": 47,
   "id": "88c6262c",
   "metadata": {
    "scrolled": true
   },
   "outputs": [
    {
     "data": {
      "text/plain": [
       "2024"
      ]
     },
     "execution_count": 47,
     "metadata": {},
     "output_type": "execute_result"
    }
   ],
   "source": [
    "# 객체 속성 접근/활용\n",
    "t1.year"
   ]
  },
  {
   "cell_type": "code",
   "execution_count": 51,
   "id": "1569b1c0",
   "metadata": {},
   "outputs": [
    {
     "data": {
      "text/plain": [
       "'5월6일'"
      ]
     },
     "execution_count": 51,
     "metadata": {},
     "output_type": "execute_result"
    }
   ],
   "source": [
    "f\"{t1.month}월{t1.day}일\""
   ]
  },
  {
   "cell_type": "code",
   "execution_count": 53,
   "id": "bbbbc95f",
   "metadata": {},
   "outputs": [
    {
     "data": {
      "text/plain": [
       "19"
      ]
     },
     "execution_count": 53,
     "metadata": {},
     "output_type": "execute_result"
    }
   ],
   "source": [
    "t1.week"
   ]
  },
  {
   "cell_type": "code",
   "execution_count": 61,
   "id": "a5a5025b",
   "metadata": {},
   "outputs": [
    {
     "data": {
      "text/plain": [
       "'2024-05-06 13:45:56'"
      ]
     },
     "execution_count": 61,
     "metadata": {},
     "output_type": "execute_result"
    }
   ],
   "source": [
    "# .strftime()으로 날짜데이터를 string format화\n",
    "# %X == %H:%M:%S 대소소대대대\n",
    "t1.strftime(\"%Y-%m-%d %H:%M:%S\")\n",
    "t1.strftime(\"%Y-%m-%d %X\")"
   ]
  },
  {
   "cell_type": "markdown",
   "id": "3df17bfa",
   "metadata": {},
   "source": [
    "## Python의 날짜/시간 포맷(format)\n",
    "- https://docs.python.org/3/library/datetime.html#strftime-and-strptime-behavior\n",
    "\n",
    "| 포맷 | 설명 |\n",
    "|-------|:----|\n",
    "| %a    | 현 지역에 따른 요일의 축약된 이름     |\n",
    "| %A    | 현 지역에 따른 요일의 전체 이름       |\n",
    "| %w    | 일요일을 0으로 시작하여 6으로 끝나는 요일 |\n",
    "| %d    | 월의 일을 0으로 시작하여 31로 끝나는 날짜 |\n",
    "| %b    | 현 지역에 따른 월의 축약된 이름       |\n",
    "| %B    | 현 지역에 따른 월의 전체 이름         |\n",
    "| %m    | 월을 0으로 시작하여 12로 끝나는 숫자  |\n",
    "| %y    | 세기를 제외한 연도를 0으로 시작하여 99로 끝나는 숫자 |\n",
    "| %Y    | 세기를 포함한 연도                   |\n",
    "| %H    | 24시간 형식으로 표시된 시간을 0으로 시작하여 23로 끝나는 숫자 |\n",
    "| %I    | 12시간 형식으로 표시된 시간을 0으로 시작하여 12로 끝나는 숫자 |\n",
    "| %p    | 오전 또는 오후                      |\n",
    "| %M    | 분을 0으로 시작하여 59로 끝나는 숫자   |\n",
    "| %S    | 초를 0으로 시작하여 59로 끝나는 숫자   |\n",
    "| %f    | 마이크로초를 6자리 숫자로 표시       |\n",
    "| %z    | UTC 오프셋을 ±HHMM 또는 ±HHMMSS 형식 |\n",
    "| %Z    | 시간대 이름                         |\n",
    "| %j    | 연중 날짜를 0으로 시작하여 366으로 끝나는 숫자 |\n",
    "| %U    | 주 번호를 0으로 시작하여 일요일을 첫 번째 요일로 간주 |\n",
    "| %W    | 주 번호를 0으로 시작하여 월요일을 첫 번째 요일로 간주 |\n",
    "| %c    | 현 지역에 적합한 날짜와 시간 표현    |\n",
    "| %x    | 현 지역에 적합한 날짜 표현            |\n",
    "| %X    | 현 지역에 적합한 시간 표현            |\n",
    "| %%    | '%' 문자 표시                       |\n"
   ]
  },
  {
   "cell_type": "markdown",
   "id": "3473b7c0",
   "metadata": {},
   "source": [
    "## Timestampe 사칙연산\n",
    "- 각 속성들 중 숫자형도 있어서 이들 끼리도 연산되지만\n",
    "- Timestamp() 객체 자체도 연산이 가능"
   ]
  },
  {
   "cell_type": "code",
   "execution_count": 63,
   "id": "94059008",
   "metadata": {},
   "outputs": [],
   "source": [
    "t1=pd.Timestamp('2024-01-01 13:24:56')\n",
    "t2=pd.Timestamp('2024-05-05 16:45:58')"
   ]
  },
  {
   "cell_type": "code",
   "execution_count": 65,
   "id": "34a329ab",
   "metadata": {},
   "outputs": [
    {
     "data": {
      "text/plain": [
       "Timedelta('125 days 03:21:02')"
      ]
     },
     "execution_count": 65,
     "metadata": {},
     "output_type": "execute_result"
    }
   ],
   "source": [
    "t2-t1"
   ]
  },
  {
   "cell_type": "markdown",
   "id": "bde7d0cb",
   "metadata": {},
   "source": [
    "- 특정 시간 시점(시각) 2개임으로 빼면 '시간 차이'가 계산된다.\n",
    "- 시점+시간차이 : 미래 날짜를 구할 수 있다.\n",
    "- 시점-시간차이 : 과거 날짜를 구할 수 있다."
   ]
  },
  {
   "cell_type": "markdown",
   "id": "a6dfbc11",
   "metadata": {},
   "source": [
    "## 다양한 Timestamp 생성법"
   ]
  },
  {
   "cell_type": "code",
   "execution_count": 73,
   "id": "58bfd98c",
   "metadata": {},
   "outputs": [],
   "source": [
    "# 날짜 표기법으로 입력\n",
    "texts = [\n",
    "    '2020-01-02',\n",
    "    '2022/01/02',\n",
    "    '2021.01.02',\n",
    "    '2023 Jan 02'\n",
    "]"
   ]
  },
  {
   "cell_type": "code",
   "execution_count": 77,
   "id": "1678c676",
   "metadata": {
    "scrolled": true
   },
   "outputs": [
    {
     "name": "stdout",
     "output_type": "stream",
     "text": [
      "2020-01-02 00:00:00\n",
      "2022-01-02 00:00:00\n",
      "2021-01-02 00:00:00\n",
      "2023-01-02 00:00:00\n"
     ]
    }
   ],
   "source": [
    "for t in texts:\n",
    "    print(pd.Timestamp(t))"
   ]
  },
  {
   "cell_type": "code",
   "execution_count": 83,
   "id": "e6271aac",
   "metadata": {},
   "outputs": [
    {
     "data": {
      "text/plain": [
       "1717506072693378700"
      ]
     },
     "execution_count": 83,
     "metadata": {},
     "output_type": "execute_result"
    }
   ],
   "source": [
    "# 세계 협정시 기준 : 1970.1.1 00:00부터의 ns로 입력\n",
    "import time\n",
    "time.time() # second\n",
    "time.time_ns() # nanosecond"
   ]
  },
  {
   "cell_type": "code",
   "execution_count": 81,
   "id": "ff4e23c5",
   "metadata": {},
   "outputs": [],
   "source": [
    "s = 1702731357.7366805\n",
    "ns = 1702731342736680500"
   ]
  },
  {
   "cell_type": "code",
   "execution_count": 85,
   "id": "1c3190e9",
   "metadata": {},
   "outputs": [
    {
     "data": {
      "text/plain": [
       "Timestamp('2023-12-16 12:55:42.736680500')"
      ]
     },
     "execution_count": 85,
     "metadata": {},
     "output_type": "execute_result"
    }
   ],
   "source": [
    "pd.Timestamp(ns)"
   ]
  },
  {
   "cell_type": "code",
   "execution_count": 93,
   "id": "dbd152c7",
   "metadata": {},
   "outputs": [
    {
     "data": {
      "text/plain": [
       "Timestamp('2023-12-16 12:55:57.736680508')"
      ]
     },
     "execution_count": 93,
     "metadata": {},
     "output_type": "execute_result"
    }
   ],
   "source": [
    "pd.Timestamp(s, unit='s')\n",
    "#초형식으로 바꾸기 default 는 nanos, m는없음 -> 윤달 평달등등의 이유로"
   ]
  },
  {
   "cell_type": "markdown",
   "id": "45430eeb",
   "metadata": {},
   "source": [
    "## pd.to_datetime()\n",
    "- https://pandas.pydata.org/docs/reference/api/pandas.to_datetime.html\n",
    "- 문자열 또는 숫자를 날짜와 시간으로 변환하는 기능을 제공\n",
    "- 날짜 인자 입력 방법은 위의 Timestamp()와 거의 같다."
   ]
  },
  {
   "cell_type": "code",
   "execution_count": null,
   "id": "790ad003",
   "metadata": {},
   "outputs": [],
   "source": [
    "# 날짜 표기법으로 입력\n",
    "texts = [\n",
    "    '2020-01-02',\n",
    "    '2022/01/02',\n",
    "    '2021.01.02',\n",
    "    '2023 Jan 02'\n",
    "]"
   ]
  },
  {
   "cell_type": "code",
   "execution_count": 99,
   "id": "4434f1d9",
   "metadata": {},
   "outputs": [
    {
     "name": "stdout",
     "output_type": "stream",
     "text": [
      "2020-01-02 00:00:00\n",
      "2022-01-02 00:00:00\n",
      "2021-01-02 00:00:00\n",
      "2023-01-02 00:00:00\n"
     ]
    }
   ],
   "source": [
    "for t in texts:\n",
    "    print(pd.to_datetime(t))"
   ]
  },
  {
   "cell_type": "code",
   "execution_count": 103,
   "id": "2fa6a540",
   "metadata": {},
   "outputs": [
    {
     "data": {
      "text/plain": [
       "Timestamp('2020-01-02 00:00:00')"
      ]
     },
     "execution_count": 103,
     "metadata": {},
     "output_type": "execute_result"
    }
   ],
   "source": [
    "pd.to_datetime(texts[0])\n",
    "#타임스탬프형태?"
   ]
  },
  {
   "cell_type": "code",
   "execution_count": 105,
   "id": "40610949",
   "metadata": {},
   "outputs": [
    {
     "data": {
      "text/plain": [
       "Timestamp('2023-12-16 12:55:42.736680500')"
      ]
     },
     "execution_count": 105,
     "metadata": {},
     "output_type": "execute_result"
    }
   ],
   "source": [
    "ns = 1702731342736680500\n",
    "pd.to_datetime(ns)"
   ]
  },
  {
   "cell_type": "markdown",
   "id": "295a5e4a",
   "metadata": {},
   "source": [
    "## Timestamp() == to_datetime() 인가?"
   ]
  },
  {
   "cell_type": "markdown",
   "id": "bf79d35d",
   "metadata": {},
   "source": [
    "### 1. 입력 데이터의 형식\n",
    "- `Timestamp()`\n",
    "    - 문자열, 정수, datetime 객체 등 다양한 형식의 데이터를 입력\n",
    "- `to_datetime()`\n",
    "    - 대체로 문자열 데이터를 입력(숫자도 받긴함). \n",
    "    - 일반적으로 날짜와 시간을 나타내는 문자열 형식을 입력으로 사용.\n",
    "\n",
    "### 2. 유효성 검사\n",
    "- `Timestamp()`\n",
    "    - 입력 데이터에 대한 추가적인 유효성 검사를 수행하지 않음\n",
    "    - 잘못된 형식의 데이터가 입력되면 에러 발생.\n",
    "- `to_datetime()` \n",
    "    - 입력 데이터의 형식을 추론하고, 유효성을 검사. 이를 올바른 형식의 데이터로 변환\n",
    "    - 잘못된 날짜 형식이나 값이 입력되면, 에러가 발생하지 않고 NaN 또는 **NaT (Not a Time)** 값을 반환.\n",
    "\n",
    "### 3. 반환 값\n",
    "- `Timestamp()`\n",
    "    - 입력 데이터의 형식에 따라 단일의 Timestamp 객체를 반환\n",
    "- `to_datetime()`\n",
    "    - 입력 데이터에 따라 단일의 Timestamp 객체 또는 **DatetimeIndex 객체**를 반환\n",
    "    - 날짜와 시간 데이터 여러 개가 입력되면, DatetimeIndex 객체는 해당 데이터들을 포함하는 인덱스로 사용됨"
   ]
  },
  {
   "cell_type": "code",
   "execution_count": 117,
   "id": "a4f96b0e",
   "metadata": {},
   "outputs": [
    {
     "name": "stdout",
     "output_type": "stream",
     "text": [
      "2024-05-05 12:30:56\n",
      "DatetimeIndex(['2024-07-23', '2022-01-01', '2024-06-08'], dtype='datetime64[ns]', freq=None)\n"
     ]
    }
   ],
   "source": [
    "# Timestamp()로 데이터 생성\n",
    "ts1=pd.Timestamp('2024-05-05 12:30:56')\n",
    "\n",
    "# to_datetime()로 데이터 생성 반환값이 datime객체\n",
    "\n",
    "dstr=['2024-07-23','2022-01-01','2024-06-08']\n",
    "dates=pd.to_datetime(dstr)\n",
    "print(ts1)\n",
    "print(dates)"
   ]
  },
  {
   "cell_type": "markdown",
   "id": "4b110d60",
   "metadata": {},
   "source": [
    "## pd.DatetimeIndex()\n",
    "- https://pandas.pydata.org/docs/reference/indexing.html#datetimeindex\n",
    "- https://pandas.pydata.org/docs/reference/api/pandas.DatetimeIndex.html#pandas.DatetimeIndex\n",
    "- 날짜와 시간 데이터를 인덱스로 사용하기 위한 특수 **데이터 구조**\n",
    "- 시계열 데이터를 쉽게 조작하고 분석하도록 도와줌\n",
    "- 요약 : 날짜형 인덱스!"
   ]
  },
  {
   "cell_type": "markdown",
   "id": "181a58e8",
   "metadata": {},
   "source": [
    "## DatetimeIndex() 간단 실습"
   ]
  },
  {
   "cell_type": "code",
   "execution_count": 123,
   "id": "bc9caadb",
   "metadata": {},
   "outputs": [],
   "source": [
    "import pandas as pd"
   ]
  },
  {
   "cell_type": "code",
   "execution_count": 125,
   "id": "0cbf0b68",
   "metadata": {},
   "outputs": [],
   "source": [
    "# 날짜 문자열을 DatetimeIndex로 변환\n",
    "data_list = ['2023-12-01', '2023-12-02', '2023-12-03', '2023-12-04']"
   ]
  },
  {
   "cell_type": "code",
   "execution_count": 127,
   "id": "77dac415",
   "metadata": {},
   "outputs": [
    {
     "data": {
      "text/plain": [
       "DatetimeIndex(['2023-12-01', '2023-12-02', '2023-12-03', '2023-12-04'], dtype='datetime64[ns]', freq=None)"
      ]
     },
     "execution_count": 127,
     "metadata": {},
     "output_type": "execute_result"
    }
   ],
   "source": [
    "pd.to_datetime(data_list)"
   ]
  },
  {
   "cell_type": "code",
   "execution_count": 137,
   "id": "8ddd9863",
   "metadata": {},
   "outputs": [
    {
     "data": {
      "text/plain": [
       "DatetimeIndex(['2023-12-01', '2023-12-02', '2023-12-03', '2023-12-04'], dtype='datetime64[ns]', freq=None)"
      ]
     },
     "execution_count": 137,
     "metadata": {},
     "output_type": "execute_result"
    }
   ],
   "source": [
    "index=pd.DatetimeIndex(data_list)\n",
    "index"
   ]
  },
  {
   "cell_type": "code",
   "execution_count": 143,
   "id": "915f5bf4",
   "metadata": {},
   "outputs": [],
   "source": [
    "# 미리보기 : 12월 한번에 DatetimeIndex만들기\n",
    "start_date = '2023-12-01'\n",
    "end_date = '2023-12-31'\n",
    "index=pd.date_range(start_date, end_date)"
   ]
  },
  {
   "cell_type": "code",
   "execution_count": null,
   "id": "6c48a543",
   "metadata": {},
   "outputs": [],
   "source": []
  },
  {
   "cell_type": "markdown",
   "id": "470b8268",
   "metadata": {},
   "source": [
    "**date_range()의 `freq=` : str, Timedelta, datetime.timedelta, or DateOffset, default 'D'**\n",
    "- 단위를 지정하여 날짜 생성\n",
    "- 1. Y M W(주별) D H T(분) S\n",
    "- 2. 1에 추가적인 표기를 넣을 수 있음"
   ]
  },
  {
   "cell_type": "code",
   "execution_count": 145,
   "id": "1cbcbe77",
   "metadata": {},
   "outputs": [
    {
     "data": {
      "text/plain": [
       "DatetimeIndex(['2023-12-04', '2023-12-11', '2023-12-18', '2023-12-25'], dtype='datetime64[ns]', freq='W-MON')"
      ]
     },
     "execution_count": 145,
     "metadata": {},
     "output_type": "execute_result"
    }
   ],
   "source": [
    "# 12월 1주일 간격으로 날짜 생성 - 일요일\n",
    "pd.date_range(start_date, end_date , freq='W-MON')"
   ]
  },
  {
   "cell_type": "markdown",
   "id": "a39f2771",
   "metadata": {},
   "source": [
    "## 날짜 데이터가 부족할 때"
   ]
  },
  {
   "cell_type": "code",
   "execution_count": 153,
   "id": "0462625a",
   "metadata": {},
   "outputs": [
    {
     "data": {
      "text/plain": [
       "Timestamp('2000-01-01 00:00:00')"
      ]
     },
     "execution_count": 153,
     "metadata": {},
     "output_type": "execute_result"
    }
   ],
   "source": [
    "pd.to_datetime('2000')"
   ]
  },
  {
   "cell_type": "code",
   "execution_count": 155,
   "id": "5fc4f7ff",
   "metadata": {},
   "outputs": [
    {
     "data": {
      "text/plain": [
       "Timestamp('2023-03-01 00:00:00')"
      ]
     },
     "execution_count": 155,
     "metadata": {},
     "output_type": "execute_result"
    }
   ],
   "source": [
    "pd.to_datetime('2023/03')"
   ]
  },
  {
   "cell_type": "code",
   "execution_count": 163,
   "id": "5ef0af01",
   "metadata": {},
   "outputs": [
    {
     "data": {
      "text/plain": [
       "Timestamp('1970-01-01 06:30:58.457380')"
      ]
     },
     "execution_count": 163,
     "metadata": {},
     "output_type": "execute_result"
    }
   ],
   "source": [
    "pd.to_datetime(23458457380000)"
   ]
  },
  {
   "cell_type": "code",
   "execution_count": null,
   "id": "2c2b36ff",
   "metadata": {},
   "outputs": [],
   "source": []
  },
  {
   "cell_type": "markdown",
   "id": "9bc16907",
   "metadata": {},
   "source": [
    "## 날짜 데이터가 잘못 되었을 때, errors="
   ]
  },
  {
   "cell_type": "code",
   "execution_count": 165,
   "id": "69319e40",
   "metadata": {
    "scrolled": true
   },
   "outputs": [],
   "source": [
    "date_list = ['2000', '2001/13/02', '2022.02.03', '12:34', '20:21', 1702731342736680500]\n"
   ]
  },
  {
   "cell_type": "markdown",
   "id": "90e52b46",
   "metadata": {},
   "source": [
    "**`errors=` : {'ignore', 'raise', 'coerce'}, default 'raise'**\n",
    "- raise\n",
    "    - 잘못된 형식의 데이터가 있을 경우 ValueError를 발생\n",
    "- ignore(무시)\n",
    "    - 잘못된 형식의 데이터를 무시하고 변환 시도\n",
    "    - 변환할 수 없는 데이터는 그대로 유지\n",
    "- coerce(강제)\n",
    "    - 잘못된 형식의 데이터를 NaT (Not a Time)로 대체\n",
    "    - NaT는 누락된 날짜/시간 값을 나타내는 특수한 Datetime 객체\n",
    "    - 변환할 수 없는 데이터는 NaT로 대체되므로, 모든 값을 Datetime 객체로 변환할 수 있다."
   ]
  },
  {
   "cell_type": "code",
   "execution_count": 167,
   "id": "35e39e43",
   "metadata": {
    "scrolled": true
   },
   "outputs": [
    {
     "data": {
      "text/plain": [
       "DatetimeIndex(['2023-12-01', '2023-12-02', '2023-12-03', '2023-12-04'], dtype='datetime64[ns]', freq=None)"
      ]
     },
     "execution_count": 167,
     "metadata": {},
     "output_type": "execute_result"
    }
   ],
   "source": [
    "date_list = ['2000', '2001/13/02', '2022.02.03', '12:34', '20:21', 1702731342736680500]\n",
    "pd.to_datetime(data_list, errors='ignore')"
   ]
  },
  {
   "cell_type": "code",
   "execution_count": 169,
   "id": "4759336a",
   "metadata": {},
   "outputs": [
    {
     "data": {
      "text/plain": [
       "DatetimeIndex(['2023-12-01', '2023-12-02', '2023-12-03', '2023-12-04'], dtype='datetime64[ns]', freq=None)"
      ]
     },
     "execution_count": 169,
     "metadata": {},
     "output_type": "execute_result"
    }
   ],
   "source": [
    "date_list = ['2000', '2001/13/02', '2022.02.03', '12:34', '20:21', 1702731342736680500]\n",
    "pd.to_datetime(data_list, errors='coerce')"
   ]
  },
  {
   "cell_type": "markdown",
   "id": "96087111",
   "metadata": {},
   "source": [
    "```python\n",
    "DatetimeIndex([          '2000-01-01 00:00:00',\n",
    "                                         'NaT',\n",
    "                         '2022-02-03 00:00:00',\n",
    "                         '2023-12-19 12:34:00',\n",
    "                         '2023-12-19 20:21:00',\n",
    "               '2023-12-16 12:55:42.736680500'],\n",
    "              dtype='datetime64[ns]', freq=None)\n",
    "```"
   ]
  }
 ],
 "metadata": {
  "kernelspec": {
   "display_name": "Python 3 (ipykernel)",
   "language": "python",
   "name": "python3"
  },
  "language_info": {
   "codemirror_mode": {
    "name": "ipython",
    "version": 3
   },
   "file_extension": ".py",
   "mimetype": "text/x-python",
   "name": "python",
   "nbconvert_exporter": "python",
   "pygments_lexer": "ipython3",
   "version": "3.11.7"
  }
 },
 "nbformat": 4,
 "nbformat_minor": 5
}
