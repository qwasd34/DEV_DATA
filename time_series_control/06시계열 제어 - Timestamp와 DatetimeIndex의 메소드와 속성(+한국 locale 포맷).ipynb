{
 "cells": [
  {
   "cell_type": "markdown",
   "id": "8c73dbf4",
   "metadata": {},
   "source": [
    "## Timestamp의 메소드(Methods)와 속성(Attributes)\n",
    "- https://pandas.pydata.org/docs/reference/api/pandas.Timestamp.html\n",
    "    - 하단의 Attributes와 Methods"
   ]
  },
  {
   "cell_type": "markdown",
   "id": "d553d09f",
   "metadata": {},
   "source": [
    "### 속성(Attributes)와 속성(Properties)\n",
    "- 일반적으로 동일의미로 사용. 그러나 일부 상황에서는 다르게 사용할 때가 있음\n",
    "- Pandas는 일반적인 상황처럼 동일의미로 쓰고 있음\n",
    "\n",
    "#### case 1. 속성(Properties) = 속성(Attributes) + 메소드(Methods)\n",
    "\n",
    "#### case 1+a. 객체는 Properties, 값은 Attributes\n",
    "- .속성이 Object면 Properties\n",
    "- .속성이 값, 수치라면 Attributes\n",
    "- .속성이 함수라면 Methods\n",
    "\n",
    "#### case 2. Attributes != Properties\n",
    "- Attributes : 객체의 특정한 데이터나 상태를 의미\n",
    "    - DataFrame에서 values, dtype, ndim 같이 DataFrame의 값이나 데이터 타입, 차원 등을 설명\n",
    "- Properties : 객체의 특정한 특성이나 특징을 표현\n",
    "    - DataFrame에서 shape, columns, index 같이 DataFrame의 구조나 크기를 설명\n",
    "   "
   ]
  },
  {
   "cell_type": "code",
   "execution_count": 1,
   "id": "7f7de7b8",
   "metadata": {},
   "outputs": [],
   "source": [
    "import pandas as pd"
   ]
  },
  {
   "cell_type": "code",
   "execution_count": 2,
   "id": "47efac7d",
   "metadata": {},
   "outputs": [],
   "source": [
    "start = '2024-01-01'\n",
    "end = '2024-12-31'"
   ]
  },
  {
   "cell_type": "code",
   "execution_count": 20,
   "id": "1abc178f",
   "metadata": {
    "scrolled": true
   },
   "outputs": [
    {
     "data": {
      "text/plain": [
       "DatetimeIndex(['2024-01-31', '2024-02-29', '2024-03-31', '2024-04-30',\n",
       "               '2024-05-31', '2024-06-30', '2024-07-31', '2024-08-31',\n",
       "               '2024-09-30', '2024-10-31', '2024-11-30', '2024-12-31'],\n",
       "              dtype='datetime64[ns]', freq='M')"
      ]
     },
     "execution_count": 20,
     "metadata": {},
     "output_type": "execute_result"
    }
   ],
   "source": [
    "dt_index=pd.date_range(start, end , freq='M')\n",
    "dt_index"
   ]
  },
  {
   "cell_type": "code",
   "execution_count": 12,
   "id": "f02d06ad",
   "metadata": {},
   "outputs": [],
   "source": [
    "data = list(range(200, 1400, 100))"
   ]
  },
  {
   "cell_type": "code",
   "execution_count": 22,
   "id": "72b68e61",
   "metadata": {},
   "outputs": [
    {
     "data": {
      "text/html": [
       "<div>\n",
       "<style scoped>\n",
       "    .dataframe tbody tr th:only-of-type {\n",
       "        vertical-align: middle;\n",
       "    }\n",
       "\n",
       "    .dataframe tbody tr th {\n",
       "        vertical-align: top;\n",
       "    }\n",
       "\n",
       "    .dataframe thead th {\n",
       "        text-align: right;\n",
       "    }\n",
       "</style>\n",
       "<table border=\"1\" class=\"dataframe\">\n",
       "  <thead>\n",
       "    <tr style=\"text-align: right;\">\n",
       "      <th></th>\n",
       "      <th>DATA</th>\n",
       "    </tr>\n",
       "  </thead>\n",
       "  <tbody>\n",
       "    <tr>\n",
       "      <th>2024-01-31</th>\n",
       "      <td>200</td>\n",
       "    </tr>\n",
       "    <tr>\n",
       "      <th>2024-02-29</th>\n",
       "      <td>300</td>\n",
       "    </tr>\n",
       "    <tr>\n",
       "      <th>2024-03-31</th>\n",
       "      <td>400</td>\n",
       "    </tr>\n",
       "    <tr>\n",
       "      <th>2024-04-30</th>\n",
       "      <td>500</td>\n",
       "    </tr>\n",
       "    <tr>\n",
       "      <th>2024-05-31</th>\n",
       "      <td>600</td>\n",
       "    </tr>\n",
       "    <tr>\n",
       "      <th>2024-06-30</th>\n",
       "      <td>700</td>\n",
       "    </tr>\n",
       "    <tr>\n",
       "      <th>2024-07-31</th>\n",
       "      <td>800</td>\n",
       "    </tr>\n",
       "    <tr>\n",
       "      <th>2024-08-31</th>\n",
       "      <td>900</td>\n",
       "    </tr>\n",
       "    <tr>\n",
       "      <th>2024-09-30</th>\n",
       "      <td>1000</td>\n",
       "    </tr>\n",
       "    <tr>\n",
       "      <th>2024-10-31</th>\n",
       "      <td>1100</td>\n",
       "    </tr>\n",
       "    <tr>\n",
       "      <th>2024-11-30</th>\n",
       "      <td>1200</td>\n",
       "    </tr>\n",
       "    <tr>\n",
       "      <th>2024-12-31</th>\n",
       "      <td>1300</td>\n",
       "    </tr>\n",
       "  </tbody>\n",
       "</table>\n",
       "</div>"
      ],
      "text/plain": [
       "            DATA\n",
       "2024-01-31   200\n",
       "2024-02-29   300\n",
       "2024-03-31   400\n",
       "2024-04-30   500\n",
       "2024-05-31   600\n",
       "2024-06-30   700\n",
       "2024-07-31   800\n",
       "2024-08-31   900\n",
       "2024-09-30  1000\n",
       "2024-10-31  1100\n",
       "2024-11-30  1200\n",
       "2024-12-31  1300"
      ]
     },
     "execution_count": 22,
     "metadata": {},
     "output_type": "execute_result"
    }
   ],
   "source": [
    "df=pd.DataFrame(data=data, index=dt_index, columns=['DATA'])\n",
    "df"
   ]
  },
  {
   "cell_type": "markdown",
   "id": "c8130d69",
   "metadata": {},
   "source": [
    "## DatetimeIndex = [Timestamp,...] 의 속성 접근"
   ]
  },
  {
   "cell_type": "code",
   "execution_count": 16,
   "id": "500461e3",
   "metadata": {},
   "outputs": [
    {
     "data": {
      "text/plain": [
       "DatetimeIndex(['2024-01-31', '2024-02-29', '2024-03-31', '2024-04-30',\n",
       "               '2024-05-31', '2024-06-30', '2024-07-31', '2024-08-31',\n",
       "               '2024-09-30', '2024-10-31', '2024-11-30', '2024-12-31'],\n",
       "              dtype='datetime64[ns]', freq='M')"
      ]
     },
     "execution_count": 16,
     "metadata": {},
     "output_type": "execute_result"
    }
   ],
   "source": [
    "df.index"
   ]
  },
  {
   "cell_type": "code",
   "execution_count": 28,
   "id": "a1b83868",
   "metadata": {},
   "outputs": [
    {
     "data": {
      "text/plain": [
       "Timestamp('2024-01-31 00:00:00')"
      ]
     },
     "execution_count": 28,
     "metadata": {},
     "output_type": "execute_result"
    }
   ],
   "source": [
    "df.index[0]"
   ]
  },
  {
   "cell_type": "code",
   "execution_count": 30,
   "id": "64031bd5",
   "metadata": {},
   "outputs": [
    {
     "data": {
      "text/plain": [
       "'January'"
      ]
     },
     "execution_count": 30,
     "metadata": {},
     "output_type": "execute_result"
    }
   ],
   "source": [
    "df.index[0].month_name()"
   ]
  },
  {
   "cell_type": "code",
   "execution_count": null,
   "id": "dffc23eb",
   "metadata": {},
   "outputs": [],
   "source": []
  },
  {
   "cell_type": "code",
   "execution_count": 35,
   "id": "a8c92cb8",
   "metadata": {},
   "outputs": [
    {
     "data": {
      "text/plain": [
       "29"
      ]
     },
     "execution_count": 35,
     "metadata": {},
     "output_type": "execute_result"
    }
   ],
   "source": [
    "# 2024.2월 말일 -> 29일 \n",
    "df.index[1].days_in_month"
   ]
  },
  {
   "cell_type": "code",
   "execution_count": null,
   "id": "ea808e29",
   "metadata": {},
   "outputs": [],
   "source": []
  },
  {
   "cell_type": "code",
   "execution_count": 39,
   "id": "17a65768",
   "metadata": {},
   "outputs": [
    {
     "data": {
      "text/plain": [
       "3"
      ]
     },
     "execution_count": 39,
     "metadata": {},
     "output_type": "execute_result"
    }
   ],
   "source": [
    "# 월 0, ...목 3\n",
    "df.index[1].day_of_week"
   ]
  },
  {
   "cell_type": "code",
   "execution_count": 43,
   "id": "5643bb3d",
   "metadata": {
    "scrolled": true
   },
   "outputs": [
    {
     "data": {
      "text/plain": [
       "3"
      ]
     },
     "execution_count": 43,
     "metadata": {},
     "output_type": "execute_result"
    }
   ],
   "source": [
    "df.index[1].weekday()"
   ]
  },
  {
   "cell_type": "code",
   "execution_count": 45,
   "id": "60fd6752",
   "metadata": {},
   "outputs": [
    {
     "data": {
      "text/plain": [
       "1"
      ]
     },
     "execution_count": 45,
     "metadata": {},
     "output_type": "execute_result"
    }
   ],
   "source": [
    "df.index[11].week\n",
    "# 12월 31일 "
   ]
  },
  {
   "cell_type": "code",
   "execution_count": null,
   "id": "a3343e74",
   "metadata": {},
   "outputs": [],
   "source": [
    "# 2024.01.31 (수)\n"
   ]
  },
  {
   "cell_type": "code",
   "execution_count": null,
   "id": "65e1730b",
   "metadata": {},
   "outputs": [],
   "source": [
    "# 2024.12.31(화)는 2024년 마지막 주이면서 2025년의 첫번째 주\n"
   ]
  },
  {
   "cell_type": "markdown",
   "id": "a11f2c87",
   "metadata": {},
   "source": [
    "## DatetimeIndex 활용 예제 - 월(Month) 열 추가\n",
    "- https://pandas.pydata.org/docs/reference/indexing.html#datetimeindex\n",
    "- https://pandas.pydata.org/docs/reference/api/pandas.DatetimeIndex.html"
   ]
  },
  {
   "cell_type": "code",
   "execution_count": 49,
   "id": "343355d9",
   "metadata": {},
   "outputs": [
    {
     "data": {
      "text/plain": [
       "Index(['January', 'February', 'March', 'April', 'May', 'June', 'July',\n",
       "       'August', 'September', 'October', 'November', 'December'],\n",
       "      dtype='object')"
      ]
     },
     "execution_count": 49,
     "metadata": {},
     "output_type": "execute_result"
    }
   ],
   "source": [
    "df.index.month_name()"
   ]
  },
  {
   "cell_type": "code",
   "execution_count": 54,
   "id": "780b3dcd-9f34-44c1-86ef-f40d6faeddf8",
   "metadata": {},
   "outputs": [
    {
     "data": {
      "text/html": [
       "<div>\n",
       "<style scoped>\n",
       "    .dataframe tbody tr th:only-of-type {\n",
       "        vertical-align: middle;\n",
       "    }\n",
       "\n",
       "    .dataframe tbody tr th {\n",
       "        vertical-align: top;\n",
       "    }\n",
       "\n",
       "    .dataframe thead th {\n",
       "        text-align: right;\n",
       "    }\n",
       "</style>\n",
       "<table border=\"1\" class=\"dataframe\">\n",
       "  <thead>\n",
       "    <tr style=\"text-align: right;\">\n",
       "      <th></th>\n",
       "      <th>DATA</th>\n",
       "      <th>MONTH</th>\n",
       "    </tr>\n",
       "  </thead>\n",
       "  <tbody>\n",
       "    <tr>\n",
       "      <th>2024-01-31</th>\n",
       "      <td>200</td>\n",
       "      <td>January</td>\n",
       "    </tr>\n",
       "    <tr>\n",
       "      <th>2024-02-29</th>\n",
       "      <td>300</td>\n",
       "      <td>February</td>\n",
       "    </tr>\n",
       "    <tr>\n",
       "      <th>2024-03-31</th>\n",
       "      <td>400</td>\n",
       "      <td>March</td>\n",
       "    </tr>\n",
       "    <tr>\n",
       "      <th>2024-04-30</th>\n",
       "      <td>500</td>\n",
       "      <td>April</td>\n",
       "    </tr>\n",
       "    <tr>\n",
       "      <th>2024-05-31</th>\n",
       "      <td>600</td>\n",
       "      <td>May</td>\n",
       "    </tr>\n",
       "    <tr>\n",
       "      <th>2024-06-30</th>\n",
       "      <td>700</td>\n",
       "      <td>June</td>\n",
       "    </tr>\n",
       "    <tr>\n",
       "      <th>2024-07-31</th>\n",
       "      <td>800</td>\n",
       "      <td>July</td>\n",
       "    </tr>\n",
       "    <tr>\n",
       "      <th>2024-08-31</th>\n",
       "      <td>900</td>\n",
       "      <td>August</td>\n",
       "    </tr>\n",
       "    <tr>\n",
       "      <th>2024-09-30</th>\n",
       "      <td>1000</td>\n",
       "      <td>September</td>\n",
       "    </tr>\n",
       "    <tr>\n",
       "      <th>2024-10-31</th>\n",
       "      <td>1100</td>\n",
       "      <td>October</td>\n",
       "    </tr>\n",
       "    <tr>\n",
       "      <th>2024-11-30</th>\n",
       "      <td>1200</td>\n",
       "      <td>November</td>\n",
       "    </tr>\n",
       "    <tr>\n",
       "      <th>2024-12-31</th>\n",
       "      <td>1300</td>\n",
       "      <td>December</td>\n",
       "    </tr>\n",
       "  </tbody>\n",
       "</table>\n",
       "</div>"
      ],
      "text/plain": [
       "            DATA      MONTH\n",
       "2024-01-31   200    January\n",
       "2024-02-29   300   February\n",
       "2024-03-31   400      March\n",
       "2024-04-30   500      April\n",
       "2024-05-31   600        May\n",
       "2024-06-30   700       June\n",
       "2024-07-31   800       July\n",
       "2024-08-31   900     August\n",
       "2024-09-30  1000  September\n",
       "2024-10-31  1100    October\n",
       "2024-11-30  1200   November\n",
       "2024-12-31  1300   December"
      ]
     },
     "execution_count": 54,
     "metadata": {},
     "output_type": "execute_result"
    }
   ],
   "source": [
    "df['MONTH']=df.index.month_name()\n",
    "df"
   ]
  },
  {
   "cell_type": "markdown",
   "id": "017608bd",
   "metadata": {},
   "source": [
    "## DatetimeIndex 활용 예제 - 요일(day) 열 추가"
   ]
  },
  {
   "cell_type": "code",
   "execution_count": 58,
   "id": "87706266",
   "metadata": {},
   "outputs": [
    {
     "data": {
      "text/plain": [
       "Index(['Wednesday', 'Thursday', 'Sunday', 'Tuesday', 'Friday', 'Sunday',\n",
       "       'Wednesday', 'Saturday', 'Monday', 'Thursday', 'Saturday', 'Tuesday'],\n",
       "      dtype='object')"
      ]
     },
     "execution_count": 58,
     "metadata": {},
     "output_type": "execute_result"
    }
   ],
   "source": [
    "df.index.day_name()"
   ]
  },
  {
   "cell_type": "code",
   "execution_count": 74,
   "id": "46c7d19d",
   "metadata": {
    "scrolled": true
   },
   "outputs": [
    {
     "data": {
      "text/html": [
       "<div>\n",
       "<style scoped>\n",
       "    .dataframe tbody tr th:only-of-type {\n",
       "        vertical-align: middle;\n",
       "    }\n",
       "\n",
       "    .dataframe tbody tr th {\n",
       "        vertical-align: top;\n",
       "    }\n",
       "\n",
       "    .dataframe thead th {\n",
       "        text-align: right;\n",
       "    }\n",
       "</style>\n",
       "<table border=\"1\" class=\"dataframe\">\n",
       "  <thead>\n",
       "    <tr style=\"text-align: right;\">\n",
       "      <th></th>\n",
       "      <th>DATA</th>\n",
       "      <th>MONTH</th>\n",
       "      <th>DAYS</th>\n",
       "    </tr>\n",
       "  </thead>\n",
       "  <tbody>\n",
       "    <tr>\n",
       "      <th>2024-01-31</th>\n",
       "      <td>200</td>\n",
       "      <td>January</td>\n",
       "      <td>Wednesday</td>\n",
       "    </tr>\n",
       "    <tr>\n",
       "      <th>2024-02-29</th>\n",
       "      <td>300</td>\n",
       "      <td>February</td>\n",
       "      <td>Thursday</td>\n",
       "    </tr>\n",
       "    <tr>\n",
       "      <th>2024-03-31</th>\n",
       "      <td>400</td>\n",
       "      <td>March</td>\n",
       "      <td>Sunday</td>\n",
       "    </tr>\n",
       "    <tr>\n",
       "      <th>2024-04-30</th>\n",
       "      <td>500</td>\n",
       "      <td>April</td>\n",
       "      <td>Tuesday</td>\n",
       "    </tr>\n",
       "    <tr>\n",
       "      <th>2024-05-31</th>\n",
       "      <td>600</td>\n",
       "      <td>May</td>\n",
       "      <td>Friday</td>\n",
       "    </tr>\n",
       "    <tr>\n",
       "      <th>2024-06-30</th>\n",
       "      <td>700</td>\n",
       "      <td>June</td>\n",
       "      <td>Sunday</td>\n",
       "    </tr>\n",
       "    <tr>\n",
       "      <th>2024-07-31</th>\n",
       "      <td>800</td>\n",
       "      <td>July</td>\n",
       "      <td>Wednesday</td>\n",
       "    </tr>\n",
       "    <tr>\n",
       "      <th>2024-08-31</th>\n",
       "      <td>900</td>\n",
       "      <td>August</td>\n",
       "      <td>Saturday</td>\n",
       "    </tr>\n",
       "    <tr>\n",
       "      <th>2024-09-30</th>\n",
       "      <td>1000</td>\n",
       "      <td>September</td>\n",
       "      <td>Monday</td>\n",
       "    </tr>\n",
       "    <tr>\n",
       "      <th>2024-10-31</th>\n",
       "      <td>1100</td>\n",
       "      <td>October</td>\n",
       "      <td>Thursday</td>\n",
       "    </tr>\n",
       "    <tr>\n",
       "      <th>2024-11-30</th>\n",
       "      <td>1200</td>\n",
       "      <td>November</td>\n",
       "      <td>Saturday</td>\n",
       "    </tr>\n",
       "    <tr>\n",
       "      <th>2024-12-31</th>\n",
       "      <td>1300</td>\n",
       "      <td>December</td>\n",
       "      <td>Tuesday</td>\n",
       "    </tr>\n",
       "  </tbody>\n",
       "</table>\n",
       "</div>"
      ],
      "text/plain": [
       "            DATA      MONTH       DAYS\n",
       "2024-01-31   200    January  Wednesday\n",
       "2024-02-29   300   February   Thursday\n",
       "2024-03-31   400      March     Sunday\n",
       "2024-04-30   500      April    Tuesday\n",
       "2024-05-31   600        May     Friday\n",
       "2024-06-30   700       June     Sunday\n",
       "2024-07-31   800       July  Wednesday\n",
       "2024-08-31   900     August   Saturday\n",
       "2024-09-30  1000  September     Monday\n",
       "2024-10-31  1100    October   Thursday\n",
       "2024-11-30  1200   November   Saturday\n",
       "2024-12-31  1300   December    Tuesday"
      ]
     },
     "execution_count": 74,
     "metadata": {},
     "output_type": "execute_result"
    }
   ],
   "source": [
    "df['DAYS']=df.index.day_name()\n",
    "df"
   ]
  },
  {
   "cell_type": "markdown",
   "id": "125f6d00",
   "metadata": {},
   "source": [
    "## DatetimeIndex 활용 예제 - 요일(day) 열 추가 - 한국(korea)버전\n",
    "| 언어           | 로케일 코드     |\n",
    "| -------------- | --------------- |\n",
    "| 한글 (한국)    | ko_KR.utf8    |\n",
    "| 영어 (미국)    | en_US.utf8    |\n",
    "| 영어 (영국)    | en_GB.utf8    |\n",
    "| 스페인어 (스페인) | es_ES.utf8  |\n",
    "| 프랑스어 (프랑스) | fr_FR.utf8  |\n",
    "| 독일어 (독일)   | de_DE.utf8    |\n",
    "| 이탈리아어 (이탈리아) | it_IT.utf8 |\n",
    "| 일본어 (일본)   | ja_JP.utf8    |\n",
    "| 중국어 (중국)   | zh_CN.utf8    |\n",
    "| 러시아어 (러시아) | ru_RU.utf8   |"
   ]
  },
  {
   "cell_type": "code",
   "execution_count": 78,
   "id": "0065670d",
   "metadata": {},
   "outputs": [
    {
     "data": {
      "text/plain": [
       "Index(['수요일', '목요일', '일요일', '화요일', '금요일', '일요일', '수요일', '토요일', '월요일', '목요일',\n",
       "       '토요일', '화요일'],\n",
       "      dtype='object')"
      ]
     },
     "execution_count": 78,
     "metadata": {},
     "output_type": "execute_result"
    }
   ],
   "source": [
    "df.index.day_name('ko_KR.utf8')"
   ]
  },
  {
   "cell_type": "code",
   "execution_count": 84,
   "id": "168a8c43",
   "metadata": {},
   "outputs": [],
   "source": [
    "df['요일']=df.index.day_name('ko_KR.utf8')"
   ]
  },
  {
   "cell_type": "code",
   "execution_count": 86,
   "id": "28ad7360-218b-4cc8-a62b-b2b2a7e17550",
   "metadata": {},
   "outputs": [
    {
     "data": {
      "text/html": [
       "<div>\n",
       "<style scoped>\n",
       "    .dataframe tbody tr th:only-of-type {\n",
       "        vertical-align: middle;\n",
       "    }\n",
       "\n",
       "    .dataframe tbody tr th {\n",
       "        vertical-align: top;\n",
       "    }\n",
       "\n",
       "    .dataframe thead th {\n",
       "        text-align: right;\n",
       "    }\n",
       "</style>\n",
       "<table border=\"1\" class=\"dataframe\">\n",
       "  <thead>\n",
       "    <tr style=\"text-align: right;\">\n",
       "      <th></th>\n",
       "      <th>DATA</th>\n",
       "      <th>MONTH</th>\n",
       "      <th>DAYS</th>\n",
       "      <th>요일</th>\n",
       "    </tr>\n",
       "  </thead>\n",
       "  <tbody>\n",
       "    <tr>\n",
       "      <th>2024-01-31</th>\n",
       "      <td>200</td>\n",
       "      <td>January</td>\n",
       "      <td>Wednesday</td>\n",
       "      <td>수요일</td>\n",
       "    </tr>\n",
       "    <tr>\n",
       "      <th>2024-02-29</th>\n",
       "      <td>300</td>\n",
       "      <td>February</td>\n",
       "      <td>Thursday</td>\n",
       "      <td>목요일</td>\n",
       "    </tr>\n",
       "    <tr>\n",
       "      <th>2024-03-31</th>\n",
       "      <td>400</td>\n",
       "      <td>March</td>\n",
       "      <td>Sunday</td>\n",
       "      <td>일요일</td>\n",
       "    </tr>\n",
       "    <tr>\n",
       "      <th>2024-04-30</th>\n",
       "      <td>500</td>\n",
       "      <td>April</td>\n",
       "      <td>Tuesday</td>\n",
       "      <td>화요일</td>\n",
       "    </tr>\n",
       "    <tr>\n",
       "      <th>2024-05-31</th>\n",
       "      <td>600</td>\n",
       "      <td>May</td>\n",
       "      <td>Friday</td>\n",
       "      <td>금요일</td>\n",
       "    </tr>\n",
       "    <tr>\n",
       "      <th>2024-06-30</th>\n",
       "      <td>700</td>\n",
       "      <td>June</td>\n",
       "      <td>Sunday</td>\n",
       "      <td>일요일</td>\n",
       "    </tr>\n",
       "    <tr>\n",
       "      <th>2024-07-31</th>\n",
       "      <td>800</td>\n",
       "      <td>July</td>\n",
       "      <td>Wednesday</td>\n",
       "      <td>수요일</td>\n",
       "    </tr>\n",
       "    <tr>\n",
       "      <th>2024-08-31</th>\n",
       "      <td>900</td>\n",
       "      <td>August</td>\n",
       "      <td>Saturday</td>\n",
       "      <td>토요일</td>\n",
       "    </tr>\n",
       "    <tr>\n",
       "      <th>2024-09-30</th>\n",
       "      <td>1000</td>\n",
       "      <td>September</td>\n",
       "      <td>Monday</td>\n",
       "      <td>월요일</td>\n",
       "    </tr>\n",
       "    <tr>\n",
       "      <th>2024-10-31</th>\n",
       "      <td>1100</td>\n",
       "      <td>October</td>\n",
       "      <td>Thursday</td>\n",
       "      <td>목요일</td>\n",
       "    </tr>\n",
       "    <tr>\n",
       "      <th>2024-11-30</th>\n",
       "      <td>1200</td>\n",
       "      <td>November</td>\n",
       "      <td>Saturday</td>\n",
       "      <td>토요일</td>\n",
       "    </tr>\n",
       "    <tr>\n",
       "      <th>2024-12-31</th>\n",
       "      <td>1300</td>\n",
       "      <td>December</td>\n",
       "      <td>Tuesday</td>\n",
       "      <td>화요일</td>\n",
       "    </tr>\n",
       "  </tbody>\n",
       "</table>\n",
       "</div>"
      ],
      "text/plain": [
       "            DATA      MONTH       DAYS   요일\n",
       "2024-01-31   200    January  Wednesday  수요일\n",
       "2024-02-29   300   February   Thursday  목요일\n",
       "2024-03-31   400      March     Sunday  일요일\n",
       "2024-04-30   500      April    Tuesday  화요일\n",
       "2024-05-31   600        May     Friday  금요일\n",
       "2024-06-30   700       June     Sunday  일요일\n",
       "2024-07-31   800       July  Wednesday  수요일\n",
       "2024-08-31   900     August   Saturday  토요일\n",
       "2024-09-30  1000  September     Monday  월요일\n",
       "2024-10-31  1100    October   Thursday  목요일\n",
       "2024-11-30  1200   November   Saturday  토요일\n",
       "2024-12-31  1300   December    Tuesday  화요일"
      ]
     },
     "execution_count": 86,
     "metadata": {},
     "output_type": "execute_result"
    }
   ],
   "source": [
    "df"
   ]
  },
  {
   "cell_type": "code",
   "execution_count": null,
   "id": "709b07b4-c174-4f6f-a2db-033d4876d9cd",
   "metadata": {},
   "outputs": [],
   "source": []
  }
 ],
 "metadata": {
  "kernelspec": {
   "display_name": "Python 3 (ipykernel)",
   "language": "python",
   "name": "python3"
  },
  "language_info": {
   "codemirror_mode": {
    "name": "ipython",
    "version": 3
   },
   "file_extension": ".py",
   "mimetype": "text/x-python",
   "name": "python",
   "nbconvert_exporter": "python",
   "pygments_lexer": "ipython3",
   "version": "3.11.7"
  }
 },
 "nbformat": 4,
 "nbformat_minor": 5
}
