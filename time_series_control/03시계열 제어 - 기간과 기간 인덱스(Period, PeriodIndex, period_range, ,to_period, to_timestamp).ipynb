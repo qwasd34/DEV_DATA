{
 "cells": [
  {
   "cell_type": "markdown",
   "id": "8c73dbf4",
   "metadata": {},
   "source": [
    "## 특정 시간(Timestamp) vs 기간(Period) vs 기간인덱스(PeriodIndex)"
   ]
  },
  {
   "cell_type": "code",
   "execution_count": 3,
   "id": "7f7de7b8",
   "metadata": {},
   "outputs": [],
   "source": [
    "import pandas as pd"
   ]
  },
  {
   "cell_type": "code",
   "execution_count": 7,
   "id": "85ddcaca",
   "metadata": {},
   "outputs": [
    {
     "data": {
      "text/plain": [
       "Timestamp('2024-01-01 00:00:00')"
      ]
     },
     "execution_count": 7,
     "metadata": {},
     "output_type": "execute_result"
    }
   ],
   "source": [
    "# Timestamp - 그 때 -> 몇시 몇분 몇초\n",
    "pd.Timestamp('2024-01-01')"
   ]
  },
  {
   "cell_type": "code",
   "execution_count": 9,
   "id": "ea4b7bb6",
   "metadata": {},
   "outputs": [
    {
     "data": {
      "text/plain": [
       "Period('2024-01-01', 'D')"
      ]
     },
     "execution_count": 9,
     "metadata": {},
     "output_type": "execute_result"
    }
   ],
   "source": [
    "# Period - 그 날 -> 24시간\n",
    "pd.Period('2024-01-01')"
   ]
  },
  {
   "cell_type": "markdown",
   "id": "454b757d",
   "metadata": {},
   "source": [
    "## Period + range = period_range() = PeriodIndex\n",
    "- https://pandas.pydata.org/docs/reference/api/pandas.period_range.html\n",
    "- 사용 방법은 date_range()와 거의 같다."
   ]
  },
  {
   "cell_type": "code",
   "execution_count": 19,
   "id": "1904f71c",
   "metadata": {},
   "outputs": [
    {
     "data": {
      "text/plain": [
       "DatetimeIndex(['2024-01-01', '2024-01-02', '2024-01-03', '2024-01-04',\n",
       "               '2024-01-05', '2024-01-06', '2024-01-07', '2024-01-08',\n",
       "               '2024-01-09', '2024-01-10',\n",
       "               ...\n",
       "               '2024-06-22', '2024-06-23', '2024-06-24', '2024-06-25',\n",
       "               '2024-06-26', '2024-06-27', '2024-06-28', '2024-06-29',\n",
       "               '2024-06-30', '2024-07-01'],\n",
       "              dtype='datetime64[ns]', length=183, freq='D')"
      ]
     },
     "execution_count": 19,
     "metadata": {},
     "output_type": "execute_result"
    }
   ],
   "source": [
    "pd.date_range('2024-01-01','2024-07-01' ,freq='D')"
   ]
  },
  {
   "cell_type": "code",
   "execution_count": 23,
   "id": "383ffe08",
   "metadata": {},
   "outputs": [
    {
     "data": {
      "text/plain": [
       "PeriodIndex(['2024-01', '2024-02', '2024-03', '2024-04', '2024-05', '2024-06',\n",
       "             '2024-07'],\n",
       "            dtype='period[M]')"
      ]
     },
     "execution_count": 23,
     "metadata": {},
     "output_type": "execute_result"
    }
   ],
   "source": [
    "pd.period_range('2024-01-01','2024-07-01', freq='M')"
   ]
  },
  {
   "cell_type": "code",
   "execution_count": 27,
   "id": "046e9f4f",
   "metadata": {},
   "outputs": [
    {
     "data": {
      "text/plain": [
       "DatetimeIndex(['2024-01-31', '2024-02-29', '2024-03-31', '2024-04-30',\n",
       "               '2024-05-31', '2024-06-30'],\n",
       "              dtype='datetime64[ns]', freq='M')"
      ]
     },
     "execution_count": 27,
     "metadata": {},
     "output_type": "execute_result"
    }
   ],
   "source": [
    "# 비교  일수까지 찍힘ㅁ\n",
    "pd.date_range('2024-01-01','2024-07-01' ,freq='M')"
   ]
  },
  {
   "cell_type": "markdown",
   "id": "a8a3a608",
   "metadata": {},
   "source": [
    "### PeriodIndex vs DatetimeIndex\n",
    "- PeriodIndex : 기간 단위의 정보 vs DatetimeIndex : 날짜와 시간의 정밀한 정보\n",
    "- dtype이 period[D], period[M] ... vs datetime64[ns]\n",
    "\n",
    "#### PeriodIndex:\n",
    "- 주어진 기간('2024-01', '2024-02', 등)을 나타내는 Period 객체의 배열로 구성\n",
    "- 각 원소는 해당 기간에 대한 정보\n",
    "    - 일반적으로 연, 월, 분기, 반기 등의 기간 단위를 표현하고 저장\n",
    "- dtype은 'period[M]'으로 표시되며, M은 월 단위\n",
    "    - '2024-01'은 2024년 1월을 나타내는 Period 객체\n",
    "\n",
    "#### DatetimeIndex\n",
    "- 주어진 날짜('2024-01-31', '2024-02-29', 등)를 나타내는 Timestamp 객체의 배열로 구성\n",
    "- 각 원소는 해당 날짜와 시간에 대한 정보를 표현하고 저장\n",
    "- dtype은 'datetime64[ns]'로 표시되며, ns는 나노초 단위의 정밀도를 나타냄\n",
    "    - '2024-01-31'은 2024년 1월 31일을 나타내는 Timestamp 객체 "
   ]
  },
  {
   "cell_type": "markdown",
   "id": "5c90a8d2",
   "metadata": {},
   "source": [
    "## PeriodIndex <-> DatetimeIndex 변환\n",
    "- `to_period()` : DatetimeIndex > PeriodIndex\n",
    "- `to_timestamp()` : PeriodIndex > DatetimeIndex"
   ]
  },
  {
   "cell_type": "code",
   "execution_count": 33,
   "id": "ffdbcd27",
   "metadata": {},
   "outputs": [
    {
     "data": {
      "text/plain": [
       "PeriodIndex(['2024-01', '2024-01', '2024-01', '2024-01', '2024-01', '2024-01',\n",
       "             '2024-01', '2024-01', '2024-01', '2024-01',\n",
       "             ...\n",
       "             '2024-06', '2024-06', '2024-06', '2024-06', '2024-06', '2024-06',\n",
       "             '2024-06', '2024-06', '2024-06', '2024-07'],\n",
       "            dtype='period[M]', length=183)"
      ]
     },
     "execution_count": 33,
     "metadata": {},
     "output_type": "execute_result"
    }
   ],
   "source": [
    "# DatetimeIndex > PeriodIndex\n",
    "pd.date_range('2024-01-01','2024-07-01').to_period(freq='M')"
   ]
  },
  {
   "cell_type": "code",
   "execution_count": 37,
   "id": "a55e06d0",
   "metadata": {},
   "outputs": [
    {
     "data": {
      "text/plain": [
       "DatetimeIndex(['2024-01-01', '2024-02-01', '2024-03-01', '2024-04-01',\n",
       "               '2024-05-01', '2024-06-01', '2024-07-01'],\n",
       "              dtype='datetime64[ns]', freq='MS')"
      ]
     },
     "execution_count": 37,
     "metadata": {},
     "output_type": "execute_result"
    }
   ],
   "source": [
    "# PeriodIndex > DatetimeIndex\n",
    "pd.period_range('2024-01-01','2024-07-01', freq='M').to_timestamp()"
   ]
  },
  {
   "cell_type": "code",
   "execution_count": null,
   "id": "35777869-cf3c-4853-948d-34e62778f5d6",
   "metadata": {},
   "outputs": [],
   "source": []
  }
 ],
 "metadata": {
  "kernelspec": {
   "display_name": "Python 3 (ipykernel)",
   "language": "python",
   "name": "python3"
  },
  "language_info": {
   "codemirror_mode": {
    "name": "ipython",
    "version": 3
   },
   "file_extension": ".py",
   "mimetype": "text/x-python",
   "name": "python",
   "nbconvert_exporter": "python",
   "pygments_lexer": "ipython3",
   "version": "3.11.7"
  }
 },
 "nbformat": 4,
 "nbformat_minor": 5
}
