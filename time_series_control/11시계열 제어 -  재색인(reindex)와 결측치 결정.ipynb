{
 "cells": [
  {
   "cell_type": "markdown",
   "id": "ad76ff07",
   "metadata": {},
   "source": [
    "## 재색인(reindex)\n",
    "- https://pandas.pydata.org/docs/reference/api/pandas.DataFrame.reindex.html\n",
    "- https://pandas.pydata.org/docs/reference/api/pandas.Series.reindex.html\n",
    "- https://pandas.pydata.org/docs/reference/api/pandas.Index.reindex.html\n",
    "- 인덱스를 새로운 인덱스로 변경하거나 재정렬하는 작업\n",
    "- 데이터를 새로운 인덱스에 맞게 재배열하거나 누락된 값을 처리하는 데 유용\n",
    "- 시리즈, 데이터프레임 모두 가능"
   ]
  },
  {
   "cell_type": "markdown",
   "id": "58751ee4",
   "metadata": {},
   "source": [
    "## 재색인 간단 예제"
   ]
  },
  {
   "cell_type": "code",
   "execution_count": 1,
   "id": "b3222b88",
   "metadata": {},
   "outputs": [],
   "source": [
    "import pandas as pd"
   ]
  },
  {
   "cell_type": "markdown",
   "id": "c40c37cd",
   "metadata": {},
   "source": [
    "### Series"
   ]
  },
  {
   "cell_type": "code",
   "execution_count": 3,
   "id": "57b40a08",
   "metadata": {},
   "outputs": [
    {
     "data": {
      "text/plain": [
       "a    1\n",
       "b    2\n",
       "c    3\n",
       "dtype: int64"
      ]
     },
     "execution_count": 3,
     "metadata": {},
     "output_type": "execute_result"
    }
   ],
   "source": [
    "# 기존 Series 생성\n",
    "series = pd.Series([1, 2, 3], index=['a', 'b', 'c'])\n",
    "series"
   ]
  },
  {
   "cell_type": "code",
   "execution_count": 6,
   "id": "9f341601",
   "metadata": {},
   "outputs": [],
   "source": [
    "# 새로운 인덱스로 재정렬\n",
    "new_index = ['c', 'b', 'a', 'd']\n",
    "new_series = series.reindex(new_index)"
   ]
  },
  {
   "cell_type": "code",
   "execution_count": 8,
   "id": "2bcc7517",
   "metadata": {},
   "outputs": [
    {
     "data": {
      "text/plain": [
       "c    3.0\n",
       "b    2.0\n",
       "a    1.0\n",
       "d    NaN\n",
       "dtype: float64"
      ]
     },
     "execution_count": 8,
     "metadata": {},
     "output_type": "execute_result"
    }
   ],
   "source": [
    "new_series"
   ]
  },
  {
   "cell_type": "markdown",
   "id": "ef5a4424",
   "metadata": {},
   "source": [
    "### DataFrame"
   ]
  },
  {
   "cell_type": "code",
   "execution_count": 13,
   "id": "5b2bd0a5",
   "metadata": {},
   "outputs": [
    {
     "data": {
      "text/html": [
       "<div>\n",
       "<style scoped>\n",
       "    .dataframe tbody tr th:only-of-type {\n",
       "        vertical-align: middle;\n",
       "    }\n",
       "\n",
       "    .dataframe tbody tr th {\n",
       "        vertical-align: top;\n",
       "    }\n",
       "\n",
       "    .dataframe thead th {\n",
       "        text-align: right;\n",
       "    }\n",
       "</style>\n",
       "<table border=\"1\" class=\"dataframe\">\n",
       "  <thead>\n",
       "    <tr style=\"text-align: right;\">\n",
       "      <th></th>\n",
       "      <th>A</th>\n",
       "      <th>B</th>\n",
       "    </tr>\n",
       "  </thead>\n",
       "  <tbody>\n",
       "    <tr>\n",
       "      <th>a</th>\n",
       "      <td>1</td>\n",
       "      <td>4</td>\n",
       "    </tr>\n",
       "    <tr>\n",
       "      <th>b</th>\n",
       "      <td>2</td>\n",
       "      <td>5</td>\n",
       "    </tr>\n",
       "    <tr>\n",
       "      <th>c</th>\n",
       "      <td>3</td>\n",
       "      <td>6</td>\n",
       "    </tr>\n",
       "  </tbody>\n",
       "</table>\n",
       "</div>"
      ],
      "text/plain": [
       "   A  B\n",
       "a  1  4\n",
       "b  2  5\n",
       "c  3  6"
      ]
     },
     "execution_count": 13,
     "metadata": {},
     "output_type": "execute_result"
    }
   ],
   "source": [
    "# 기존 DataFrame 생성\n",
    "df = pd.DataFrame({'A': [1, 2, 3], 'B': [4, 5, 6]}, index=['a', 'b', 'c'])\n",
    "df"
   ]
  },
  {
   "cell_type": "code",
   "execution_count": 15,
   "id": "cf1e3ed3",
   "metadata": {},
   "outputs": [],
   "source": [
    "# 새로운 인덱스로 재정렬\n",
    "new_index = ['c', 'b', 'a', 'd']\n",
    "new_df = df.reindex(new_index)"
   ]
  },
  {
   "cell_type": "code",
   "execution_count": 17,
   "id": "ef28079e",
   "metadata": {},
   "outputs": [
    {
     "data": {
      "text/html": [
       "<div>\n",
       "<style scoped>\n",
       "    .dataframe tbody tr th:only-of-type {\n",
       "        vertical-align: middle;\n",
       "    }\n",
       "\n",
       "    .dataframe tbody tr th {\n",
       "        vertical-align: top;\n",
       "    }\n",
       "\n",
       "    .dataframe thead th {\n",
       "        text-align: right;\n",
       "    }\n",
       "</style>\n",
       "<table border=\"1\" class=\"dataframe\">\n",
       "  <thead>\n",
       "    <tr style=\"text-align: right;\">\n",
       "      <th></th>\n",
       "      <th>A</th>\n",
       "      <th>B</th>\n",
       "    </tr>\n",
       "  </thead>\n",
       "  <tbody>\n",
       "    <tr>\n",
       "      <th>c</th>\n",
       "      <td>3.0</td>\n",
       "      <td>6.0</td>\n",
       "    </tr>\n",
       "    <tr>\n",
       "      <th>b</th>\n",
       "      <td>2.0</td>\n",
       "      <td>5.0</td>\n",
       "    </tr>\n",
       "    <tr>\n",
       "      <th>a</th>\n",
       "      <td>1.0</td>\n",
       "      <td>4.0</td>\n",
       "    </tr>\n",
       "    <tr>\n",
       "      <th>d</th>\n",
       "      <td>NaN</td>\n",
       "      <td>NaN</td>\n",
       "    </tr>\n",
       "  </tbody>\n",
       "</table>\n",
       "</div>"
      ],
      "text/plain": [
       "     A    B\n",
       "c  3.0  6.0\n",
       "b  2.0  5.0\n",
       "a  1.0  4.0\n",
       "d  NaN  NaN"
      ]
     },
     "execution_count": 17,
     "metadata": {},
     "output_type": "execute_result"
    }
   ],
   "source": [
    "new_df"
   ]
  },
  {
   "cell_type": "markdown",
   "id": "8c73dbf4",
   "metadata": {},
   "source": [
    "## 본 데이터 실습 - 시계열의 재색인"
   ]
  },
  {
   "cell_type": "code",
   "execution_count": 19,
   "id": "bfa6a146",
   "metadata": {},
   "outputs": [],
   "source": [
    "cols=['date', 'open', 'high', 'low', 'close']"
   ]
  },
  {
   "cell_type": "code",
   "execution_count": 21,
   "id": "376791c7",
   "metadata": {},
   "outputs": [],
   "source": [
    "stocks=pd.read_csv('AAPL.csv', usecols= cols, index_col='date',parse_dates=['date'])"
   ]
  },
  {
   "cell_type": "code",
   "execution_count": 25,
   "id": "6b633504",
   "metadata": {},
   "outputs": [
    {
     "data": {
      "text/html": [
       "<div>\n",
       "<style scoped>\n",
       "    .dataframe tbody tr th:only-of-type {\n",
       "        vertical-align: middle;\n",
       "    }\n",
       "\n",
       "    .dataframe tbody tr th {\n",
       "        vertical-align: top;\n",
       "    }\n",
       "\n",
       "    .dataframe thead th {\n",
       "        text-align: right;\n",
       "    }\n",
       "</style>\n",
       "<table border=\"1\" class=\"dataframe\">\n",
       "  <thead>\n",
       "    <tr style=\"text-align: right;\">\n",
       "      <th></th>\n",
       "      <th>close</th>\n",
       "      <th>high</th>\n",
       "      <th>low</th>\n",
       "      <th>open</th>\n",
       "    </tr>\n",
       "    <tr>\n",
       "      <th>date</th>\n",
       "      <th></th>\n",
       "      <th></th>\n",
       "      <th></th>\n",
       "      <th></th>\n",
       "    </tr>\n",
       "  </thead>\n",
       "  <tbody>\n",
       "    <tr>\n",
       "      <th>2016-01-04 00:00:00+00:00</th>\n",
       "      <td>105.35</td>\n",
       "      <td>105.3680</td>\n",
       "      <td>102.00</td>\n",
       "      <td>102.61</td>\n",
       "    </tr>\n",
       "    <tr>\n",
       "      <th>2016-01-05 00:00:00+00:00</th>\n",
       "      <td>102.71</td>\n",
       "      <td>105.8500</td>\n",
       "      <td>102.41</td>\n",
       "      <td>105.75</td>\n",
       "    </tr>\n",
       "    <tr>\n",
       "      <th>2016-01-06 00:00:00+00:00</th>\n",
       "      <td>100.70</td>\n",
       "      <td>102.3700</td>\n",
       "      <td>99.87</td>\n",
       "      <td>100.56</td>\n",
       "    </tr>\n",
       "    <tr>\n",
       "      <th>2016-01-07 00:00:00+00:00</th>\n",
       "      <td>96.45</td>\n",
       "      <td>100.1300</td>\n",
       "      <td>96.43</td>\n",
       "      <td>98.68</td>\n",
       "    </tr>\n",
       "    <tr>\n",
       "      <th>2016-01-08 00:00:00+00:00</th>\n",
       "      <td>96.96</td>\n",
       "      <td>99.1100</td>\n",
       "      <td>96.76</td>\n",
       "      <td>98.55</td>\n",
       "    </tr>\n",
       "    <tr>\n",
       "      <th>...</th>\n",
       "      <td>...</td>\n",
       "      <td>...</td>\n",
       "      <td>...</td>\n",
       "      <td>...</td>\n",
       "    </tr>\n",
       "    <tr>\n",
       "      <th>2016-12-23 00:00:00+00:00</th>\n",
       "      <td>116.52</td>\n",
       "      <td>116.5200</td>\n",
       "      <td>115.59</td>\n",
       "      <td>115.59</td>\n",
       "    </tr>\n",
       "    <tr>\n",
       "      <th>2016-12-27 00:00:00+00:00</th>\n",
       "      <td>117.26</td>\n",
       "      <td>117.8000</td>\n",
       "      <td>116.49</td>\n",
       "      <td>116.52</td>\n",
       "    </tr>\n",
       "    <tr>\n",
       "      <th>2016-12-28 00:00:00+00:00</th>\n",
       "      <td>116.76</td>\n",
       "      <td>118.0166</td>\n",
       "      <td>116.20</td>\n",
       "      <td>117.52</td>\n",
       "    </tr>\n",
       "    <tr>\n",
       "      <th>2016-12-29 00:00:00+00:00</th>\n",
       "      <td>116.73</td>\n",
       "      <td>117.1095</td>\n",
       "      <td>116.40</td>\n",
       "      <td>116.45</td>\n",
       "    </tr>\n",
       "    <tr>\n",
       "      <th>2016-12-30 00:00:00+00:00</th>\n",
       "      <td>115.82</td>\n",
       "      <td>117.2000</td>\n",
       "      <td>115.43</td>\n",
       "      <td>116.65</td>\n",
       "    </tr>\n",
       "  </tbody>\n",
       "</table>\n",
       "<p>252 rows × 4 columns</p>\n",
       "</div>"
      ],
      "text/plain": [
       "                            close      high     low    open\n",
       "date                                                       \n",
       "2016-01-04 00:00:00+00:00  105.35  105.3680  102.00  102.61\n",
       "2016-01-05 00:00:00+00:00  102.71  105.8500  102.41  105.75\n",
       "2016-01-06 00:00:00+00:00  100.70  102.3700   99.87  100.56\n",
       "2016-01-07 00:00:00+00:00   96.45  100.1300   96.43   98.68\n",
       "2016-01-08 00:00:00+00:00   96.96   99.1100   96.76   98.55\n",
       "...                           ...       ...     ...     ...\n",
       "2016-12-23 00:00:00+00:00  116.52  116.5200  115.59  115.59\n",
       "2016-12-27 00:00:00+00:00  117.26  117.8000  116.49  116.52\n",
       "2016-12-28 00:00:00+00:00  116.76  118.0166  116.20  117.52\n",
       "2016-12-29 00:00:00+00:00  116.73  117.1095  116.40  116.45\n",
       "2016-12-30 00:00:00+00:00  115.82  117.2000  115.43  116.65\n",
       "\n",
       "[252 rows x 4 columns]"
      ]
     },
     "execution_count": 25,
     "metadata": {},
     "output_type": "execute_result"
    }
   ],
   "source": [
    "stocks.loc['2016']"
   ]
  },
  {
   "cell_type": "markdown",
   "id": "de194b3f",
   "metadata": {},
   "source": [
    "현재 위 데이터에 없는 요일이 있다."
   ]
  },
  {
   "cell_type": "code",
   "execution_count": 29,
   "id": "9b85cd65",
   "metadata": {},
   "outputs": [
    {
     "data": {
      "text/plain": [
       "date\n",
       "Wednesday    257\n",
       "Tuesday      257\n",
       "Thursday     255\n",
       "Friday       253\n",
       "Monday       236\n",
       "Name: count, dtype: int64"
      ]
     },
     "execution_count": 29,
     "metadata": {},
     "output_type": "execute_result"
    }
   ],
   "source": [
    "#없는 요일 확인\n",
    "stocks.index.day_name().value_counts()"
   ]
  },
  {
   "cell_type": "code",
   "execution_count": 33,
   "id": "aea6461c-301e-4852-8b3e-100a12e8a216",
   "metadata": {},
   "outputs": [
    {
     "data": {
      "text/plain": [
       "DatetimeIndex(['2015-05-27 00:00:00+00:00', '2015-05-28 00:00:00+00:00',\n",
       "               '2015-05-29 00:00:00+00:00', '2015-06-01 00:00:00+00:00',\n",
       "               '2015-06-02 00:00:00+00:00', '2015-06-03 00:00:00+00:00',\n",
       "               '2015-06-04 00:00:00+00:00', '2015-06-05 00:00:00+00:00',\n",
       "               '2015-06-08 00:00:00+00:00', '2015-06-09 00:00:00+00:00',\n",
       "               ...\n",
       "               '2020-05-11 00:00:00+00:00', '2020-05-12 00:00:00+00:00',\n",
       "               '2020-05-13 00:00:00+00:00', '2020-05-14 00:00:00+00:00',\n",
       "               '2020-05-15 00:00:00+00:00', '2020-05-18 00:00:00+00:00',\n",
       "               '2020-05-19 00:00:00+00:00', '2020-05-20 00:00:00+00:00',\n",
       "               '2020-05-21 00:00:00+00:00', '2020-05-22 00:00:00+00:00'],\n",
       "              dtype='datetime64[ns, UTC]', name='date', length=1258, freq=None)"
      ]
     },
     "execution_count": 33,
     "metadata": {},
     "output_type": "execute_result"
    }
   ],
   "source": [
    "#토일이 없네!, 요일만 가지고 할수없음 공휴일인데 평일 일수도 있음\n",
    "stocks.index"
   ]
  },
  {
   "cell_type": "markdown",
   "id": "782621eb",
   "metadata": {},
   "source": [
    "## 월화수목금+토일"
   ]
  },
  {
   "cell_type": "markdown",
   "id": "b4c43bc6",
   "metadata": {},
   "source": [
    "### 1. 기간 찾기"
   ]
  },
  {
   "cell_type": "code",
   "execution_count": 37,
   "id": "967dd02a",
   "metadata": {},
   "outputs": [
    {
     "data": {
      "text/plain": [
       "Timestamp('2015-05-27 00:00:00+0000', tz='UTC')"
      ]
     },
     "execution_count": 37,
     "metadata": {},
     "output_type": "execute_result"
    }
   ],
   "source": [
    "# 가장 과거 날짜\n",
    "min_date=stocks.index.min()\n",
    "min_date"
   ]
  },
  {
   "cell_type": "code",
   "execution_count": 39,
   "id": "1c84225b",
   "metadata": {},
   "outputs": [
    {
     "data": {
      "text/plain": [
       "Timestamp('2020-05-22 00:00:00+0000', tz='UTC')"
      ]
     },
     "execution_count": 39,
     "metadata": {},
     "output_type": "execute_result"
    }
   ],
   "source": [
    "# 가장 최근 날짜\n",
    "max_date=stocks.index.max()\n",
    "max_date"
   ]
  },
  {
   "cell_type": "markdown",
   "id": "8a2c26ed",
   "metadata": {},
   "source": [
    "2개 모두 Timestamp()이니 날짜 포맷 문자열 대신 활용 가능"
   ]
  },
  {
   "cell_type": "markdown",
   "id": "302bd14f",
   "metadata": {},
   "source": [
    "### 2. 비어있는 날짜까지 데이터 생성"
   ]
  },
  {
   "cell_type": "code",
   "execution_count": 45,
   "id": "7233f1a8",
   "metadata": {},
   "outputs": [
    {
     "data": {
      "text/plain": [
       "DatetimeIndex(['2015-05-27 00:00:00+00:00', '2015-05-28 00:00:00+00:00',\n",
       "               '2015-05-29 00:00:00+00:00', '2015-05-30 00:00:00+00:00',\n",
       "               '2015-05-31 00:00:00+00:00', '2015-06-01 00:00:00+00:00',\n",
       "               '2015-06-02 00:00:00+00:00', '2015-06-03 00:00:00+00:00',\n",
       "               '2015-06-04 00:00:00+00:00', '2015-06-05 00:00:00+00:00',\n",
       "               ...\n",
       "               '2020-05-13 00:00:00+00:00', '2020-05-14 00:00:00+00:00',\n",
       "               '2020-05-15 00:00:00+00:00', '2020-05-16 00:00:00+00:00',\n",
       "               '2020-05-17 00:00:00+00:00', '2020-05-18 00:00:00+00:00',\n",
       "               '2020-05-19 00:00:00+00:00', '2020-05-20 00:00:00+00:00',\n",
       "               '2020-05-21 00:00:00+00:00', '2020-05-22 00:00:00+00:00'],\n",
       "              dtype='datetime64[ns, UTC]', length=1823, freq='D')"
      ]
     },
     "execution_count": 45,
     "metadata": {},
     "output_type": "execute_result"
    }
   ],
   "source": [
    "all_date=pd.date_range(min_date,max_date)\n",
    "all_date\n",
    "#인덱스! "
   ]
  },
  {
   "cell_type": "code",
   "execution_count": 49,
   "id": "874cd7c0-2796-4cca-a777-ec2f37c18d2a",
   "metadata": {},
   "outputs": [
    {
     "data": {
      "text/plain": [
       "Wednesday    261\n",
       "Thursday     261\n",
       "Friday       261\n",
       "Saturday     260\n",
       "Sunday       260\n",
       "Monday       260\n",
       "Tuesday      260\n",
       "Name: count, dtype: int64"
      ]
     },
     "execution_count": 49,
     "metadata": {},
     "output_type": "execute_result"
    }
   ],
   "source": [
    "all_date.day_name().value_counts()"
   ]
  },
  {
   "cell_type": "markdown",
   "id": "b9cb43f4",
   "metadata": {},
   "source": [
    "### 3.1 재색인(reindex) + 결측치 채우기('휴장)"
   ]
  },
  {
   "cell_type": "code",
   "execution_count": 51,
   "id": "ea080191",
   "metadata": {
    "scrolled": true
   },
   "outputs": [
    {
     "data": {
      "text/html": [
       "<div>\n",
       "<style scoped>\n",
       "    .dataframe tbody tr th:only-of-type {\n",
       "        vertical-align: middle;\n",
       "    }\n",
       "\n",
       "    .dataframe tbody tr th {\n",
       "        vertical-align: top;\n",
       "    }\n",
       "\n",
       "    .dataframe thead th {\n",
       "        text-align: right;\n",
       "    }\n",
       "</style>\n",
       "<table border=\"1\" class=\"dataframe\">\n",
       "  <thead>\n",
       "    <tr style=\"text-align: right;\">\n",
       "      <th></th>\n",
       "      <th>close</th>\n",
       "      <th>high</th>\n",
       "      <th>low</th>\n",
       "      <th>open</th>\n",
       "    </tr>\n",
       "  </thead>\n",
       "  <tbody>\n",
       "    <tr>\n",
       "      <th>2015-05-27 00:00:00+00:00</th>\n",
       "      <td>132.045</td>\n",
       "      <td>132.26</td>\n",
       "      <td>130.0500</td>\n",
       "      <td>130.34</td>\n",
       "    </tr>\n",
       "    <tr>\n",
       "      <th>2015-05-28 00:00:00+00:00</th>\n",
       "      <td>131.780</td>\n",
       "      <td>131.95</td>\n",
       "      <td>131.1000</td>\n",
       "      <td>131.86</td>\n",
       "    </tr>\n",
       "    <tr>\n",
       "      <th>2015-05-29 00:00:00+00:00</th>\n",
       "      <td>130.280</td>\n",
       "      <td>131.45</td>\n",
       "      <td>129.9000</td>\n",
       "      <td>131.23</td>\n",
       "    </tr>\n",
       "    <tr>\n",
       "      <th>2015-05-30 00:00:00+00:00</th>\n",
       "      <td>NaN</td>\n",
       "      <td>NaN</td>\n",
       "      <td>NaN</td>\n",
       "      <td>NaN</td>\n",
       "    </tr>\n",
       "    <tr>\n",
       "      <th>2015-05-31 00:00:00+00:00</th>\n",
       "      <td>NaN</td>\n",
       "      <td>NaN</td>\n",
       "      <td>NaN</td>\n",
       "      <td>NaN</td>\n",
       "    </tr>\n",
       "    <tr>\n",
       "      <th>...</th>\n",
       "      <td>...</td>\n",
       "      <td>...</td>\n",
       "      <td>...</td>\n",
       "      <td>...</td>\n",
       "    </tr>\n",
       "    <tr>\n",
       "      <th>2020-05-18 00:00:00+00:00</th>\n",
       "      <td>314.960</td>\n",
       "      <td>316.50</td>\n",
       "      <td>310.3241</td>\n",
       "      <td>313.17</td>\n",
       "    </tr>\n",
       "    <tr>\n",
       "      <th>2020-05-19 00:00:00+00:00</th>\n",
       "      <td>313.140</td>\n",
       "      <td>318.52</td>\n",
       "      <td>313.0100</td>\n",
       "      <td>315.03</td>\n",
       "    </tr>\n",
       "    <tr>\n",
       "      <th>2020-05-20 00:00:00+00:00</th>\n",
       "      <td>319.230</td>\n",
       "      <td>319.52</td>\n",
       "      <td>316.2000</td>\n",
       "      <td>316.68</td>\n",
       "    </tr>\n",
       "    <tr>\n",
       "      <th>2020-05-21 00:00:00+00:00</th>\n",
       "      <td>316.850</td>\n",
       "      <td>320.89</td>\n",
       "      <td>315.8700</td>\n",
       "      <td>318.66</td>\n",
       "    </tr>\n",
       "    <tr>\n",
       "      <th>2020-05-22 00:00:00+00:00</th>\n",
       "      <td>318.890</td>\n",
       "      <td>319.23</td>\n",
       "      <td>315.3500</td>\n",
       "      <td>315.77</td>\n",
       "    </tr>\n",
       "  </tbody>\n",
       "</table>\n",
       "<p>1823 rows × 4 columns</p>\n",
       "</div>"
      ],
      "text/plain": [
       "                             close    high       low    open\n",
       "2015-05-27 00:00:00+00:00  132.045  132.26  130.0500  130.34\n",
       "2015-05-28 00:00:00+00:00  131.780  131.95  131.1000  131.86\n",
       "2015-05-29 00:00:00+00:00  130.280  131.45  129.9000  131.23\n",
       "2015-05-30 00:00:00+00:00      NaN     NaN       NaN     NaN\n",
       "2015-05-31 00:00:00+00:00      NaN     NaN       NaN     NaN\n",
       "...                            ...     ...       ...     ...\n",
       "2020-05-18 00:00:00+00:00  314.960  316.50  310.3241  313.17\n",
       "2020-05-19 00:00:00+00:00  313.140  318.52  313.0100  315.03\n",
       "2020-05-20 00:00:00+00:00  319.230  319.52  316.2000  316.68\n",
       "2020-05-21 00:00:00+00:00  316.850  320.89  315.8700  318.66\n",
       "2020-05-22 00:00:00+00:00  318.890  319.23  315.3500  315.77\n",
       "\n",
       "[1823 rows x 4 columns]"
      ]
     },
     "execution_count": 51,
     "metadata": {},
     "output_type": "execute_result"
    }
   ],
   "source": [
    "#동일 날짜는 그대로 없는 날짜는 NA 나옴\n",
    "stocks.reindex(all_date)"
   ]
  },
  {
   "cell_type": "code",
   "execution_count": 59,
   "id": "0927e65f",
   "metadata": {},
   "outputs": [],
   "source": [
    "# .fillna()로 채우거나, fill_value=로 채우거나\n",
    "#stocks.reindex(all_date).fillna('휴장')\n",
    "stocks_new1=stocks.reindex(all_date, fill_value='휴장')"
   ]
  },
  {
   "cell_type": "markdown",
   "id": "cbc6e60c",
   "metadata": {},
   "source": [
    "### 3.2 재색인(reindex) + 결측치 채우기(이전일)"
   ]
  },
  {
   "cell_type": "code",
   "execution_count": 63,
   "id": "d1fb538b",
   "metadata": {},
   "outputs": [
    {
     "data": {
      "text/html": [
       "<div>\n",
       "<style scoped>\n",
       "    .dataframe tbody tr th:only-of-type {\n",
       "        vertical-align: middle;\n",
       "    }\n",
       "\n",
       "    .dataframe tbody tr th {\n",
       "        vertical-align: top;\n",
       "    }\n",
       "\n",
       "    .dataframe thead th {\n",
       "        text-align: right;\n",
       "    }\n",
       "</style>\n",
       "<table border=\"1\" class=\"dataframe\">\n",
       "  <thead>\n",
       "    <tr style=\"text-align: right;\">\n",
       "      <th></th>\n",
       "      <th>close</th>\n",
       "      <th>high</th>\n",
       "      <th>low</th>\n",
       "      <th>open</th>\n",
       "    </tr>\n",
       "  </thead>\n",
       "  <tbody>\n",
       "    <tr>\n",
       "      <th>2015-05-27 00:00:00+00:00</th>\n",
       "      <td>132.045</td>\n",
       "      <td>132.26</td>\n",
       "      <td>130.0500</td>\n",
       "      <td>130.34</td>\n",
       "    </tr>\n",
       "    <tr>\n",
       "      <th>2015-05-28 00:00:00+00:00</th>\n",
       "      <td>131.780</td>\n",
       "      <td>131.95</td>\n",
       "      <td>131.1000</td>\n",
       "      <td>131.86</td>\n",
       "    </tr>\n",
       "    <tr>\n",
       "      <th>2015-05-29 00:00:00+00:00</th>\n",
       "      <td>130.280</td>\n",
       "      <td>131.45</td>\n",
       "      <td>129.9000</td>\n",
       "      <td>131.23</td>\n",
       "    </tr>\n",
       "    <tr>\n",
       "      <th>2015-05-30 00:00:00+00:00</th>\n",
       "      <td>130.280</td>\n",
       "      <td>131.45</td>\n",
       "      <td>129.9000</td>\n",
       "      <td>131.23</td>\n",
       "    </tr>\n",
       "    <tr>\n",
       "      <th>2015-05-31 00:00:00+00:00</th>\n",
       "      <td>130.280</td>\n",
       "      <td>131.45</td>\n",
       "      <td>129.9000</td>\n",
       "      <td>131.23</td>\n",
       "    </tr>\n",
       "    <tr>\n",
       "      <th>...</th>\n",
       "      <td>...</td>\n",
       "      <td>...</td>\n",
       "      <td>...</td>\n",
       "      <td>...</td>\n",
       "    </tr>\n",
       "    <tr>\n",
       "      <th>2020-05-18 00:00:00+00:00</th>\n",
       "      <td>314.960</td>\n",
       "      <td>316.50</td>\n",
       "      <td>310.3241</td>\n",
       "      <td>313.17</td>\n",
       "    </tr>\n",
       "    <tr>\n",
       "      <th>2020-05-19 00:00:00+00:00</th>\n",
       "      <td>313.140</td>\n",
       "      <td>318.52</td>\n",
       "      <td>313.0100</td>\n",
       "      <td>315.03</td>\n",
       "    </tr>\n",
       "    <tr>\n",
       "      <th>2020-05-20 00:00:00+00:00</th>\n",
       "      <td>319.230</td>\n",
       "      <td>319.52</td>\n",
       "      <td>316.2000</td>\n",
       "      <td>316.68</td>\n",
       "    </tr>\n",
       "    <tr>\n",
       "      <th>2020-05-21 00:00:00+00:00</th>\n",
       "      <td>316.850</td>\n",
       "      <td>320.89</td>\n",
       "      <td>315.8700</td>\n",
       "      <td>318.66</td>\n",
       "    </tr>\n",
       "    <tr>\n",
       "      <th>2020-05-22 00:00:00+00:00</th>\n",
       "      <td>318.890</td>\n",
       "      <td>319.23</td>\n",
       "      <td>315.3500</td>\n",
       "      <td>315.77</td>\n",
       "    </tr>\n",
       "  </tbody>\n",
       "</table>\n",
       "<p>1823 rows × 4 columns</p>\n",
       "</div>"
      ],
      "text/plain": [
       "                             close    high       low    open\n",
       "2015-05-27 00:00:00+00:00  132.045  132.26  130.0500  130.34\n",
       "2015-05-28 00:00:00+00:00  131.780  131.95  131.1000  131.86\n",
       "2015-05-29 00:00:00+00:00  130.280  131.45  129.9000  131.23\n",
       "2015-05-30 00:00:00+00:00  130.280  131.45  129.9000  131.23\n",
       "2015-05-31 00:00:00+00:00  130.280  131.45  129.9000  131.23\n",
       "...                            ...     ...       ...     ...\n",
       "2020-05-18 00:00:00+00:00  314.960  316.50  310.3241  313.17\n",
       "2020-05-19 00:00:00+00:00  313.140  318.52  313.0100  315.03\n",
       "2020-05-20 00:00:00+00:00  319.230  319.52  316.2000  316.68\n",
       "2020-05-21 00:00:00+00:00  316.850  320.89  315.8700  318.66\n",
       "2020-05-22 00:00:00+00:00  318.890  319.23  315.3500  315.77\n",
       "\n",
       "[1823 rows x 4 columns]"
      ]
     },
     "execution_count": 63,
     "metadata": {},
     "output_type": "execute_result"
    }
   ],
   "source": [
    "# 어차피 가격이 넘어와 .. 이전값으로 채우기\n",
    "stocks.reindex(all_date).ffill()"
   ]
  },
  {
   "cell_type": "code",
   "execution_count": 69,
   "id": "28a06706",
   "metadata": {},
   "outputs": [],
   "source": [
    "#reindex 메소드로 사용하기 \n",
    "st_new2=stocks.reindex(all_date , method='ffill')\n"
   ]
  },
  {
   "cell_type": "markdown",
   "id": "cc052d32",
   "metadata": {},
   "source": [
    "## 4. 요일 열 추가"
   ]
  },
  {
   "cell_type": "code",
   "execution_count": 73,
   "id": "eb01f46b-7065-4a49-892b-8d6a07abcbb8",
   "metadata": {},
   "outputs": [],
   "source": [
    "yo=st_new2.index.day_name(locale='ko_KR.utf8')"
   ]
  },
  {
   "cell_type": "code",
   "execution_count": 75,
   "id": "657955dc",
   "metadata": {},
   "outputs": [],
   "source": [
    "st_new2.insert(0, '요일', yo)"
   ]
  },
  {
   "cell_type": "code",
   "execution_count": 77,
   "id": "5a4f394e-4851-4ee9-bc17-5f9f4f182524",
   "metadata": {},
   "outputs": [
    {
     "data": {
      "text/html": [
       "<div>\n",
       "<style scoped>\n",
       "    .dataframe tbody tr th:only-of-type {\n",
       "        vertical-align: middle;\n",
       "    }\n",
       "\n",
       "    .dataframe tbody tr th {\n",
       "        vertical-align: top;\n",
       "    }\n",
       "\n",
       "    .dataframe thead th {\n",
       "        text-align: right;\n",
       "    }\n",
       "</style>\n",
       "<table border=\"1\" class=\"dataframe\">\n",
       "  <thead>\n",
       "    <tr style=\"text-align: right;\">\n",
       "      <th></th>\n",
       "      <th>요일</th>\n",
       "      <th>close</th>\n",
       "      <th>high</th>\n",
       "      <th>low</th>\n",
       "      <th>open</th>\n",
       "    </tr>\n",
       "  </thead>\n",
       "  <tbody>\n",
       "    <tr>\n",
       "      <th>2015-05-27 00:00:00+00:00</th>\n",
       "      <td>수요일</td>\n",
       "      <td>132.045</td>\n",
       "      <td>132.26</td>\n",
       "      <td>130.0500</td>\n",
       "      <td>130.34</td>\n",
       "    </tr>\n",
       "    <tr>\n",
       "      <th>2015-05-28 00:00:00+00:00</th>\n",
       "      <td>목요일</td>\n",
       "      <td>131.780</td>\n",
       "      <td>131.95</td>\n",
       "      <td>131.1000</td>\n",
       "      <td>131.86</td>\n",
       "    </tr>\n",
       "    <tr>\n",
       "      <th>2015-05-29 00:00:00+00:00</th>\n",
       "      <td>금요일</td>\n",
       "      <td>130.280</td>\n",
       "      <td>131.45</td>\n",
       "      <td>129.9000</td>\n",
       "      <td>131.23</td>\n",
       "    </tr>\n",
       "    <tr>\n",
       "      <th>2015-05-30 00:00:00+00:00</th>\n",
       "      <td>토요일</td>\n",
       "      <td>130.280</td>\n",
       "      <td>131.45</td>\n",
       "      <td>129.9000</td>\n",
       "      <td>131.23</td>\n",
       "    </tr>\n",
       "    <tr>\n",
       "      <th>2015-05-31 00:00:00+00:00</th>\n",
       "      <td>일요일</td>\n",
       "      <td>130.280</td>\n",
       "      <td>131.45</td>\n",
       "      <td>129.9000</td>\n",
       "      <td>131.23</td>\n",
       "    </tr>\n",
       "    <tr>\n",
       "      <th>...</th>\n",
       "      <td>...</td>\n",
       "      <td>...</td>\n",
       "      <td>...</td>\n",
       "      <td>...</td>\n",
       "      <td>...</td>\n",
       "    </tr>\n",
       "    <tr>\n",
       "      <th>2020-05-18 00:00:00+00:00</th>\n",
       "      <td>월요일</td>\n",
       "      <td>314.960</td>\n",
       "      <td>316.50</td>\n",
       "      <td>310.3241</td>\n",
       "      <td>313.17</td>\n",
       "    </tr>\n",
       "    <tr>\n",
       "      <th>2020-05-19 00:00:00+00:00</th>\n",
       "      <td>화요일</td>\n",
       "      <td>313.140</td>\n",
       "      <td>318.52</td>\n",
       "      <td>313.0100</td>\n",
       "      <td>315.03</td>\n",
       "    </tr>\n",
       "    <tr>\n",
       "      <th>2020-05-20 00:00:00+00:00</th>\n",
       "      <td>수요일</td>\n",
       "      <td>319.230</td>\n",
       "      <td>319.52</td>\n",
       "      <td>316.2000</td>\n",
       "      <td>316.68</td>\n",
       "    </tr>\n",
       "    <tr>\n",
       "      <th>2020-05-21 00:00:00+00:00</th>\n",
       "      <td>목요일</td>\n",
       "      <td>316.850</td>\n",
       "      <td>320.89</td>\n",
       "      <td>315.8700</td>\n",
       "      <td>318.66</td>\n",
       "    </tr>\n",
       "    <tr>\n",
       "      <th>2020-05-22 00:00:00+00:00</th>\n",
       "      <td>금요일</td>\n",
       "      <td>318.890</td>\n",
       "      <td>319.23</td>\n",
       "      <td>315.3500</td>\n",
       "      <td>315.77</td>\n",
       "    </tr>\n",
       "  </tbody>\n",
       "</table>\n",
       "<p>1823 rows × 5 columns</p>\n",
       "</div>"
      ],
      "text/plain": [
       "                            요일    close    high       low    open\n",
       "2015-05-27 00:00:00+00:00  수요일  132.045  132.26  130.0500  130.34\n",
       "2015-05-28 00:00:00+00:00  목요일  131.780  131.95  131.1000  131.86\n",
       "2015-05-29 00:00:00+00:00  금요일  130.280  131.45  129.9000  131.23\n",
       "2015-05-30 00:00:00+00:00  토요일  130.280  131.45  129.9000  131.23\n",
       "2015-05-31 00:00:00+00:00  일요일  130.280  131.45  129.9000  131.23\n",
       "...                        ...      ...     ...       ...     ...\n",
       "2020-05-18 00:00:00+00:00  월요일  314.960  316.50  310.3241  313.17\n",
       "2020-05-19 00:00:00+00:00  화요일  313.140  318.52  313.0100  315.03\n",
       "2020-05-20 00:00:00+00:00  수요일  319.230  319.52  316.2000  316.68\n",
       "2020-05-21 00:00:00+00:00  목요일  316.850  320.89  315.8700  318.66\n",
       "2020-05-22 00:00:00+00:00  금요일  318.890  319.23  315.3500  315.77\n",
       "\n",
       "[1823 rows x 5 columns]"
      ]
     },
     "execution_count": 77,
     "metadata": {},
     "output_type": "execute_result"
    }
   ],
   "source": [
    "st_new2"
   ]
  },
  {
   "cell_type": "code",
   "execution_count": null,
   "id": "ee7e50ed-5af8-4372-9262-9bc0a062c41c",
   "metadata": {},
   "outputs": [],
   "source": []
  }
 ],
 "metadata": {
  "kernelspec": {
   "display_name": "Python 3 (ipykernel)",
   "language": "python",
   "name": "python3"
  },
  "language_info": {
   "codemirror_mode": {
    "name": "ipython",
    "version": 3
   },
   "file_extension": ".py",
   "mimetype": "text/x-python",
   "name": "python",
   "nbconvert_exporter": "python",
   "pygments_lexer": "ipython3",
   "version": "3.11.7"
  }
 },
 "nbformat": 4,
 "nbformat_minor": 5
}
