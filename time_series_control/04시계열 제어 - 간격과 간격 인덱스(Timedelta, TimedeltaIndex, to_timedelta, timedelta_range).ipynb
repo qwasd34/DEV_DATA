{
 "cells": [
  {
   "cell_type": "markdown",
   "id": "8c73dbf4",
   "metadata": {},
   "source": [
    "## Timedelta : 간격, 시간차이 \n",
    "- https://pandas.pydata.org/docs/reference/api/pandas.Timedelta.html\n",
    "- https://pandas.pydata.org/docs/user_guide/cookbook.html#timedeltas\n",
    "- 시각 - 시각 = 1월 2일 - 1월 2일 =  2일 = 시간차이\n",
    "- 시간차 + 시간차 = 1일 + 1일 = 2일 = 시간차이\n",
    "- 시간차-시간차 = 3일 - 1일 = 2일 = 시간차이"
   ]
  },
  {
   "cell_type": "code",
   "execution_count": 1,
   "id": "7f7de7b8",
   "metadata": {},
   "outputs": [],
   "source": [
    "import pandas as pd"
   ]
  },
  {
   "cell_type": "code",
   "execution_count": 3,
   "id": "85ddcaca",
   "metadata": {},
   "outputs": [],
   "source": [
    "t1=pd.Timestamp('2024-01-01')\n",
    "t2=pd.Timestamp('2024-01-30')"
   ]
  },
  {
   "cell_type": "code",
   "execution_count": 7,
   "id": "1ec75521",
   "metadata": {},
   "outputs": [
    {
     "data": {
      "text/plain": [
       "Timedelta('29 days 00:00:00')"
      ]
     },
     "execution_count": 7,
     "metadata": {},
     "output_type": "execute_result"
    }
   ],
   "source": [
    "t2-t1\n",
    "#Timddelta 가나옴"
   ]
  },
  {
   "cell_type": "markdown",
   "id": "fde4b180",
   "metadata": {},
   "source": [
    "## to_timedelta()\n",
    "- https://pandas.pydata.org/docs/reference/api/pandas.to_timedelta.html\n",
    "- https://pandas.pydata.org/docs/user_guide/timedeltas.html#to-timedelta\n",
    "\n",
    "#### `unit=` : str, optional\n",
    "- 숫자 인자 기본 단위. 기본값 'ns'\n",
    "- 'W'\n",
    "- 'D' / 'days' / 'day'\n",
    "- 'hours' / 'hour' / 'hr' / 'h'\n",
    "- 'm' / 'minute' / 'min' / 'minutes' / 'T'\n",
    "- 'S' / 'seconds' / 'sec' / 'second'\n",
    "- 'ms' / 'milliseconds' / 'millisecond' / 'milli' / 'millis' / 'L'\n",
    "- 'us' / 'microseconds' / 'microsecond' / 'micro' / 'micros' / 'U'\n",
    "- 'ns' / 'nanoseconds' / 'nano' / 'nanos' / 'nanosecond' / 'N'"
   ]
  },
  {
   "cell_type": "code",
   "execution_count": 10,
   "id": "754de31a",
   "metadata": {},
   "outputs": [],
   "source": [
    "texts = [\n",
    "    \"2d\",\n",
    "    \"2days\",\n",
    "    \"2 days\"    \n",
    "]"
   ]
  },
  {
   "cell_type": "code",
   "execution_count": 14,
   "id": "bf225763",
   "metadata": {},
   "outputs": [
    {
     "name": "stdout",
     "output_type": "stream",
     "text": [
      "2 days 00:00:00\n",
      "2 days 00:00:00\n",
      "2 days 00:00:00\n"
     ]
    }
   ],
   "source": [
    "for t in texts:\n",
    "    print(pd.to_timedelta(t))"
   ]
  },
  {
   "cell_type": "code",
   "execution_count": null,
   "id": "192fb40d",
   "metadata": {},
   "outputs": [],
   "source": []
  },
  {
   "cell_type": "code",
   "execution_count": 16,
   "id": "5647663c",
   "metadata": {},
   "outputs": [],
   "source": [
    "texts = [\n",
    "    \"5W 4D 3H 2m 1S\",\n",
    "    \"2days 4hours\",\n",
    "    [\"1D\", \"2D\", \"3D\"]\n",
    "]"
   ]
  },
  {
   "cell_type": "code",
   "execution_count": 20,
   "id": "cfb3da5a",
   "metadata": {
    "scrolled": true
   },
   "outputs": [
    {
     "name": "stdout",
     "output_type": "stream",
     "text": [
      "39 days 03:02:01\n",
      "2 days 04:00:00\n",
      "TimedeltaIndex(['1 days', '2 days', '3 days'], dtype='timedelta64[ns]', freq=None)\n"
     ]
    }
   ],
   "source": [
    "for t in texts:\n",
    "    print(pd.to_timedelta(t) )\n",
    "# 리스트는 TimedeltaIndex로 나와"
   ]
  },
  {
   "cell_type": "markdown",
   "id": "785504d6",
   "metadata": {},
   "source": [
    "### unit에 왜 Month, Year는 없을까?"
   ]
  },
  {
   "cell_type": "markdown",
   "id": "11b7d7c8",
   "metadata": {},
   "source": [
    "- 1년은 며칠?\n",
    "- 1달은 며칠?"
   ]
  },
  {
   "cell_type": "markdown",
   "id": "cd7061b9",
   "metadata": {},
   "source": [
    "## timedelta_range()\n",
    "- https://pandas.pydata.org/docs/reference/api/pandas.timedelta_range.html"
   ]
  },
  {
   "cell_type": "code",
   "execution_count": 29,
   "id": "f2ea18d7",
   "metadata": {},
   "outputs": [
    {
     "data": {
      "text/plain": [
       "TimedeltaIndex([ '1 days',  '2 days',  '3 days',  '4 days',  '5 days',\n",
       "                 '6 days',  '7 days',  '8 days',  '9 days', '10 days'],\n",
       "               dtype='timedelta64[ns]', freq='D')"
      ]
     },
     "execution_count": 29,
     "metadata": {},
     "output_type": "execute_result"
    }
   ],
   "source": [
    "# 1일 경과 2일 경과... 같은 연산을 하기위한\n",
    "pd.timedelta_range(start='1d', periods=10)"
   ]
  },
  {
   "cell_type": "code",
   "execution_count": 37,
   "id": "ba5add9a",
   "metadata": {},
   "outputs": [
    {
     "data": {
      "text/plain": [
       "TimedeltaIndex(['1 days 00:00:00', '1 days 01:00:00', '1 days 02:00:00',\n",
       "                '1 days 03:00:00', '1 days 04:00:00', '1 days 05:00:00',\n",
       "                '1 days 06:00:00', '1 days 07:00:00', '1 days 08:00:00',\n",
       "                '1 days 09:00:00'],\n",
       "               dtype='timedelta64[ns]', freq='H')"
      ]
     },
     "execution_count": 37,
     "metadata": {},
     "output_type": "execute_result"
    }
   ],
   "source": [
    "# 시도 : 1시간 경과 2시간 경과... 같은 연산을 하기위한\n",
    "pd.timedelta_range(start='1d' ,periods=10 , freq='1h')"
   ]
  },
  {
   "cell_type": "code",
   "execution_count": null,
   "id": "9a397b8a",
   "metadata": {},
   "outputs": [],
   "source": [
    "# 1시간 경과 2시간 경과... 같은 연산을 하기위한\n"
   ]
  },
  {
   "cell_type": "code",
   "execution_count": 39,
   "id": "18020f13",
   "metadata": {},
   "outputs": [
    {
     "data": {
      "text/plain": [
       "TimedeltaIndex(['1 days 00:00:00', '1 days 10:00:00', '1 days 20:00:00',\n",
       "                '2 days 06:00:00', '2 days 16:00:00', '3 days 02:00:00',\n",
       "                '3 days 12:00:00', '3 days 22:00:00', '4 days 08:00:00',\n",
       "                '4 days 18:00:00'],\n",
       "               dtype='timedelta64[ns]', freq='10H')"
      ]
     },
     "execution_count": 39,
     "metadata": {},
     "output_type": "execute_result"
    }
   ],
   "source": [
    "# 10시간 경과 20시간 경과... 같은 연산을 하기위한\n",
    "pd.timedelta_range(start='1d' ,periods=10 , freq='10h')"
   ]
  },
  {
   "cell_type": "code",
   "execution_count": 41,
   "id": "24c9ca65",
   "metadata": {
    "scrolled": true
   },
   "outputs": [
    {
     "data": {
      "text/plain": [
       "TimedeltaIndex([ '1 days 00:00:00',  '3 days 06:00:00',  '5 days 12:00:00',\n",
       "                 '7 days 18:00:00', '10 days 00:00:00'],\n",
       "               dtype='timedelta64[ns]', freq=None)"
      ]
     },
     "execution_count": 41,
     "metadata": {},
     "output_type": "execute_result"
    }
   ],
   "source": [
    "# freq은 모르겠고, 1일~10일을 5영역으로 나누고 싶다면\n",
    "pd.timedelta_range(start='1d' , end='10d' ,periods=5)"
   ]
  },
  {
   "cell_type": "markdown",
   "id": "1e16c32d",
   "metadata": {},
   "source": [
    "## `closed=` \n",
    "- 끝점의 포함 여부\n",
    "-  'left', 'right', None(both)\n",
    "    - None: 기본값. 끝점 모두 포함.\n",
    "    - 'left': 시작점을 포함.\n",
    "    - 'right': 종료점을 포함."
   ]
  },
  {
   "cell_type": "code",
   "execution_count": 45,
   "id": "aad7d8cb",
   "metadata": {
    "scrolled": true
   },
   "outputs": [
    {
     "data": {
      "text/plain": [
       "TimedeltaIndex([ '1 days 00:00:00',  '3 days 06:00:00',  '5 days 12:00:00',\n",
       "                 '7 days 18:00:00', '10 days 00:00:00'],\n",
       "               dtype='timedelta64[ns]', freq=None)"
      ]
     },
     "execution_count": 45,
     "metadata": {},
     "output_type": "execute_result"
    }
   ],
   "source": [
    "# freq은 모르겠고, 1일~10일을 5영역으로 나누고 싶다면 + 양끝점 포함\n",
    "pd.timedelta_range(start='1d' , end='10d' ,periods=5 ,closed=None)"
   ]
  },
  {
   "cell_type": "code",
   "execution_count": 47,
   "id": "47a69570",
   "metadata": {},
   "outputs": [
    {
     "data": {
      "text/plain": [
       "TimedeltaIndex(['3 days 06:00:00', '5 days 12:00:00', '7 days 18:00:00',\n",
       "                '10 days 00:00:00'],\n",
       "               dtype='timedelta64[ns]', freq=None)"
      ]
     },
     "execution_count": 47,
     "metadata": {},
     "output_type": "execute_result"
    }
   ],
   "source": [
    "# freq은 모르겠고, 1일~10일을 5영역으로 나누고 싶다면 + 종료점 포함\n",
    "pd.timedelta_range(start='1d' , end='10d' ,periods=5 ,closed='right')"
   ]
  },
  {
   "cell_type": "code",
   "execution_count": 49,
   "id": "88b26d7d",
   "metadata": {},
   "outputs": [
    {
     "data": {
      "text/plain": [
       "TimedeltaIndex(['1 days 00:00:00', '3 days 06:00:00', '5 days 12:00:00',\n",
       "                '7 days 18:00:00'],\n",
       "               dtype='timedelta64[ns]', freq=None)"
      ]
     },
     "execution_count": 49,
     "metadata": {},
     "output_type": "execute_result"
    }
   ],
   "source": [
    "# freq은 모르겠고, 1일~10일을 5영역으로 나누고 싶다면 + 시작점 포함\n",
    "pd.timedelta_range(start='1d' , end='10d' ,periods=5 ,closed='left')"
   ]
  },
  {
   "cell_type": "code",
   "execution_count": null,
   "id": "97630443-9e36-4f7f-887e-733df2acf4ed",
   "metadata": {},
   "outputs": [],
   "source": []
  }
 ],
 "metadata": {
  "kernelspec": {
   "display_name": "Python 3 (ipykernel)",
   "language": "python",
   "name": "python3"
  },
  "language_info": {
   "codemirror_mode": {
    "name": "ipython",
    "version": 3
   },
   "file_extension": ".py",
   "mimetype": "text/x-python",
   "name": "python",
   "nbconvert_exporter": "python",
   "pygments_lexer": "ipython3",
   "version": "3.11.7"
  }
 },
 "nbformat": 4,
 "nbformat_minor": 5
}
